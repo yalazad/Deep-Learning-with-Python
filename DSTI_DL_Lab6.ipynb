{
 "cells": [
  {
   "cell_type": "markdown",
   "metadata": {
    "id": "QYZjzA-LQ3yq"
   },
   "source": [
    "# MNIST handwritten digits classification with regularized MLPs\n",
    "\n",
    "In this notebook, we'll train a multi-layer perceptron model to classify MNIST digits using **PyTorch**.\n",
    "\n",
    "The neural network will be regularized with\n",
    "\n",
    "\n",
    "1.   Dropout\n",
    "2.   Batchnormalization\n",
    "\n",
    "\n",
    "\n"
   ]
  },
  {
   "cell_type": "markdown",
   "metadata": {
    "id": "uEtfy2Y5KrXS"
   },
   "source": [
    "First, the needed imports. "
   ]
  },
  {
   "cell_type": "code",
   "execution_count": 1,
   "metadata": {
    "colab": {
     "base_uri": "https://localhost:8080/",
     "height": 34
    },
    "executionInfo": {
     "elapsed": 4522,
     "status": "ok",
     "timestamp": 1602009157334,
     "user": {
      "displayName": "Lionel Fillatre",
      "photoUrl": "",
      "userId": "14463393848879581998"
     },
     "user_tz": -120
    },
    "id": "qrZvRCTBQ3yt",
    "outputId": "6b954d87-038e-4aa7-fe81-fa30b5d84020"
   },
   "outputs": [
    {
     "name": "stdout",
     "output_type": "stream",
     "text": [
      "Using PyTorch version: 1.6.0  Device: cuda\n"
     ]
    }
   ],
   "source": [
    "%matplotlib inline\n",
    "\n",
    "import torch\n",
    "import torch.nn as nn\n",
    "import torch.nn.functional as F\n",
    "from torchvision import datasets, transforms\n",
    "#import seaborn as sns\n",
    "#sns.set()\n",
    "\n",
    "import numpy as np\n",
    "import matplotlib.pyplot as plt\n",
    "\n",
    "if torch.cuda.is_available():\n",
    "    device = torch.device('cuda')\n",
    "else:\n",
    "    device = torch.device('cpu')\n",
    "    \n",
    "print('Using PyTorch version:', torch.__version__, ' Device:', device)"
   ]
  },
  {
   "cell_type": "markdown",
   "metadata": {
    "id": "Y0chwSkbQ3yx"
   },
   "source": [
    "## Data\n",
    "\n",
    "Next we'll load the MNIST data.  First time we may have to download the data, which can take a while.\n",
    "\n",
    "Note that we are here using the MNIST test data for *validation*, instead of for testing the final model."
   ]
  },
  {
   "cell_type": "code",
   "execution_count": 2,
   "metadata": {
    "colab": {
     "base_uri": "https://localhost:8080/",
     "height": 386,
     "referenced_widgets": [
      "5c04eed952c4483c92a70d658ad05e23",
      "5b4c1eb14f5844f8b0b20cbaff901aca",
      "c45c54f9cfe54e879cf46019b518aa38",
      "ee1ea874911a4c7e95e5f647b5146b72",
      "548939caeb1a42cc896bbbadf7daf371",
      "ef63156a97dc4686a8cdcd927523a860",
      "0039744f28dd4a3381350e64d987455b",
      "453725b4ff8e443294a87a8a0219eeab",
      "38ac067936c84c0b99c244e3766444cd",
      "c76324a73fad4942a8ed4d1ad988f50a",
      "8e76ec41f68748fdb85d6cdd58c2dbb5",
      "149d1102614f49c0a797518248630797",
      "d3f5d416e4a04ea58d8bc697991e3c54",
      "9d02ad6398554299b73291f461834574",
      "0f44581811214bd5b0b4b0cd83349532",
      "b85517c23a2f432396dd0a013ae9789d",
      "a1cd7e22c3374bb8b1e1c1a353ebfb1b",
      "0887658552fa4aaa82e7f1ae79ba36e7",
      "0841ce5031de4563bf275213b0a1c0bc",
      "0430172cbb534442be4529983e3a94e8",
      "05ef5326e53a49d3a93aa86ea39522cc",
      "7313ba4287ef4cc69bca0895bb18a195",
      "a1dee2f3d06c4aa3a2dc885a22207823",
      "aa5dfed890284c43a4dcb1b75d5eedde",
      "34346488933e44ada61d5387e58ecf5f",
      "0ebbe13f2d664976bc0cdb999c5752ec",
      "0b7177709f4b4c89810fc9fbf18273ac",
      "ea9c564eab4042a89221485a37332a06",
      "4c69b4f19bc34592bf0a21dbbbfba0dc",
      "a3b858984e9d405e8e6a289934e16a64",
      "25f79a07d35a4b6b902019687cc1f574",
      "3abf210dd9a84a88868ffee1a4c7a38d"
     ]
    },
    "executionInfo": {
     "elapsed": 7365,
     "status": "ok",
     "timestamp": 1602009160188,
     "user": {
      "displayName": "Lionel Fillatre",
      "photoUrl": "",
      "userId": "14463393848879581998"
     },
     "user_tz": -120
    },
    "id": "CyqByXDlQ3yy",
    "outputId": "88577b5f-0065-4d37-e1a2-1ce5e7369fc5"
   },
   "outputs": [],
   "source": [
    "batch_size = 32\n",
    "\n",
    "train_dataset = datasets.MNIST('./data', \n",
    "                               train=True, \n",
    "                               download=True, \n",
    "                               transform=transforms.ToTensor())\n",
    "\n",
    "validation_dataset = datasets.MNIST('./data', \n",
    "                                    train=False, \n",
    "                                    transform=transforms.ToTensor())\n",
    "\n",
    "train_loader = torch.utils.data.DataLoader(dataset=train_dataset, \n",
    "                                           batch_size=batch_size, \n",
    "                                           shuffle=True)\n",
    "\n",
    "validation_loader = torch.utils.data.DataLoader(dataset=validation_dataset, \n",
    "                                                batch_size=batch_size, \n",
    "                                                shuffle=False)"
   ]
  },
  {
   "cell_type": "markdown",
   "metadata": {
    "id": "R5RUIpKiQ3y1"
   },
   "source": [
    "The train and test data are provided via data loaders that provide iterators over the datasets. The first element of training data (`X_train`) is a 4th-order tensor of size (`batch_size`, 1, 28, 28), i.e. it consists of a batch of images of size 1x28x28 pixels. `y_train` is a vector containing the correct classes (\"0\", \"1\", ..., \"9\") for each training digit."
   ]
  },
  {
   "cell_type": "code",
   "execution_count": 3,
   "metadata": {
    "colab": {
     "base_uri": "https://localhost:8080/",
     "height": 51
    },
    "executionInfo": {
     "elapsed": 7361,
     "status": "ok",
     "timestamp": 1602009160189,
     "user": {
      "displayName": "Lionel Fillatre",
      "photoUrl": "",
      "userId": "14463393848879581998"
     },
     "user_tz": -120
    },
    "id": "rpWAQsC5Q3y2",
    "outputId": "758b85f9-2882-4933-c9d2-b986701f996c"
   },
   "outputs": [
    {
     "name": "stdout",
     "output_type": "stream",
     "text": [
      "X_train: torch.Size([32, 1, 28, 28]) type: torch.FloatTensor\n",
      "y_train: torch.Size([32]) type: torch.LongTensor\n"
     ]
    }
   ],
   "source": [
    "for (X_train, y_train) in train_loader:\n",
    "    print('X_train:', X_train.size(), 'type:', X_train.type())\n",
    "    X_train\n",
    "    print('y_train:', y_train.size(), 'type:', y_train.type())\n",
    "    break"
   ]
  },
  {
   "cell_type": "markdown",
   "metadata": {
    "id": "l-HI9wwyQ3y4"
   },
   "source": [
    "Here are the first 10 training digits:"
   ]
  },
  {
   "cell_type": "code",
   "execution_count": 4,
   "metadata": {
    "colab": {
     "base_uri": "https://localhost:8080/",
     "height": 145
    },
    "executionInfo": {
     "elapsed": 7829,
     "status": "ok",
     "timestamp": 1602009160663,
     "user": {
      "displayName": "Lionel Fillatre",
      "photoUrl": "",
      "userId": "14463393848879581998"
     },
     "user_tz": -120
    },
    "id": "bEwHbv16Q3y6",
    "outputId": "aca6b1c4-d621-49b7-eb1a-cb1caf7f13d5"
   },
   "outputs": [
    {
     "data": {
      "image/png": "[encoded data removed]",
      "text/plain": [
       "<Figure size 720x72 with 10 Axes>"
      ]
     },
     "metadata": {
      "needs_background": "light"
     },
     "output_type": "display_data"
    }
   ],
   "source": [
    "pltsize=1\n",
    "plt.figure(figsize=(10*pltsize, pltsize))\n",
    "\n",
    "for i in range(10):\n",
    "    plt.subplot(1,10,i+1)\n",
    "    plt.axis('off')\n",
    "    plt.imshow(X_train[i,:,:,:].numpy().reshape(28,28), cmap=\"gray\")\n",
    "    plt.title('Class: '+str(y_train[i].item()))"
   ]
  },
  {
   "cell_type": "markdown",
   "metadata": {
    "id": "Lj0u1Y9uQ3y9"
   },
   "source": [
    "## MLP network definition\n",
    "\n",
    "Let's define the network as a Python class.  We have to write the `__init__()` and `forward()` methods, and PyTorch will automatically generate a `backward()` method for computing the gradients for the backward pass.\n",
    "\n",
    "Finally, we define an optimizer to update the model parameters based on the computed gradients.  We select *stochastic gradient descent (with momentum)* as the optimization algorithm, and set *learning rate* to 0.01.  Note that there are [several different options](http://pytorch.org/docs/optim.html#algorithms) for the optimizer in PyTorch that we could use instead of *SGD*."
   ]
  },
  {
   "cell_type": "markdown",
   "metadata": {
    "id": "FB_060a0LkaB"
   },
   "source": [
    "#### Question: Complete the missing blocks in the definition of the  convNet architecture \n",
    "\n",
    "The neural network should be composed as (FullyConnected 256 -> ReLU -> Fully Connected 256 -> ReLU -> Fully Connected 10 -> softmax)"
   ]
  },
  {
   "cell_type": "code",
   "execution_count": 43,
   "metadata": {
    "colab": {
     "base_uri": "https://localhost:8080/",
     "height": 375
    },
    "executionInfo": {
     "elapsed": 8282,
     "status": "error",
     "timestamp": 1602009161122,
     "user": {
      "displayName": "Lionel Fillatre",
      "photoUrl": "",
      "userId": "14463393848879581998"
     },
     "user_tz": -120
    },
    "id": "ERvvxFlPQ3y-",
    "outputId": "e683e122-433a-4918-9ef3-e5a22bc2b441"
   },
   "outputs": [
    {
     "name": "stdout",
     "output_type": "stream",
     "text": [
      "Net(\n",
      "  (fc1): Linear(in_features=784, out_features=256, bias=True)\n",
      "  (fc2): Linear(in_features=256, out_features=256, bias=True)\n",
      "  (fc3): Linear(in_features=256, out_features=10, bias=True)\n",
      ")\n"
     ]
    }
   ],
   "source": [
    "H1 = 256\n",
    "H2 = 256 \n",
    "\n",
    "class Net(nn.Module):\n",
    "    def __init__(self):\n",
    "        super(Net, self).__init__()\n",
    "        # To complete\n",
    "        self.fc1 = nn.Linear(1*28*28, H1)\n",
    "        self.fc2 = nn.Linear(H1, H2)\n",
    "        self.fc3 = nn.Linear(H2, 10)\n",
    "\n",
    "    def forward(self, x):\n",
    "        # To complete\n",
    "        x = x.view(-1,784)\n",
    "        x = F.relu(self.fc1(x))\n",
    "        x = F.relu(self.fc2(x))\n",
    "        x = self.fc3(x)\n",
    "        # x = F.log_softmax(self.fc3(x),dim=1) - aleady done by the crossentropy by pytorch\n",
    "\n",
    "        return x\n",
    "    \n",
    "    # To complete\n",
    "\n",
    "model = Net().to(device)\n",
    "optimizer = torch.optim.SGD(model.parameters(), lr=0.01, momentum=0.9)\n",
    "criterion = nn.CrossEntropyLoss()\n",
    "\n",
    "print(model)"
   ]
  },
  {
   "cell_type": "markdown",
   "metadata": {
    "id": "bbnPlkshVtS1"
   },
   "source": [
    "### Question: Complete the missing blocks in the definition of the \"DropoutNet\" architecture\n",
    "\n",
    "The neural network should be composed as (FullyConnected 256 -> ReLU -> Dropout (0.2) -> Fully Connected 256 -> ReLU -> Dropout (0.5) -> Fully Connected 10 -> softmax)"
   ]
  },
  {
   "cell_type": "code",
   "execution_count": 44,
   "metadata": {
    "executionInfo": {
     "elapsed": 8271,
     "status": "aborted",
     "timestamp": 1602009161117,
     "user": {
      "displayName": "Lionel Fillatre",
      "photoUrl": "",
      "userId": "14463393848879581998"
     },
     "user_tz": -120
    },
    "id": "bEK5kptoSYfe"
   },
   "outputs": [
    {
     "name": "stdout",
     "output_type": "stream",
     "text": [
      "NetDrop(\n",
      "  (fc1): Linear(in_features=784, out_features=256, bias=True)\n",
      "  (dp1): Dropout(p=0.2, inplace=False)\n",
      "  (fc2): Linear(in_features=256, out_features=256, bias=True)\n",
      "  (dp2): Dropout(p=0.5, inplace=False)\n",
      "  (fc3): Linear(in_features=256, out_features=10, bias=True)\n",
      ")\n"
     ]
    }
   ],
   "source": [
    "class NetDrop(nn.Module):\n",
    "    def __init__(self):\n",
    "        super(NetDrop, self).__init__()\n",
    "        # To complete\n",
    "        self.fc1 = nn.Linear(1*28*28, H1)\n",
    "        self.dp1 = nn.Dropout(.2)\n",
    "        self.fc2 = nn.Linear(H1, H2)\n",
    "        self.dp2 = nn.Dropout(.5)\n",
    "        self.fc3 = nn.Linear(H2, 10)\n",
    "\n",
    "    def forward(self, x):\n",
    "        # To complete\n",
    "        x = x.view(-1,784)\n",
    "        x = F.relu(self.fc1(x))\n",
    "        x = self.dp1(x)\n",
    "        x = F.relu(self.fc2(x))\n",
    "        x = self.dp2(x)\n",
    "        x = self.fc3(x)\n",
    "        # x = F.log_softmax(self.fc3(x),dim=1) - aleady done by the crossentropy by pytorch\n",
    "        return  x\n",
    "\n",
    "modelDrop = NetDrop().to(device)\n",
    "optimizerDrop = torch.optim.SGD(modelDrop.parameters(), lr=0.01, momentum=0.)\n",
    "\n",
    "print(modelDrop)"
   ]
  },
  {
   "cell_type": "markdown",
   "metadata": {
    "id": "p1u8Y6ydL_L8"
   },
   "source": [
    "### Question: Complete the missing blocks in the definition of the  \"Batchnormalization\" architecture\n",
    "\n",
    "The neural network should be composed as (FullyConnected 256 -> ReLU -> Batchnorm -> Fully Connected 256 -> ReLU -> Batchnorm -> Fully Connected 10 -> softmax)"
   ]
  },
  {
   "cell_type": "code",
   "execution_count": 45,
   "metadata": {
    "executionInfo": {
     "elapsed": 8265,
     "status": "aborted",
     "timestamp": 1602009161117,
     "user": {
      "displayName": "Lionel Fillatre",
      "photoUrl": "",
      "userId": "14463393848879581998"
     },
     "user_tz": -120
    },
    "id": "rcnP7ZRwMIu_"
   },
   "outputs": [
    {
     "name": "stdout",
     "output_type": "stream",
     "text": [
      "NetBatchNorm(\n",
      "  (fc1): Linear(in_features=784, out_features=256, bias=True)\n",
      "  (bn1): BatchNorm1d(256, eps=1e-05, momentum=0.1, affine=True, track_running_stats=True)\n",
      "  (fc2): Linear(in_features=256, out_features=256, bias=True)\n",
      "  (bn2): BatchNorm1d(256, eps=1e-05, momentum=0.1, affine=True, track_running_stats=True)\n",
      "  (fc3): Linear(in_features=256, out_features=10, bias=True)\n",
      ")\n"
     ]
    }
   ],
   "source": [
    "class NetBatchNorm(nn.Module):\n",
    "    def __init__(self):\n",
    "        super(NetBatchNorm, self).__init__()\n",
    "        # To complete\n",
    "        self.fc1 = nn.Linear(1*28*28, H1)\n",
    "        self.bn1 = nn.BatchNorm1d(H1) # 1d because an image is a vector after transfo from 28*28 -> 784\n",
    "        self.fc2 = nn.Linear(H1, H2)\n",
    "        self.bn2 = nn.BatchNorm1d(H2)\n",
    "        self.fc3 = nn.Linear(H2, 10)\n",
    "\n",
    "    def forward(self, x):\n",
    "        # To complete\n",
    "        x = x.view(-1,784)\n",
    "        x = F.relu(self.fc1(x))\n",
    "        x = self.bn1(x)\n",
    "        x = F.relu(self.fc2(x))\n",
    "        x = self.bn2(x)\n",
    "        x = self.fc3(x)\n",
    "        # x = F.log_softmax(self.fc3(x),dim=1) - aleady done by the crossentropy by pytorch\n",
    "        return  x\n",
    "\n",
    "\n",
    "modelBatchNorm = NetBatchNorm().to(device)\n",
    "optimizerBatchNorm = torch.optim.SGD(modelBatchNorm.parameters(), lr=0.01, momentum=0.)\n",
    "\n",
    "print(modelBatchNorm)"
   ]
  },
  {
   "cell_type": "markdown",
   "metadata": {
    "id": "jOwerJmYQ3zA"
   },
   "source": [
    "## Learning\n",
    "\n",
    "Let's now define functions to `train()` and `test()` the model. "
   ]
  },
  {
   "cell_type": "code",
   "execution_count": 17,
   "metadata": {
    "executionInfo": {
     "elapsed": 8263,
     "status": "aborted",
     "timestamp": 1602009161118,
     "user": {
      "displayName": "Lionel Fillatre",
      "photoUrl": "",
      "userId": "14463393848879581998"
     },
     "user_tz": -120
    },
    "id": "eyA6cc6kQ3zB"
   },
   "outputs": [],
   "source": [
    "def train(model, optimizer, epoch, log_interval=200):\n",
    "    # Set model to training mode\n",
    "    model.train()\n",
    "    \n",
    "    # Loop over each batch from the training set\n",
    "    for batch_idx, (data, target) in enumerate(train_loader):\n",
    "        # Copy data to GPU if needed\n",
    "        data = data.to(device)\n",
    "        target = target.to(device)\n",
    "\n",
    "        # Zero gradient buffers\n",
    "        optimizer.zero_grad() \n",
    "        \n",
    "        # Pass data through the network\n",
    "        output = model(data)\n",
    "\n",
    "        # Calculate loss\n",
    "        loss = criterion(output, target)\n",
    "\n",
    "        # Backpropagate\n",
    "        loss.backward()\n",
    "        \n",
    "        # Update weights\n",
    "        optimizer.step()\n",
    "        \n",
    "        if batch_idx % log_interval == 0:\n",
    "            print('Train Epoch: {} [{}/{} ({:.0f}%)]\\tLoss: {:.6f}'.format(\n",
    "                epoch, batch_idx * len(data), len(train_loader.dataset),\n",
    "                100. * batch_idx / len(train_loader), loss.data.item()))"
   ]
  },
  {
   "cell_type": "code",
   "execution_count": 18,
   "metadata": {
    "executionInfo": {
     "elapsed": 8262,
     "status": "aborted",
     "timestamp": 1602009161119,
     "user": {
      "displayName": "Lionel Fillatre",
      "photoUrl": "",
      "userId": "14463393848879581998"
     },
     "user_tz": -120
    },
    "id": "GZpI82dgQ3zE"
   },
   "outputs": [],
   "source": [
    "def validate(model, loss_vector, accuracy_vector):\n",
    "    model.eval()\n",
    "    val_loss, correct = 0, 0\n",
    "    for data, target in validation_loader:\n",
    "        data = data.to(device)\n",
    "        target = target.to(device)\n",
    "        output = model(data)\n",
    "        val_loss += criterion(output, target).data.item()\n",
    "        pred = output.data.max(1)[1] # get the index of the max log-probability\n",
    "        correct += pred.eq(target.data).cpu().sum()\n",
    "\n",
    "    val_loss /= len(validation_loader)\n",
    "    loss_vector.append(val_loss)\n",
    "\n",
    "    accuracy = 100. * correct.to(torch.float32) / len(validation_loader.dataset)\n",
    "    accuracy_vector.append(accuracy)\n",
    "    \n",
    "    print('\\nValidation set: Average loss: {:.4f}, Accuracy: {}/{} ({:.0f}%)\\n'.format(\n",
    "        val_loss, correct, len(validation_loader.dataset), accuracy))\n"
   ]
  },
  {
   "cell_type": "markdown",
   "metadata": {
    "id": "RpE7EGviQ3zF"
   },
   "source": [
    "Now we are ready to train our model using the `train()` function.  An *epoch* means one pass through the whole training data. After each epoch, we evaluate the model using `test()`. "
   ]
  },
  {
   "cell_type": "markdown",
   "metadata": {
    "id": "Ls0lR3WvVVZQ"
   },
   "source": [
    "Training without Dropout"
   ]
  },
  {
   "cell_type": "code",
   "execution_count": 50,
   "metadata": {
    "executionInfo": {
     "elapsed": 8257,
     "status": "aborted",
     "timestamp": 1602009161120,
     "user": {
      "displayName": "Lionel Fillatre",
      "photoUrl": "",
      "userId": "14463393848879581998"
     },
     "user_tz": -120
    },
    "id": "uFPAF_CNQ3zG"
   },
   "outputs": [
    {
     "name": "stdout",
     "output_type": "stream",
     "text": [
      "Train Epoch: 1 [0/60000 (0%)]\tLoss: 0.008989\n",
      "Train Epoch: 1 [6400/60000 (11%)]\tLoss: 0.018003\n",
      "Train Epoch: 1 [12800/60000 (21%)]\tLoss: 0.008424\n",
      "Train Epoch: 1 [19200/60000 (32%)]\tLoss: 0.005762\n",
      "Train Epoch: 1 [25600/60000 (43%)]\tLoss: 0.096601\n",
      "Train Epoch: 1 [32000/60000 (53%)]\tLoss: 0.006013\n",
      "Train Epoch: 1 [38400/60000 (64%)]\tLoss: 0.233157\n",
      "Train Epoch: 1 [44800/60000 (75%)]\tLoss: 0.094921\n",
      "Train Epoch: 1 [51200/60000 (85%)]\tLoss: 0.010604\n",
      "Train Epoch: 1 [57600/60000 (96%)]\tLoss: 0.010257\n",
      "\n",
      "Validation set: Average loss: 0.0728, Accuracy: 9768/10000 (98%)\n",
      "\n",
      "Train Epoch: 2 [0/60000 (0%)]\tLoss: 0.028284\n",
      "Train Epoch: 2 [6400/60000 (11%)]\tLoss: 0.023252\n",
      "Train Epoch: 2 [12800/60000 (21%)]\tLoss: 0.001451\n",
      "Train Epoch: 2 [19200/60000 (32%)]\tLoss: 0.007762\n",
      "Train Epoch: 2 [25600/60000 (43%)]\tLoss: 0.106035\n",
      "Train Epoch: 2 [32000/60000 (53%)]\tLoss: 0.046676\n",
      "Train Epoch: 2 [38400/60000 (64%)]\tLoss: 0.004924\n",
      "Train Epoch: 2 [44800/60000 (75%)]\tLoss: 0.008499\n",
      "Train Epoch: 2 [51200/60000 (85%)]\tLoss: 0.034771\n",
      "Train Epoch: 2 [57600/60000 (96%)]\tLoss: 0.027934\n",
      "\n",
      "Validation set: Average loss: 0.0651, Accuracy: 9791/10000 (98%)\n",
      "\n",
      "Train Epoch: 3 [0/60000 (0%)]\tLoss: 0.059621\n",
      "Train Epoch: 3 [6400/60000 (11%)]\tLoss: 0.005630\n",
      "Train Epoch: 3 [12800/60000 (21%)]\tLoss: 0.028338\n",
      "Train Epoch: 3 [19200/60000 (32%)]\tLoss: 0.052366\n",
      "Train Epoch: 3 [25600/60000 (43%)]\tLoss: 0.021116\n",
      "Train Epoch: 3 [32000/60000 (53%)]\tLoss: 0.149732\n",
      "Train Epoch: 3 [38400/60000 (64%)]\tLoss: 0.042064\n",
      "Train Epoch: 3 [44800/60000 (75%)]\tLoss: 0.023514\n",
      "Train Epoch: 3 [51200/60000 (85%)]\tLoss: 0.021443\n",
      "Train Epoch: 3 [57600/60000 (96%)]\tLoss: 0.002224\n",
      "\n",
      "Validation set: Average loss: 0.0654, Accuracy: 9791/10000 (98%)\n",
      "\n",
      "Train Epoch: 4 [0/60000 (0%)]\tLoss: 0.004524\n",
      "Train Epoch: 4 [6400/60000 (11%)]\tLoss: 0.005934\n",
      "Train Epoch: 4 [12800/60000 (21%)]\tLoss: 0.023358\n",
      "Train Epoch: 4 [19200/60000 (32%)]\tLoss: 0.018894\n",
      "Train Epoch: 4 [25600/60000 (43%)]\tLoss: 0.043608\n",
      "Train Epoch: 4 [32000/60000 (53%)]\tLoss: 0.005040\n",
      "Train Epoch: 4 [38400/60000 (64%)]\tLoss: 0.006333\n",
      "Train Epoch: 4 [44800/60000 (75%)]\tLoss: 0.007039\n",
      "Train Epoch: 4 [51200/60000 (85%)]\tLoss: 0.050041\n",
      "Train Epoch: 4 [57600/60000 (96%)]\tLoss: 0.008625\n",
      "\n",
      "Validation set: Average loss: 0.0681, Accuracy: 9793/10000 (98%)\n",
      "\n",
      "Train Epoch: 5 [0/60000 (0%)]\tLoss: 0.043050\n",
      "Train Epoch: 5 [6400/60000 (11%)]\tLoss: 0.010892\n",
      "Train Epoch: 5 [12800/60000 (21%)]\tLoss: 0.042107\n",
      "Train Epoch: 5 [19200/60000 (32%)]\tLoss: 0.009652\n",
      "Train Epoch: 5 [25600/60000 (43%)]\tLoss: 0.016954\n",
      "Train Epoch: 5 [32000/60000 (53%)]\tLoss: 0.070075\n",
      "Train Epoch: 5 [38400/60000 (64%)]\tLoss: 0.048365\n",
      "Train Epoch: 5 [44800/60000 (75%)]\tLoss: 0.008272\n",
      "Train Epoch: 5 [51200/60000 (85%)]\tLoss: 0.000756\n",
      "Train Epoch: 5 [57600/60000 (96%)]\tLoss: 0.005493\n",
      "\n",
      "Validation set: Average loss: 0.0698, Accuracy: 9801/10000 (98%)\n",
      "\n",
      "Train Epoch: 6 [0/60000 (0%)]\tLoss: 0.054548\n",
      "Train Epoch: 6 [6400/60000 (11%)]\tLoss: 0.002116\n",
      "Train Epoch: 6 [12800/60000 (21%)]\tLoss: 0.004447\n",
      "Train Epoch: 6 [19200/60000 (32%)]\tLoss: 0.101596\n",
      "Train Epoch: 6 [25600/60000 (43%)]\tLoss: 0.001343\n",
      "Train Epoch: 6 [32000/60000 (53%)]\tLoss: 0.009553\n",
      "Train Epoch: 6 [38400/60000 (64%)]\tLoss: 0.028816\n",
      "Train Epoch: 6 [44800/60000 (75%)]\tLoss: 0.035833\n",
      "Train Epoch: 6 [51200/60000 (85%)]\tLoss: 0.011262\n",
      "Train Epoch: 6 [57600/60000 (96%)]\tLoss: 0.001845\n",
      "\n",
      "Validation set: Average loss: 0.0625, Accuracy: 9822/10000 (98%)\n",
      "\n",
      "Train Epoch: 7 [0/60000 (0%)]\tLoss: 0.003255\n",
      "Train Epoch: 7 [6400/60000 (11%)]\tLoss: 0.008918\n",
      "Train Epoch: 7 [12800/60000 (21%)]\tLoss: 0.018300\n",
      "Train Epoch: 7 [19200/60000 (32%)]\tLoss: 0.009274\n",
      "Train Epoch: 7 [25600/60000 (43%)]\tLoss: 0.022576\n",
      "Train Epoch: 7 [32000/60000 (53%)]\tLoss: 0.000579\n",
      "Train Epoch: 7 [38400/60000 (64%)]\tLoss: 0.002977\n",
      "Train Epoch: 7 [44800/60000 (75%)]\tLoss: 0.000906\n",
      "Train Epoch: 7 [51200/60000 (85%)]\tLoss: 0.006048\n",
      "Train Epoch: 7 [57600/60000 (96%)]\tLoss: 0.003375\n",
      "\n",
      "Validation set: Average loss: 0.0634, Accuracy: 9822/10000 (98%)\n",
      "\n",
      "Train Epoch: 8 [0/60000 (0%)]\tLoss: 0.022794\n",
      "Train Epoch: 8 [6400/60000 (11%)]\tLoss: 0.003124\n",
      "Train Epoch: 8 [12800/60000 (21%)]\tLoss: 0.001985\n",
      "Train Epoch: 8 [19200/60000 (32%)]\tLoss: 0.007004\n",
      "Train Epoch: 8 [25600/60000 (43%)]\tLoss: 0.000177\n",
      "Train Epoch: 8 [32000/60000 (53%)]\tLoss: 0.003026\n",
      "Train Epoch: 8 [38400/60000 (64%)]\tLoss: 0.004740\n",
      "Train Epoch: 8 [44800/60000 (75%)]\tLoss: 0.003905\n",
      "Train Epoch: 8 [51200/60000 (85%)]\tLoss: 0.005185\n",
      "Train Epoch: 8 [57600/60000 (96%)]\tLoss: 0.000138\n",
      "\n",
      "Validation set: Average loss: 0.0648, Accuracy: 9822/10000 (98%)\n",
      "\n",
      "Train Epoch: 9 [0/60000 (0%)]\tLoss: 0.000118\n",
      "Train Epoch: 9 [6400/60000 (11%)]\tLoss: 0.012479\n",
      "Train Epoch: 9 [12800/60000 (21%)]\tLoss: 0.000168\n",
      "Train Epoch: 9 [19200/60000 (32%)]\tLoss: 0.000339\n",
      "Train Epoch: 9 [25600/60000 (43%)]\tLoss: 0.000951\n",
      "Train Epoch: 9 [32000/60000 (53%)]\tLoss: 0.001012\n",
      "Train Epoch: 9 [38400/60000 (64%)]\tLoss: 0.005709\n",
      "Train Epoch: 9 [44800/60000 (75%)]\tLoss: 0.001006\n",
      "Train Epoch: 9 [51200/60000 (85%)]\tLoss: 0.006216\n",
      "Train Epoch: 9 [57600/60000 (96%)]\tLoss: 0.000632\n",
      "\n",
      "Validation set: Average loss: 0.0677, Accuracy: 9822/10000 (98%)\n",
      "\n",
      "Train Epoch: 10 [0/60000 (0%)]\tLoss: 0.001172\n",
      "Train Epoch: 10 [6400/60000 (11%)]\tLoss: 0.002086\n",
      "Train Epoch: 10 [12800/60000 (21%)]\tLoss: 0.001036\n",
      "Train Epoch: 10 [19200/60000 (32%)]\tLoss: 0.008157\n",
      "Train Epoch: 10 [25600/60000 (43%)]\tLoss: 0.000900\n",
      "Train Epoch: 10 [32000/60000 (53%)]\tLoss: 0.001205\n",
      "Train Epoch: 10 [38400/60000 (64%)]\tLoss: 0.001933\n",
      "Train Epoch: 10 [44800/60000 (75%)]\tLoss: 0.002319\n",
      "Train Epoch: 10 [51200/60000 (85%)]\tLoss: 0.000501\n",
      "Train Epoch: 10 [57600/60000 (96%)]\tLoss: 0.000398\n",
      "\n",
      "Validation set: Average loss: 0.0683, Accuracy: 9813/10000 (98%)\n",
      "\n",
      "Wall time: 1min 35s\n"
     ]
    }
   ],
   "source": [
    "%%time\n",
    "epochs = 10\n",
    "\n",
    "lossv, accv = [], []\n",
    "for epoch in range(1, epochs + 1):\n",
    "    train(model, optimizer, epoch)\n",
    "    validate(model, lossv, accv)"
   ]
  },
  {
   "cell_type": "markdown",
   "metadata": {
    "id": "fqI_dIneVR-o"
   },
   "source": [
    "Training with Dropout"
   ]
  },
  {
   "cell_type": "code",
   "execution_count": 51,
   "metadata": {
    "executionInfo": {
     "elapsed": 8252,
     "status": "aborted",
     "timestamp": 1602009161121,
     "user": {
      "displayName": "Lionel Fillatre",
      "photoUrl": "",
      "userId": "14463393848879581998"
     },
     "user_tz": -120
    },
    "id": "RPiJfdeqTJqb"
   },
   "outputs": [
    {
     "name": "stdout",
     "output_type": "stream",
     "text": [
      "Train Epoch: 1 [0/60000 (0%)]\tLoss: 0.443752\n",
      "Train Epoch: 1 [6400/60000 (11%)]\tLoss: 0.684126\n",
      "Train Epoch: 1 [12800/60000 (21%)]\tLoss: 0.230072\n",
      "Train Epoch: 1 [19200/60000 (32%)]\tLoss: 0.217923\n",
      "Train Epoch: 1 [25600/60000 (43%)]\tLoss: 0.323734\n",
      "Train Epoch: 1 [32000/60000 (53%)]\tLoss: 0.203823\n",
      "Train Epoch: 1 [38400/60000 (64%)]\tLoss: 0.211220\n",
      "Train Epoch: 1 [44800/60000 (75%)]\tLoss: 0.203555\n",
      "Train Epoch: 1 [51200/60000 (85%)]\tLoss: 0.317106\n",
      "Train Epoch: 1 [57600/60000 (96%)]\tLoss: 0.394023\n",
      "\n",
      "Validation set: Average loss: 0.2255, Accuracy: 9326/10000 (93%)\n",
      "\n",
      "Train Epoch: 2 [0/60000 (0%)]\tLoss: 0.250442\n",
      "Train Epoch: 2 [6400/60000 (11%)]\tLoss: 0.354600\n",
      "Train Epoch: 2 [12800/60000 (21%)]\tLoss: 0.219703\n",
      "Train Epoch: 2 [19200/60000 (32%)]\tLoss: 0.185278\n",
      "Train Epoch: 2 [25600/60000 (43%)]\tLoss: 0.183093\n",
      "Train Epoch: 2 [32000/60000 (53%)]\tLoss: 0.300546\n",
      "Train Epoch: 2 [38400/60000 (64%)]\tLoss: 0.330580\n",
      "Train Epoch: 2 [44800/60000 (75%)]\tLoss: 0.102230\n",
      "Train Epoch: 2 [51200/60000 (85%)]\tLoss: 0.403285\n",
      "Train Epoch: 2 [57600/60000 (96%)]\tLoss: 0.340330\n",
      "\n",
      "Validation set: Average loss: 0.1971, Accuracy: 9404/10000 (94%)\n",
      "\n",
      "Train Epoch: 3 [0/60000 (0%)]\tLoss: 0.146673\n",
      "Train Epoch: 3 [6400/60000 (11%)]\tLoss: 0.304206\n",
      "Train Epoch: 3 [12800/60000 (21%)]\tLoss: 0.387995\n",
      "Train Epoch: 3 [19200/60000 (32%)]\tLoss: 0.416479\n",
      "Train Epoch: 3 [25600/60000 (43%)]\tLoss: 0.178787\n",
      "Train Epoch: 3 [32000/60000 (53%)]\tLoss: 0.319155\n",
      "Train Epoch: 3 [38400/60000 (64%)]\tLoss: 0.427574\n",
      "Train Epoch: 3 [44800/60000 (75%)]\tLoss: 0.259002\n",
      "Train Epoch: 3 [51200/60000 (85%)]\tLoss: 0.339490\n",
      "Train Epoch: 3 [57600/60000 (96%)]\tLoss: 0.254165\n",
      "\n",
      "Validation set: Average loss: 0.1761, Accuracy: 9473/10000 (95%)\n",
      "\n",
      "Train Epoch: 4 [0/60000 (0%)]\tLoss: 0.075439\n",
      "Train Epoch: 4 [6400/60000 (11%)]\tLoss: 0.153225\n",
      "Train Epoch: 4 [12800/60000 (21%)]\tLoss: 0.442078\n",
      "Train Epoch: 4 [19200/60000 (32%)]\tLoss: 0.170402\n",
      "Train Epoch: 4 [25600/60000 (43%)]\tLoss: 0.196168\n",
      "Train Epoch: 4 [32000/60000 (53%)]\tLoss: 0.135417\n",
      "Train Epoch: 4 [38400/60000 (64%)]\tLoss: 0.082614\n",
      "Train Epoch: 4 [44800/60000 (75%)]\tLoss: 0.060249\n",
      "Train Epoch: 4 [51200/60000 (85%)]\tLoss: 0.133017\n",
      "Train Epoch: 4 [57600/60000 (96%)]\tLoss: 0.189302\n",
      "\n",
      "Validation set: Average loss: 0.1602, Accuracy: 9518/10000 (95%)\n",
      "\n",
      "Train Epoch: 5 [0/60000 (0%)]\tLoss: 0.199935\n",
      "Train Epoch: 5 [6400/60000 (11%)]\tLoss: 0.057602\n",
      "Train Epoch: 5 [12800/60000 (21%)]\tLoss: 0.345953\n",
      "Train Epoch: 5 [19200/60000 (32%)]\tLoss: 0.087130\n",
      "Train Epoch: 5 [25600/60000 (43%)]\tLoss: 0.257659\n",
      "Train Epoch: 5 [32000/60000 (53%)]\tLoss: 0.072101\n",
      "Train Epoch: 5 [38400/60000 (64%)]\tLoss: 0.124695\n",
      "Train Epoch: 5 [44800/60000 (75%)]\tLoss: 0.245170\n",
      "Train Epoch: 5 [51200/60000 (85%)]\tLoss: 0.242239\n",
      "Train Epoch: 5 [57600/60000 (96%)]\tLoss: 0.278623\n",
      "\n",
      "Validation set: Average loss: 0.1464, Accuracy: 9551/10000 (96%)\n",
      "\n",
      "Train Epoch: 6 [0/60000 (0%)]\tLoss: 0.283384\n",
      "Train Epoch: 6 [6400/60000 (11%)]\tLoss: 0.106492\n",
      "Train Epoch: 6 [12800/60000 (21%)]\tLoss: 0.305229\n",
      "Train Epoch: 6 [19200/60000 (32%)]\tLoss: 0.129825\n",
      "Train Epoch: 6 [25600/60000 (43%)]\tLoss: 0.211989\n",
      "Train Epoch: 6 [32000/60000 (53%)]\tLoss: 0.197228\n",
      "Train Epoch: 6 [38400/60000 (64%)]\tLoss: 0.360574\n",
      "Train Epoch: 6 [44800/60000 (75%)]\tLoss: 0.289373\n",
      "Train Epoch: 6 [51200/60000 (85%)]\tLoss: 0.212444\n",
      "Train Epoch: 6 [57600/60000 (96%)]\tLoss: 0.486850\n",
      "\n",
      "Validation set: Average loss: 0.1375, Accuracy: 9577/10000 (96%)\n",
      "\n",
      "Train Epoch: 7 [0/60000 (0%)]\tLoss: 0.040662\n",
      "Train Epoch: 7 [6400/60000 (11%)]\tLoss: 0.191497\n",
      "Train Epoch: 7 [12800/60000 (21%)]\tLoss: 0.126836\n",
      "Train Epoch: 7 [19200/60000 (32%)]\tLoss: 0.157307\n",
      "Train Epoch: 7 [25600/60000 (43%)]\tLoss: 0.024090\n",
      "Train Epoch: 7 [32000/60000 (53%)]\tLoss: 0.230167\n",
      "Train Epoch: 7 [38400/60000 (64%)]\tLoss: 0.186499\n",
      "Train Epoch: 7 [44800/60000 (75%)]\tLoss: 0.142546\n",
      "Train Epoch: 7 [51200/60000 (85%)]\tLoss: 0.181663\n",
      "Train Epoch: 7 [57600/60000 (96%)]\tLoss: 0.227455\n",
      "\n",
      "Validation set: Average loss: 0.1270, Accuracy: 9595/10000 (96%)\n",
      "\n",
      "Train Epoch: 8 [0/60000 (0%)]\tLoss: 0.097231\n",
      "Train Epoch: 8 [6400/60000 (11%)]\tLoss: 0.159017\n",
      "Train Epoch: 8 [12800/60000 (21%)]\tLoss: 0.346389\n",
      "Train Epoch: 8 [19200/60000 (32%)]\tLoss: 0.099737\n",
      "Train Epoch: 8 [25600/60000 (43%)]\tLoss: 0.132783\n",
      "Train Epoch: 8 [32000/60000 (53%)]\tLoss: 0.040986\n",
      "Train Epoch: 8 [38400/60000 (64%)]\tLoss: 0.308134\n",
      "Train Epoch: 8 [44800/60000 (75%)]\tLoss: 0.269871\n",
      "Train Epoch: 8 [51200/60000 (85%)]\tLoss: 0.028309\n",
      "Train Epoch: 8 [57600/60000 (96%)]\tLoss: 0.038917\n",
      "\n",
      "Validation set: Average loss: 0.1198, Accuracy: 9636/10000 (96%)\n",
      "\n",
      "Train Epoch: 9 [0/60000 (0%)]\tLoss: 0.058502\n",
      "Train Epoch: 9 [6400/60000 (11%)]\tLoss: 0.102055\n",
      "Train Epoch: 9 [12800/60000 (21%)]\tLoss: 0.110391\n",
      "Train Epoch: 9 [19200/60000 (32%)]\tLoss: 0.209458\n",
      "Train Epoch: 9 [25600/60000 (43%)]\tLoss: 0.050936\n",
      "Train Epoch: 9 [32000/60000 (53%)]\tLoss: 0.168025\n",
      "Train Epoch: 9 [38400/60000 (64%)]\tLoss: 0.163997\n",
      "Train Epoch: 9 [44800/60000 (75%)]\tLoss: 0.155249\n",
      "Train Epoch: 9 [51200/60000 (85%)]\tLoss: 0.166769\n",
      "Train Epoch: 9 [57600/60000 (96%)]\tLoss: 0.049958\n",
      "\n",
      "Validation set: Average loss: 0.1126, Accuracy: 9652/10000 (97%)\n",
      "\n",
      "Train Epoch: 10 [0/60000 (0%)]\tLoss: 0.131747\n",
      "Train Epoch: 10 [6400/60000 (11%)]\tLoss: 0.011798\n",
      "Train Epoch: 10 [12800/60000 (21%)]\tLoss: 0.084071\n",
      "Train Epoch: 10 [19200/60000 (32%)]\tLoss: 0.027848\n",
      "Train Epoch: 10 [25600/60000 (43%)]\tLoss: 0.100759\n",
      "Train Epoch: 10 [32000/60000 (53%)]\tLoss: 0.162453\n",
      "Train Epoch: 10 [38400/60000 (64%)]\tLoss: 0.065374\n",
      "Train Epoch: 10 [44800/60000 (75%)]\tLoss: 0.218884\n",
      "Train Epoch: 10 [51200/60000 (85%)]\tLoss: 0.189456\n",
      "Train Epoch: 10 [57600/60000 (96%)]\tLoss: 0.143261\n",
      "\n",
      "Validation set: Average loss: 0.1068, Accuracy: 9666/10000 (97%)\n",
      "\n",
      "Wall time: 1min 42s\n"
     ]
    }
   ],
   "source": [
    "%%time\n",
    "\n",
    "lossvDrop, accvDrop = [], []\n",
    "for epoch in range(1, epochs + 1):\n",
    "    train(modelDrop, optimizerDrop, epoch)\n",
    "    validate(modelDrop, lossvDrop, accvDrop)"
   ]
  },
  {
   "cell_type": "markdown",
   "metadata": {
    "id": "nhG5ZvXIMpZ2"
   },
   "source": [
    "Training with Batchnormalization"
   ]
  },
  {
   "cell_type": "code",
   "execution_count": 52,
   "metadata": {
    "executionInfo": {
     "elapsed": 8246,
     "status": "aborted",
     "timestamp": 1602009161121,
     "user": {
      "displayName": "Lionel Fillatre",
      "photoUrl": "",
      "userId": "14463393848879581998"
     },
     "user_tz": -120
    },
    "id": "IUWKOAvjM0QI"
   },
   "outputs": [
    {
     "name": "stdout",
     "output_type": "stream",
     "text": [
      "Train Epoch: 1 [0/60000 (0%)]\tLoss: 0.126726\n",
      "Train Epoch: 1 [6400/60000 (11%)]\tLoss: 0.157108\n",
      "Train Epoch: 1 [12800/60000 (21%)]\tLoss: 0.037461\n",
      "Train Epoch: 1 [19200/60000 (32%)]\tLoss: 0.142738\n",
      "Train Epoch: 1 [25600/60000 (43%)]\tLoss: 0.003490\n",
      "Train Epoch: 1 [32000/60000 (53%)]\tLoss: 0.113827\n",
      "Train Epoch: 1 [38400/60000 (64%)]\tLoss: 0.025386\n",
      "Train Epoch: 1 [44800/60000 (75%)]\tLoss: 0.026533\n",
      "Train Epoch: 1 [51200/60000 (85%)]\tLoss: 0.093018\n",
      "Train Epoch: 1 [57600/60000 (96%)]\tLoss: 0.021850\n",
      "\n",
      "Validation set: Average loss: 0.0691, Accuracy: 9787/10000 (98%)\n",
      "\n",
      "Train Epoch: 2 [0/60000 (0%)]\tLoss: 0.110964\n",
      "Train Epoch: 2 [6400/60000 (11%)]\tLoss: 0.017274\n",
      "Train Epoch: 2 [12800/60000 (21%)]\tLoss: 0.138879\n",
      "Train Epoch: 2 [19200/60000 (32%)]\tLoss: 0.015912\n",
      "Train Epoch: 2 [25600/60000 (43%)]\tLoss: 0.082600\n",
      "Train Epoch: 2 [32000/60000 (53%)]\tLoss: 0.049430\n",
      "Train Epoch: 2 [38400/60000 (64%)]\tLoss: 0.145857\n",
      "Train Epoch: 2 [44800/60000 (75%)]\tLoss: 0.057586\n",
      "Train Epoch: 2 [51200/60000 (85%)]\tLoss: 0.049331\n",
      "Train Epoch: 2 [57600/60000 (96%)]\tLoss: 0.060247\n",
      "\n",
      "Validation set: Average loss: 0.0725, Accuracy: 9780/10000 (98%)\n",
      "\n",
      "Train Epoch: 3 [0/60000 (0%)]\tLoss: 0.037341\n",
      "Train Epoch: 3 [6400/60000 (11%)]\tLoss: 0.198760\n",
      "Train Epoch: 3 [12800/60000 (21%)]\tLoss: 0.078483\n",
      "Train Epoch: 3 [19200/60000 (32%)]\tLoss: 0.012698\n",
      "Train Epoch: 3 [25600/60000 (43%)]\tLoss: 0.126269\n",
      "Train Epoch: 3 [32000/60000 (53%)]\tLoss: 0.005043\n",
      "Train Epoch: 3 [38400/60000 (64%)]\tLoss: 0.052625\n",
      "Train Epoch: 3 [44800/60000 (75%)]\tLoss: 0.012288\n",
      "Train Epoch: 3 [51200/60000 (85%)]\tLoss: 0.113097\n",
      "Train Epoch: 3 [57600/60000 (96%)]\tLoss: 0.095242\n",
      "\n",
      "Validation set: Average loss: 0.0674, Accuracy: 9798/10000 (98%)\n",
      "\n",
      "Train Epoch: 4 [0/60000 (0%)]\tLoss: 0.010313\n",
      "Train Epoch: 4 [6400/60000 (11%)]\tLoss: 0.117872\n",
      "Train Epoch: 4 [12800/60000 (21%)]\tLoss: 0.054147\n",
      "Train Epoch: 4 [19200/60000 (32%)]\tLoss: 0.016532\n",
      "Train Epoch: 4 [25600/60000 (43%)]\tLoss: 0.001335\n",
      "Train Epoch: 4 [32000/60000 (53%)]\tLoss: 0.054770\n",
      "Train Epoch: 4 [38400/60000 (64%)]\tLoss: 0.035781\n",
      "Train Epoch: 4 [44800/60000 (75%)]\tLoss: 0.015073\n",
      "Train Epoch: 4 [51200/60000 (85%)]\tLoss: 0.103427\n",
      "Train Epoch: 4 [57600/60000 (96%)]\tLoss: 0.094758\n",
      "\n",
      "Validation set: Average loss: 0.0611, Accuracy: 9811/10000 (98%)\n",
      "\n",
      "Train Epoch: 5 [0/60000 (0%)]\tLoss: 0.053118\n",
      "Train Epoch: 5 [6400/60000 (11%)]\tLoss: 0.052026\n",
      "Train Epoch: 5 [12800/60000 (21%)]\tLoss: 0.007757\n",
      "Train Epoch: 5 [19200/60000 (32%)]\tLoss: 0.041485\n",
      "Train Epoch: 5 [25600/60000 (43%)]\tLoss: 0.017244\n",
      "Train Epoch: 5 [32000/60000 (53%)]\tLoss: 0.002996\n",
      "Train Epoch: 5 [38400/60000 (64%)]\tLoss: 0.010842\n",
      "Train Epoch: 5 [44800/60000 (75%)]\tLoss: 0.293557\n",
      "Train Epoch: 5 [51200/60000 (85%)]\tLoss: 0.107626\n",
      "Train Epoch: 5 [57600/60000 (96%)]\tLoss: 0.042473\n",
      "\n",
      "Validation set: Average loss: 0.0616, Accuracy: 9817/10000 (98%)\n",
      "\n",
      "Train Epoch: 6 [0/60000 (0%)]\tLoss: 0.022417\n",
      "Train Epoch: 6 [6400/60000 (11%)]\tLoss: 0.003725\n",
      "Train Epoch: 6 [12800/60000 (21%)]\tLoss: 0.007410\n",
      "Train Epoch: 6 [19200/60000 (32%)]\tLoss: 0.011444\n",
      "Train Epoch: 6 [25600/60000 (43%)]\tLoss: 0.002166\n",
      "Train Epoch: 6 [32000/60000 (53%)]\tLoss: 0.006370\n",
      "Train Epoch: 6 [38400/60000 (64%)]\tLoss: 0.008358\n",
      "Train Epoch: 6 [44800/60000 (75%)]\tLoss: 0.020345\n",
      "Train Epoch: 6 [51200/60000 (85%)]\tLoss: 0.069045\n",
      "Train Epoch: 6 [57600/60000 (96%)]\tLoss: 0.030391\n",
      "\n",
      "Validation set: Average loss: 0.0600, Accuracy: 9819/10000 (98%)\n",
      "\n",
      "Train Epoch: 7 [0/60000 (0%)]\tLoss: 0.007803\n",
      "Train Epoch: 7 [6400/60000 (11%)]\tLoss: 0.078994\n",
      "Train Epoch: 7 [12800/60000 (21%)]\tLoss: 0.019321\n",
      "Train Epoch: 7 [19200/60000 (32%)]\tLoss: 0.007500\n",
      "Train Epoch: 7 [25600/60000 (43%)]\tLoss: 0.045777\n",
      "Train Epoch: 7 [32000/60000 (53%)]\tLoss: 0.032003\n",
      "Train Epoch: 7 [38400/60000 (64%)]\tLoss: 0.019505\n",
      "Train Epoch: 7 [44800/60000 (75%)]\tLoss: 0.041425\n",
      "Train Epoch: 7 [51200/60000 (85%)]\tLoss: 0.006792\n",
      "Train Epoch: 7 [57600/60000 (96%)]\tLoss: 0.005836\n",
      "\n",
      "Validation set: Average loss: 0.0575, Accuracy: 9812/10000 (98%)\n",
      "\n",
      "Train Epoch: 8 [0/60000 (0%)]\tLoss: 0.010133\n",
      "Train Epoch: 8 [6400/60000 (11%)]\tLoss: 0.005824\n",
      "Train Epoch: 8 [12800/60000 (21%)]\tLoss: 0.004207\n",
      "Train Epoch: 8 [19200/60000 (32%)]\tLoss: 0.012240\n",
      "Train Epoch: 8 [25600/60000 (43%)]\tLoss: 0.078489\n",
      "Train Epoch: 8 [32000/60000 (53%)]\tLoss: 0.055572\n",
      "Train Epoch: 8 [38400/60000 (64%)]\tLoss: 0.023094\n",
      "Train Epoch: 8 [44800/60000 (75%)]\tLoss: 0.022912\n",
      "Train Epoch: 8 [51200/60000 (85%)]\tLoss: 0.019492\n",
      "Train Epoch: 8 [57600/60000 (96%)]\tLoss: 0.001258\n",
      "\n",
      "Validation set: Average loss: 0.0582, Accuracy: 9814/10000 (98%)\n",
      "\n",
      "Train Epoch: 9 [0/60000 (0%)]\tLoss: 0.006145\n",
      "Train Epoch: 9 [6400/60000 (11%)]\tLoss: 0.017460\n",
      "Train Epoch: 9 [12800/60000 (21%)]\tLoss: 0.012394\n",
      "Train Epoch: 9 [19200/60000 (32%)]\tLoss: 0.070467\n",
      "Train Epoch: 9 [25600/60000 (43%)]\tLoss: 0.001779\n",
      "Train Epoch: 9 [32000/60000 (53%)]\tLoss: 0.008603\n",
      "Train Epoch: 9 [38400/60000 (64%)]\tLoss: 0.010793\n",
      "Train Epoch: 9 [44800/60000 (75%)]\tLoss: 0.007485\n",
      "Train Epoch: 9 [51200/60000 (85%)]\tLoss: 0.008505\n",
      "Train Epoch: 9 [57600/60000 (96%)]\tLoss: 0.010084\n",
      "\n",
      "Validation set: Average loss: 0.0552, Accuracy: 9827/10000 (98%)\n",
      "\n",
      "Train Epoch: 10 [0/60000 (0%)]\tLoss: 0.001836\n",
      "Train Epoch: 10 [6400/60000 (11%)]\tLoss: 0.070657\n",
      "Train Epoch: 10 [12800/60000 (21%)]\tLoss: 0.002309\n",
      "Train Epoch: 10 [19200/60000 (32%)]\tLoss: 0.029594\n",
      "Train Epoch: 10 [25600/60000 (43%)]\tLoss: 0.001393\n",
      "Train Epoch: 10 [32000/60000 (53%)]\tLoss: 0.011563\n",
      "Train Epoch: 10 [38400/60000 (64%)]\tLoss: 0.001592\n",
      "Train Epoch: 10 [44800/60000 (75%)]\tLoss: 0.016796\n",
      "Train Epoch: 10 [51200/60000 (85%)]\tLoss: 0.008210\n",
      "Train Epoch: 10 [57600/60000 (96%)]\tLoss: 0.014901\n",
      "\n",
      "Validation set: Average loss: 0.0561, Accuracy: 9825/10000 (98%)\n",
      "\n",
      "Wall time: 1min 55s\n"
     ]
    }
   ],
   "source": [
    "%%time\n",
    "\n",
    "lossvBN, accvBN = [], []\n",
    "for epoch in range(1, epochs + 1):\n",
    "    train(modelBatchNorm, optimizerBatchNorm, epoch)\n",
    "    validate(modelBatchNorm, lossvBN, accvBN)"
   ]
  },
  {
   "cell_type": "markdown",
   "metadata": {
    "id": "l0YZ4vNbQ3zI"
   },
   "source": [
    "Let's now visualize how the training progressed. \n",
    "\n",
    "* *Loss* is a function of the difference of the network output and the target values.  We are minimizing the loss function during training so it should decrease over time.\n",
    "* *Accuracy* is the classification accuracy for the test data."
   ]
  },
  {
   "cell_type": "code",
   "execution_count": 53,
   "metadata": {
    "executionInfo": {
     "elapsed": 8241,
     "status": "aborted",
     "timestamp": 1602009161122,
     "user": {
      "displayName": "Lionel Fillatre",
      "photoUrl": "",
      "userId": "14463393848879581998"
     },
     "user_tz": -120
    },
    "id": "MN2LcmsHQ3zJ"
   },
   "outputs": [
    {
     "data": {
      "image/png": "[encoded data removed]",
      "text/plain": [
       "<Figure size 360x216 with 1 Axes>"
      ]
     },
     "metadata": {
      "needs_background": "light"
     },
     "output_type": "display_data"
    },
    {
     "data": {
      "image/png": "[encoded data removed]",
      "text/plain": [
       "<Figure size 360x216 with 1 Axes>"
      ]
     },
     "metadata": {
      "needs_background": "light"
     },
     "output_type": "display_data"
    }
   ],
   "source": [
    "plt.figure(figsize=(5,3))\n",
    "plt.plot(np.arange(1,epochs+1), lossv, label='no dropout')\n",
    "plt.plot(np.arange(1,epochs+1), lossvDrop, label='with dropout')\n",
    "plt.plot(np.arange(1,epochs+1), lossvBN, label='with batchnormalization')\n",
    "plt.legend(loc='upper left');\n",
    "plt.xlabel('epoch')\n",
    "plt.title('validation loss')\n",
    "plt.show()\n",
    "\n",
    "plt.figure(figsize=(5,3))\n",
    "plt.plot(np.arange(1,epochs+1), accv, label='no dropout')\n",
    "plt.plot(np.arange(1,epochs+1), accvDrop, label='with dropout')\n",
    "plt.plot(np.arange(1,epochs+1), accvBN, label='with batchnormalization')\n",
    "plt.legend(loc='upper left');\n",
    "plt.xlabel('epoch')\n",
    "plt.title('validation accuracy');"
   ]
  },
  {
   "cell_type": "markdown",
   "metadata": {
    "id": "1-o8iKwlQ3zM"
   },
   "source": [
    "### Question (model tuning): compare the gain when the first layer has less neurons (50 instead of 256)\n",
    "\n"
   ]
  },
  {
   "cell_type": "markdown",
   "metadata": {
    "id": "8E1SmvXmOcMn"
   },
   "source": [
    "### Question (model tuning): increase the number of epochs for the training (10 instead of 3)"
   ]
  }
 ],
 "metadata": {
  "accelerator": "GPU",
  "colab": {
   "collapsed_sections": [],
   "name": "DSTI_DL_Lab6_October2020.ipynb",
   "provenance": [],
   "toc_visible": true
  },
  "kernelspec": {
   "display_name": "Python 3",
   "language": "python",
   "name": "python3"
  },
  "language_info": {
   "codemirror_mode": {
    "name": "ipython",
    "version": 3
   },
   "file_extension": ".py",
   "mimetype": "text/x-python",
   "name": "python",
   "nbconvert_exporter": "python",
   "pygments_lexer": "ipython3",
   "version": "3.8.5"
  },
  "widgets": {
   "application/vnd.jupyter.widget-state+json": {
    "0039744f28dd4a3381350e64d987455b": {
     "model_module": "@jupyter-widgets/controls",
     "model_name": "DescriptionStyleModel",
     "state": {
      "_model_module": "@jupyter-widgets/controls",
      "_model_module_version": "1.5.0",
      "_model_name": "DescriptionStyleModel",
      "_view_count": null,
      "_view_module": "@jupyter-widgets/base",
      "_view_module_version": "1.2.0",
      "_view_name": "StyleView",
      "description_width": ""
     }
    },
    "0430172cbb534442be4529983e3a94e8": {
     "model_module": "@jupyter-widgets/controls",
     "model_name": "HTMLModel",
     "state": {
      "_dom_classes": [],
      "_model_module": "@jupyter-widgets/controls",
      "_model_module_version": "1.5.0",
      "_model_name": "HTMLModel",
      "_view_count": null,
      "_view_module": "@jupyter-widgets/controls",
      "_view_module_version": "1.5.0",
      "_view_name": "HTMLView",
      "description": "",
      "description_tooltip": null,
      "layout": "IPY_MODEL_aa5dfed890284c43a4dcb1b75d5eedde",
      "placeholder": "​",
      "style": "IPY_MODEL_a1dee2f3d06c4aa3a2dc885a22207823",
      "value": " 1654784/? [00:01&lt;00:00, 1197217.88it/s]"
     }
    },
    "05ef5326e53a49d3a93aa86ea39522cc": {
     "model_module": "@jupyter-widgets/controls",
     "model_name": "ProgressStyleModel",
     "state": {
      "_model_module": "@jupyter-widgets/controls",
      "_model_module_version": "1.5.0",
      "_model_name": "ProgressStyleModel",
      "_view_count": null,
      "_view_module": "@jupyter-widgets/base",
      "_view_module_version": "1.2.0",
      "_view_name": "StyleView",
      "bar_color": null,
      "description_width": "initial"
     }
    },
    "0841ce5031de4563bf275213b0a1c0bc": {
     "model_module": "@jupyter-widgets/controls",
     "model_name": "FloatProgressModel",
     "state": {
      "_dom_classes": [],
      "_model_module": "@jupyter-widgets/controls",
      "_model_module_version": "1.5.0",
      "_model_name": "FloatProgressModel",
      "_view_count": null,
      "_view_module": "@jupyter-widgets/controls",
      "_view_module_version": "1.5.0",
      "_view_name": "ProgressView",
      "bar_style": "success",
      "description": "",
      "description_tooltip": null,
      "layout": "IPY_MODEL_7313ba4287ef4cc69bca0895bb18a195",
      "max": 1,
      "min": 0,
      "orientation": "horizontal",
      "style": "IPY_MODEL_05ef5326e53a49d3a93aa86ea39522cc",
      "value": 1
     }
    },
    "0887658552fa4aaa82e7f1ae79ba36e7": {
     "model_module": "@jupyter-widgets/base",
     "model_name": "LayoutModel",
     "state": {
      "_model_module": "@jupyter-widgets/base",
      "_model_module_version": "1.2.0",
      "_model_name": "LayoutModel",
      "_view_count": null,
      "_view_module": "@jupyter-widgets/base",
      "_view_module_version": "1.2.0",
      "_view_name": "LayoutView",
      "align_content": null,
      "align_items": null,
      "align_self": null,
      "border": null,
      "bottom": null,
      "display": null,
      "flex": null,
      "flex_flow": null,
      "grid_area": null,
      "grid_auto_columns": null,
      "grid_auto_flow": null,
      "grid_auto_rows": null,
      "grid_column": null,
      "grid_gap": null,
      "grid_row": null,
      "grid_template_areas": null,
      "grid_template_columns": null,
      "grid_template_rows": null,
      "height": null,
      "justify_content": null,
      "justify_items": null,
      "left": null,
      "margin": null,
      "max_height": null,
      "max_width": null,
      "min_height": null,
      "min_width": null,
      "object_fit": null,
      "object_position": null,
      "order": null,
      "overflow": null,
      "overflow_x": null,
      "overflow_y": null,
      "padding": null,
      "right": null,
      "top": null,
      "visibility": null,
      "width": null
     }
    },
    "0b7177709f4b4c89810fc9fbf18273ac": {
     "model_module": "@jupyter-widgets/controls",
     "model_name": "FloatProgressModel",
     "state": {
      "_dom_classes": [],
      "_model_module": "@jupyter-widgets/controls",
      "_model_module_version": "1.5.0",
      "_model_name": "FloatProgressModel",
      "_view_count": null,
      "_view_module": "@jupyter-widgets/controls",
      "_view_module_version": "1.5.0",
      "_view_name": "ProgressView",
      "bar_style": "success",
      "description": "",
      "description_tooltip": null,
      "layout": "IPY_MODEL_a3b858984e9d405e8e6a289934e16a64",
      "max": 1,
      "min": 0,
      "orientation": "horizontal",
      "style": "IPY_MODEL_4c69b4f19bc34592bf0a21dbbbfba0dc",
      "value": 1
     }
    },
    "0ebbe13f2d664976bc0cdb999c5752ec": {
     "model_module": "@jupyter-widgets/base",
     "model_name": "LayoutModel",
     "state": {
      "_model_module": "@jupyter-widgets/base",
      "_model_module_version": "1.2.0",
      "_model_name": "LayoutModel",
      "_view_count": null,
      "_view_module": "@jupyter-widgets/base",
      "_view_module_version": "1.2.0",
      "_view_name": "LayoutView",
      "align_content": null,
      "align_items": null,
      "align_self": null,
      "border": null,
      "bottom": null,
      "display": null,
      "flex": null,
      "flex_flow": null,
      "grid_area": null,
      "grid_auto_columns": null,
      "grid_auto_flow": null,
      "grid_auto_rows": null,
      "grid_column": null,
      "grid_gap": null,
      "grid_row": null,
      "grid_template_areas": null,
      "grid_template_columns": null,
      "grid_template_rows": null,
      "height": null,
      "justify_content": null,
      "justify_items": null,
      "left": null,
      "margin": null,
      "max_height": null,
      "max_width": null,
      "min_height": null,
      "min_width": null,
      "object_fit": null,
      "object_position": null,
      "order": null,
      "overflow": null,
      "overflow_x": null,
      "overflow_y": null,
      "padding": null,
      "right": null,
      "top": null,
      "visibility": null,
      "width": null
     }
    },
    "0f44581811214bd5b0b4b0cd83349532": {
     "model_module": "@jupyter-widgets/controls",
     "model_name": "DescriptionStyleModel",
     "state": {
      "_model_module": "@jupyter-widgets/controls",
      "_model_module_version": "1.5.0",
      "_model_name": "DescriptionStyleModel",
      "_view_count": null,
      "_view_module": "@jupyter-widgets/base",
      "_view_module_version": "1.2.0",
      "_view_name": "StyleView",
      "description_width": ""
     }
    },
    "149d1102614f49c0a797518248630797": {
     "model_module": "@jupyter-widgets/controls",
     "model_name": "HTMLModel",
     "state": {
      "_dom_classes": [],
      "_model_module": "@jupyter-widgets/controls",
      "_model_module_version": "1.5.0",
      "_model_name": "HTMLModel",
      "_view_count": null,
      "_view_module": "@jupyter-widgets/controls",
      "_view_module_version": "1.5.0",
      "_view_name": "HTMLView",
      "description": "",
      "description_tooltip": null,
      "layout": "IPY_MODEL_b85517c23a2f432396dd0a013ae9789d",
      "placeholder": "​",
      "style": "IPY_MODEL_0f44581811214bd5b0b4b0cd83349532",
      "value": " 32768/? [00:00&lt;00:00, 104207.10it/s]"
     }
    },
    "25f79a07d35a4b6b902019687cc1f574": {
     "model_module": "@jupyter-widgets/controls",
     "model_name": "DescriptionStyleModel",
     "state": {
      "_model_module": "@jupyter-widgets/controls",
      "_model_module_version": "1.5.0",
      "_model_name": "DescriptionStyleModel",
      "_view_count": null,
      "_view_module": "@jupyter-widgets/base",
      "_view_module_version": "1.2.0",
      "_view_name": "StyleView",
      "description_width": ""
     }
    },
    "34346488933e44ada61d5387e58ecf5f": {
     "model_module": "@jupyter-widgets/controls",
     "model_name": "HBoxModel",
     "state": {
      "_dom_classes": [],
      "_model_module": "@jupyter-widgets/controls",
      "_model_module_version": "1.5.0",
      "_model_name": "HBoxModel",
      "_view_count": null,
      "_view_module": "@jupyter-widgets/controls",
      "_view_module_version": "1.5.0",
      "_view_name": "HBoxView",
      "box_style": "",
      "children": [
       "IPY_MODEL_0b7177709f4b4c89810fc9fbf18273ac",
       "IPY_MODEL_ea9c564eab4042a89221485a37332a06"
      ],
      "layout": "IPY_MODEL_0ebbe13f2d664976bc0cdb999c5752ec"
     }
    },
    "38ac067936c84c0b99c244e3766444cd": {
     "model_module": "@jupyter-widgets/controls",
     "model_name": "HBoxModel",
     "state": {
      "_dom_classes": [],
      "_model_module": "@jupyter-widgets/controls",
      "_model_module_version": "1.5.0",
      "_model_name": "HBoxModel",
      "_view_count": null,
      "_view_module": "@jupyter-widgets/controls",
      "_view_module_version": "1.5.0",
      "_view_name": "HBoxView",
      "box_style": "",
      "children": [
       "IPY_MODEL_8e76ec41f68748fdb85d6cdd58c2dbb5",
       "IPY_MODEL_149d1102614f49c0a797518248630797"
      ],
      "layout": "IPY_MODEL_c76324a73fad4942a8ed4d1ad988f50a"
     }
    },
    "3abf210dd9a84a88868ffee1a4c7a38d": {
     "model_module": "@jupyter-widgets/base",
     "model_name": "LayoutModel",
     "state": {
      "_model_module": "@jupyter-widgets/base",
      "_model_module_version": "1.2.0",
      "_model_name": "LayoutModel",
      "_view_count": null,
      "_view_module": "@jupyter-widgets/base",
      "_view_module_version": "1.2.0",
      "_view_name": "LayoutView",
      "align_content": null,
      "align_items": null,
      "align_self": null,
      "border": null,
      "bottom": null,
      "display": null,
      "flex": null,
      "flex_flow": null,
      "grid_area": null,
      "grid_auto_columns": null,
      "grid_auto_flow": null,
      "grid_auto_rows": null,
      "grid_column": null,
      "grid_gap": null,
      "grid_row": null,
      "grid_template_areas": null,
      "grid_template_columns": null,
      "grid_template_rows": null,
      "height": null,
      "justify_content": null,
      "justify_items": null,
      "left": null,
      "margin": null,
      "max_height": null,
      "max_width": null,
      "min_height": null,
      "min_width": null,
      "object_fit": null,
      "object_position": null,
      "order": null,
      "overflow": null,
      "overflow_x": null,
      "overflow_y": null,
      "padding": null,
      "right": null,
      "top": null,
      "visibility": null,
      "width": null
     }
    },
    "453725b4ff8e443294a87a8a0219eeab": {
     "model_module": "@jupyter-widgets/base",
     "model_name": "LayoutModel",
     "state": {
      "_model_module": "@jupyter-widgets/base",
      "_model_module_version": "1.2.0",
      "_model_name": "LayoutModel",
      "_view_count": null,
      "_view_module": "@jupyter-widgets/base",
      "_view_module_version": "1.2.0",
      "_view_name": "LayoutView",
      "align_content": null,
      "align_items": null,
      "align_self": null,
      "border": null,
      "bottom": null,
      "display": null,
      "flex": null,
      "flex_flow": null,
      "grid_area": null,
      "grid_auto_columns": null,
      "grid_auto_flow": null,
      "grid_auto_rows": null,
      "grid_column": null,
      "grid_gap": null,
      "grid_row": null,
      "grid_template_areas": null,
      "grid_template_columns": null,
      "grid_template_rows": null,
      "height": null,
      "justify_content": null,
      "justify_items": null,
      "left": null,
      "margin": null,
      "max_height": null,
      "max_width": null,
      "min_height": null,
      "min_width": null,
      "object_fit": null,
      "object_position": null,
      "order": null,
      "overflow": null,
      "overflow_x": null,
      "overflow_y": null,
      "padding": null,
      "right": null,
      "top": null,
      "visibility": null,
      "width": null
     }
    },
    "4c69b4f19bc34592bf0a21dbbbfba0dc": {
     "model_module": "@jupyter-widgets/controls",
     "model_name": "ProgressStyleModel",
     "state": {
      "_model_module": "@jupyter-widgets/controls",
      "_model_module_version": "1.5.0",
      "_model_name": "ProgressStyleModel",
      "_view_count": null,
      "_view_module": "@jupyter-widgets/base",
      "_view_module_version": "1.2.0",
      "_view_name": "StyleView",
      "bar_color": null,
      "description_width": "initial"
     }
    },
    "548939caeb1a42cc896bbbadf7daf371": {
     "model_module": "@jupyter-widgets/controls",
     "model_name": "ProgressStyleModel",
     "state": {
      "_model_module": "@jupyter-widgets/controls",
      "_model_module_version": "1.5.0",
      "_model_name": "ProgressStyleModel",
      "_view_count": null,
      "_view_module": "@jupyter-widgets/base",
      "_view_module_version": "1.2.0",
      "_view_name": "StyleView",
      "bar_color": null,
      "description_width": "initial"
     }
    },
    "5b4c1eb14f5844f8b0b20cbaff901aca": {
     "model_module": "@jupyter-widgets/base",
     "model_name": "LayoutModel",
     "state": {
      "_model_module": "@jupyter-widgets/base",
      "_model_module_version": "1.2.0",
      "_model_name": "LayoutModel",
      "_view_count": null,
      "_view_module": "@jupyter-widgets/base",
      "_view_module_version": "1.2.0",
      "_view_name": "LayoutView",
      "align_content": null,
      "align_items": null,
      "align_self": null,
      "border": null,
      "bottom": null,
      "display": null,
      "flex": null,
      "flex_flow": null,
      "grid_area": null,
      "grid_auto_columns": null,
      "grid_auto_flow": null,
      "grid_auto_rows": null,
      "grid_column": null,
      "grid_gap": null,
      "grid_row": null,
      "grid_template_areas": null,
      "grid_template_columns": null,
      "grid_template_rows": null,
      "height": null,
      "justify_content": null,
      "justify_items": null,
      "left": null,
      "margin": null,
      "max_height": null,
      "max_width": null,
      "min_height": null,
      "min_width": null,
      "object_fit": null,
      "object_position": null,
      "order": null,
      "overflow": null,
      "overflow_x": null,
      "overflow_y": null,
      "padding": null,
      "right": null,
      "top": null,
      "visibility": null,
      "width": null
     }
    },
    "5c04eed952c4483c92a70d658ad05e23": {
     "model_module": "@jupyter-widgets/controls",
     "model_name": "HBoxModel",
     "state": {
      "_dom_classes": [],
      "_model_module": "@jupyter-widgets/controls",
      "_model_module_version": "1.5.0",
      "_model_name": "HBoxModel",
      "_view_count": null,
      "_view_module": "@jupyter-widgets/controls",
      "_view_module_version": "1.5.0",
      "_view_name": "HBoxView",
      "box_style": "",
      "children": [
       "IPY_MODEL_c45c54f9cfe54e879cf46019b518aa38",
       "IPY_MODEL_ee1ea874911a4c7e95e5f647b5146b72"
      ],
      "layout": "IPY_MODEL_5b4c1eb14f5844f8b0b20cbaff901aca"
     }
    },
    "7313ba4287ef4cc69bca0895bb18a195": {
     "model_module": "@jupyter-widgets/base",
     "model_name": "LayoutModel",
     "state": {
      "_model_module": "@jupyter-widgets/base",
      "_model_module_version": "1.2.0",
      "_model_name": "LayoutModel",
      "_view_count": null,
      "_view_module": "@jupyter-widgets/base",
      "_view_module_version": "1.2.0",
      "_view_name": "LayoutView",
      "align_content": null,
      "align_items": null,
      "align_self": null,
      "border": null,
      "bottom": null,
      "display": null,
      "flex": null,
      "flex_flow": null,
      "grid_area": null,
      "grid_auto_columns": null,
      "grid_auto_flow": null,
      "grid_auto_rows": null,
      "grid_column": null,
      "grid_gap": null,
      "grid_row": null,
      "grid_template_areas": null,
      "grid_template_columns": null,
      "grid_template_rows": null,
      "height": null,
      "justify_content": null,
      "justify_items": null,
      "left": null,
      "margin": null,
      "max_height": null,
      "max_width": null,
      "min_height": null,
      "min_width": null,
      "object_fit": null,
      "object_position": null,
      "order": null,
      "overflow": null,
      "overflow_x": null,
      "overflow_y": null,
      "padding": null,
      "right": null,
      "top": null,
      "visibility": null,
      "width": null
     }
    },
    "8e76ec41f68748fdb85d6cdd58c2dbb5": {
     "model_module": "@jupyter-widgets/controls",
     "model_name": "FloatProgressModel",
     "state": {
      "_dom_classes": [],
      "_model_module": "@jupyter-widgets/controls",
      "_model_module_version": "1.5.0",
      "_model_name": "FloatProgressModel",
      "_view_count": null,
      "_view_module": "@jupyter-widgets/controls",
      "_view_module_version": "1.5.0",
      "_view_name": "ProgressView",
      "bar_style": "success",
      "description": "",
      "description_tooltip": null,
      "layout": "IPY_MODEL_9d02ad6398554299b73291f461834574",
      "max": 1,
      "min": 0,
      "orientation": "horizontal",
      "style": "IPY_MODEL_d3f5d416e4a04ea58d8bc697991e3c54",
      "value": 1
     }
    },
    "9d02ad6398554299b73291f461834574": {
     "model_module": "@jupyter-widgets/base",
     "model_name": "LayoutModel",
     "state": {
      "_model_module": "@jupyter-widgets/base",
      "_model_module_version": "1.2.0",
      "_model_name": "LayoutModel",
      "_view_count": null,
      "_view_module": "@jupyter-widgets/base",
      "_view_module_version": "1.2.0",
      "_view_name": "LayoutView",
      "align_content": null,
      "align_items": null,
      "align_self": null,
      "border": null,
      "bottom": null,
      "display": null,
      "flex": null,
      "flex_flow": null,
      "grid_area": null,
      "grid_auto_columns": null,
      "grid_auto_flow": null,
      "grid_auto_rows": null,
      "grid_column": null,
      "grid_gap": null,
      "grid_row": null,
      "grid_template_areas": null,
      "grid_template_columns": null,
      "grid_template_rows": null,
      "height": null,
      "justify_content": null,
      "justify_items": null,
      "left": null,
      "margin": null,
      "max_height": null,
      "max_width": null,
      "min_height": null,
      "min_width": null,
      "object_fit": null,
      "object_position": null,
      "order": null,
      "overflow": null,
      "overflow_x": null,
      "overflow_y": null,
      "padding": null,
      "right": null,
      "top": null,
      "visibility": null,
      "width": null
     }
    },
    "a1cd7e22c3374bb8b1e1c1a353ebfb1b": {
     "model_module": "@jupyter-widgets/controls",
     "model_name": "HBoxModel",
     "state": {
      "_dom_classes": [],
      "_model_module": "@jupyter-widgets/controls",
      "_model_module_version": "1.5.0",
      "_model_name": "HBoxModel",
      "_view_count": null,
      "_view_module": "@jupyter-widgets/controls",
      "_view_module_version": "1.5.0",
      "_view_name": "HBoxView",
      "box_style": "",
      "children": [
       "IPY_MODEL_0841ce5031de4563bf275213b0a1c0bc",
       "IPY_MODEL_0430172cbb534442be4529983e3a94e8"
      ],
      "layout": "IPY_MODEL_0887658552fa4aaa82e7f1ae79ba36e7"
     }
    },
    "a1dee2f3d06c4aa3a2dc885a22207823": {
     "model_module": "@jupyter-widgets/controls",
     "model_name": "DescriptionStyleModel",
     "state": {
      "_model_module": "@jupyter-widgets/controls",
      "_model_module_version": "1.5.0",
      "_model_name": "DescriptionStyleModel",
      "_view_count": null,
      "_view_module": "@jupyter-widgets/base",
      "_view_module_version": "1.2.0",
      "_view_name": "StyleView",
      "description_width": ""
     }
    },
    "a3b858984e9d405e8e6a289934e16a64": {
     "model_module": "@jupyter-widgets/base",
     "model_name": "LayoutModel",
     "state": {
      "_model_module": "@jupyter-widgets/base",
      "_model_module_version": "1.2.0",
      "_model_name": "LayoutModel",
      "_view_count": null,
      "_view_module": "@jupyter-widgets/base",
      "_view_module_version": "1.2.0",
      "_view_name": "LayoutView",
      "align_content": null,
      "align_items": null,
      "align_self": null,
      "border": null,
      "bottom": null,
      "display": null,
      "flex": null,
      "flex_flow": null,
      "grid_area": null,
      "grid_auto_columns": null,
      "grid_auto_flow": null,
      "grid_auto_rows": null,
      "grid_column": null,
      "grid_gap": null,
      "grid_row": null,
      "grid_template_areas": null,
      "grid_template_columns": null,
      "grid_template_rows": null,
      "height": null,
      "justify_content": null,
      "justify_items": null,
      "left": null,
      "margin": null,
      "max_height": null,
      "max_width": null,
      "min_height": null,
      "min_width": null,
      "object_fit": null,
      "object_position": null,
      "order": null,
      "overflow": null,
      "overflow_x": null,
      "overflow_y": null,
      "padding": null,
      "right": null,
      "top": null,
      "visibility": null,
      "width": null
     }
    },
    "aa5dfed890284c43a4dcb1b75d5eedde": {
     "model_module": "@jupyter-widgets/base",
     "model_name": "LayoutModel",
     "state": {
      "_model_module": "@jupyter-widgets/base",
      "_model_module_version": "1.2.0",
      "_model_name": "LayoutModel",
      "_view_count": null,
      "_view_module": "@jupyter-widgets/base",
      "_view_module_version": "1.2.0",
      "_view_name": "LayoutView",
      "align_content": null,
      "align_items": null,
      "align_self": null,
      "border": null,
      "bottom": null,
      "display": null,
      "flex": null,
      "flex_flow": null,
      "grid_area": null,
      "grid_auto_columns": null,
      "grid_auto_flow": null,
      "grid_auto_rows": null,
      "grid_column": null,
      "grid_gap": null,
      "grid_row": null,
      "grid_template_areas": null,
      "grid_template_columns": null,
      "grid_template_rows": null,
      "height": null,
      "justify_content": null,
      "justify_items": null,
      "left": null,
      "margin": null,
      "max_height": null,
      "max_width": null,
      "min_height": null,
      "min_width": null,
      "object_fit": null,
      "object_position": null,
      "order": null,
      "overflow": null,
      "overflow_x": null,
      "overflow_y": null,
      "padding": null,
      "right": null,
      "top": null,
      "visibility": null,
      "width": null
     }
    },
    "b85517c23a2f432396dd0a013ae9789d": {
     "model_module": "@jupyter-widgets/base",
     "model_name": "LayoutModel",
     "state": {
      "_model_module": "@jupyter-widgets/base",
      "_model_module_version": "1.2.0",
      "_model_name": "LayoutModel",
      "_view_count": null,
      "_view_module": "@jupyter-widgets/base",
      "_view_module_version": "1.2.0",
      "_view_name": "LayoutView",
      "align_content": null,
      "align_items": null,
      "align_self": null,
      "border": null,
      "bottom": null,
      "display": null,
      "flex": null,
      "flex_flow": null,
      "grid_area": null,
      "grid_auto_columns": null,
      "grid_auto_flow": null,
      "grid_auto_rows": null,
      "grid_column": null,
      "grid_gap": null,
      "grid_row": null,
      "grid_template_areas": null,
      "grid_template_columns": null,
      "grid_template_rows": null,
      "height": null,
      "justify_content": null,
      "justify_items": null,
      "left": null,
      "margin": null,
      "max_height": null,
      "max_width": null,
      "min_height": null,
      "min_width": null,
      "object_fit": null,
      "object_position": null,
      "order": null,
      "overflow": null,
      "overflow_x": null,
      "overflow_y": null,
      "padding": null,
      "right": null,
      "top": null,
      "visibility": null,
      "width": null
     }
    },
    "c45c54f9cfe54e879cf46019b518aa38": {
     "model_module": "@jupyter-widgets/controls",
     "model_name": "FloatProgressModel",
     "state": {
      "_dom_classes": [],
      "_model_module": "@jupyter-widgets/controls",
      "_model_module_version": "1.5.0",
      "_model_name": "FloatProgressModel",
      "_view_count": null,
      "_view_module": "@jupyter-widgets/controls",
      "_view_module_version": "1.5.0",
      "_view_name": "ProgressView",
      "bar_style": "success",
      "description": "",
      "description_tooltip": null,
      "layout": "IPY_MODEL_ef63156a97dc4686a8cdcd927523a860",
      "max": 1,
      "min": 0,
      "orientation": "horizontal",
      "style": "IPY_MODEL_548939caeb1a42cc896bbbadf7daf371",
      "value": 1
     }
    },
    "c76324a73fad4942a8ed4d1ad988f50a": {
     "model_module": "@jupyter-widgets/base",
     "model_name": "LayoutModel",
     "state": {
      "_model_module": "@jupyter-widgets/base",
      "_model_module_version": "1.2.0",
      "_model_name": "LayoutModel",
      "_view_count": null,
      "_view_module": "@jupyter-widgets/base",
      "_view_module_version": "1.2.0",
      "_view_name": "LayoutView",
      "align_content": null,
      "align_items": null,
      "align_self": null,
      "border": null,
      "bottom": null,
      "display": null,
      "flex": null,
      "flex_flow": null,
      "grid_area": null,
      "grid_auto_columns": null,
      "grid_auto_flow": null,
      "grid_auto_rows": null,
      "grid_column": null,
      "grid_gap": null,
      "grid_row": null,
      "grid_template_areas": null,
      "grid_template_columns": null,
      "grid_template_rows": null,
      "height": null,
      "justify_content": null,
      "justify_items": null,
      "left": null,
      "margin": null,
      "max_height": null,
      "max_width": null,
      "min_height": null,
      "min_width": null,
      "object_fit": null,
      "object_position": null,
      "order": null,
      "overflow": null,
      "overflow_x": null,
      "overflow_y": null,
      "padding": null,
      "right": null,
      "top": null,
      "visibility": null,
      "width": null
     }
    },
    "d3f5d416e4a04ea58d8bc697991e3c54": {
     "model_module": "@jupyter-widgets/controls",
     "model_name": "ProgressStyleModel",
     "state": {
      "_model_module": "@jupyter-widgets/controls",
      "_model_module_version": "1.5.0",
      "_model_name": "ProgressStyleModel",
      "_view_count": null,
      "_view_module": "@jupyter-widgets/base",
      "_view_module_version": "1.2.0",
      "_view_name": "StyleView",
      "bar_color": null,
      "description_width": "initial"
     }
    },
    "ea9c564eab4042a89221485a37332a06": {
     "model_module": "@jupyter-widgets/controls",
     "model_name": "HTMLModel",
     "state": {
      "_dom_classes": [],
      "_model_module": "@jupyter-widgets/controls",
      "_model_module_version": "1.5.0",
      "_model_name": "HTMLModel",
      "_view_count": null,
      "_view_module": "@jupyter-widgets/controls",
      "_view_module_version": "1.5.0",
      "_view_name": "HTMLView",
      "description": "",
      "description_tooltip": null,
      "layout": "IPY_MODEL_3abf210dd9a84a88868ffee1a4c7a38d",
      "placeholder": "​",
      "style": "IPY_MODEL_25f79a07d35a4b6b902019687cc1f574",
      "value": " 8192/? [00:00&lt;00:00, 15216.93it/s]"
     }
    },
    "ee1ea874911a4c7e95e5f647b5146b72": {
     "model_module": "@jupyter-widgets/controls",
     "model_name": "HTMLModel",
     "state": {
      "_dom_classes": [],
      "_model_module": "@jupyter-widgets/controls",
      "_model_module_version": "1.5.0",
      "_model_name": "HTMLModel",
      "_view_count": null,
      "_view_module": "@jupyter-widgets/controls",
      "_view_module_version": "1.5.0",
      "_view_name": "HTMLView",
      "description": "",
      "description_tooltip": null,
      "layout": "IPY_MODEL_453725b4ff8e443294a87a8a0219eeab",
      "placeholder": "​",
      "style": "IPY_MODEL_0039744f28dd4a3381350e64d987455b",
      "value": " 9920512/? [00:03&lt;00:00, 3167145.43it/s]"
     }
    },
    "ef63156a97dc4686a8cdcd927523a860": {
     "model_module": "@jupyter-widgets/base",
     "model_name": "LayoutModel",
     "state": {
      "_model_module": "@jupyter-widgets/base",
      "_model_module_version": "1.2.0",
      "_model_name": "LayoutModel",
      "_view_count": null,
      "_view_module": "@jupyter-widgets/base",
      "_view_module_version": "1.2.0",
      "_view_name": "LayoutView",
      "align_content": null,
      "align_items": null,
      "align_self": null,
      "border": null,
      "bottom": null,
      "display": null,
      "flex": null,
      "flex_flow": null,
      "grid_area": null,
      "grid_auto_columns": null,
      "grid_auto_flow": null,
      "grid_auto_rows": null,
      "grid_column": null,
      "grid_gap": null,
      "grid_row": null,
      "grid_template_areas": null,
      "grid_template_columns": null,
      "grid_template_rows": null,
      "height": null,
      "justify_content": null,
      "justify_items": null,
      "left": null,
      "margin": null,
      "max_height": null,
      "max_width": null,
      "min_height": null,
      "min_width": null,
      "object_fit": null,
      "object_position": null,
      "order": null,
      "overflow": null,
      "overflow_x": null,
      "overflow_y": null,
      "padding": null,
      "right": null,
      "top": null,
      "visibility": null,
      "width": null
     }
    }
   }
  }
 },
 "nbformat": 4,
 "nbformat_minor": 1
}