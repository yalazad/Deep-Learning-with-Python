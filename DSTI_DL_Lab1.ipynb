{
 "cells": [
  {
   "cell_type": "markdown",
   "metadata": {
    "id": "mYjIe2Y5gC9e"
   },
   "source": [
    "# Torch basics"
   ]
  },
  {
   "cell_type": "code",
   "execution_count": 2,
   "metadata": {
    "executionInfo": {
     "elapsed": 3981,
     "status": "ok",
     "timestamp": 1602007026161,
     "user": {
      "displayName": "Lionel Fillatre",
      "photoUrl": "",
      "userId": "14463393848879581998"
     },
     "user_tz": -120
    },
    "id": "Hh6cps5cgC9g"
   },
   "outputs": [],
   "source": [
    "import matplotlib.pyplot as plt\n",
    "%matplotlib inline\n",
    "import torch\n",
    "import numpy as np"
   ]
  },
  {
   "cell_type": "code",
   "execution_count": 3,
   "metadata": {
    "colab": {
     "base_uri": "https://localhost:8080/",
     "height": 35
    },
    "executionInfo": {
     "elapsed": 1190,
     "status": "ok",
     "timestamp": 1602007027340,
     "user": {
      "displayName": "Lionel Fillatre",
      "photoUrl": "",
      "userId": "14463393848879581998"
     },
     "user_tz": -120
    },
    "id": "Pe1KgPFqgC9m",
    "outputId": "ec4825c6-0352-4c9e-85b0-301620dce940"
   },
   "outputs": [
    {
     "data": {
      "text/plain": [
       "'1.6.0'"
      ]
     },
     "execution_count": 3,
     "metadata": {},
     "output_type": "execute_result"
    }
   ],
   "source": [
    "torch.__version__"
   ]
  },
  {
   "cell_type": "markdown",
   "metadata": {
    "id": "lMn2UjdXgC9r"
   },
   "source": [
    "Largely inspired from the tutorial [What is PyTorch?](https://pytorch.org/tutorials/beginner/former_torchies/tensor_tutorial.html)\n",
    "\n",
    "Tensors are used to encode the signal to process, but also the internal states and parameters of models.\n",
    "\n",
    "Manipulating data through this constrained structure allows to use CPUs and GPUs at peak performance.\n",
    "\n"
   ]
  },
  {
   "cell_type": "code",
   "execution_count": 96,
   "metadata": {},
   "outputs": [
    {
     "data": {
      "text/plain": [
       "'GeForce GTX 1050'"
      ]
     },
     "execution_count": 96,
     "metadata": {},
     "output_type": "execute_result"
    }
   ],
   "source": [
    "torch.cuda.get_device_name(0)"
   ]
  },
  {
   "cell_type": "markdown",
   "metadata": {
    "id": "loUAlh7dyVpN"
   },
   "source": [
    "## Tensors"
   ]
  },
  {
   "cell_type": "markdown",
   "metadata": {
    "id": "hlUFi857xt6Q"
   },
   "source": [
    "Construct a 3x5 matrix, uninitialized:"
   ]
  },
  {
   "cell_type": "code",
   "execution_count": 5,
   "metadata": {
    "id": "2kLcNt8IgC9r"
   },
   "outputs": [],
   "source": [
    "# Sets the default floating point dtype. \n",
    "# This type will be used as default floating point type for type inference in torch.tensor().\n",
    "torch.set_default_tensor_type('torch.FloatTensor') "
   ]
  },
  {
   "cell_type": "code",
   "execution_count": 6,
   "metadata": {
    "colab": {
     "base_uri": "https://localhost:8080/",
     "height": 85
    },
    "executionInfo": {
     "elapsed": 4786,
     "status": "ok",
     "timestamp": 1599822021209,
     "user": {
      "displayName": "Lionel Fillatre",
      "photoUrl": "",
      "userId": "14463393848879581998"
     },
     "user_tz": -120
    },
    "id": "RjUhHCJMgC9u",
    "outputId": "152c8a5c-64bc-4876-b5a6-196e2322e176"
   },
   "outputs": [
    {
     "name": "stdout",
     "output_type": "stream",
     "text": [
      "torch.FloatTensor\n",
      "tensor([[9.2755e-39, 1.0561e-38, 9.2755e-39, 9.6429e-39, 9.8265e-39],\n",
      "        [4.2246e-39, 1.0286e-38, 1.0653e-38, 1.0194e-38, 8.4490e-39],\n",
      "        [1.0469e-38, 9.3674e-39, 9.9184e-39, 8.7245e-39, 9.2755e-39]])\n"
     ]
    }
   ],
   "source": [
    "x = torch.empty(3,5)\n",
    "print(x.type())\n",
    "print(x)"
   ]
  },
  {
   "cell_type": "code",
   "execution_count": 7,
   "metadata": {
    "colab": {
     "base_uri": "https://localhost:8080/",
     "height": 68
    },
    "executionInfo": {
     "elapsed": 4780,
     "status": "ok",
     "timestamp": 1599822021210,
     "user": {
      "displayName": "Lionel Fillatre",
      "photoUrl": "",
      "userId": "14463393848879581998"
     },
     "user_tz": -120
    },
    "id": "MnRsrLh5gC9w",
    "outputId": "a2bd305e-c157-4d36-d39a-dbcc6a3f290b"
   },
   "outputs": [
    {
     "name": "stdout",
     "output_type": "stream",
     "text": [
      "tensor([[-0.2417,  0.6133,  1.2742,  1.0492, -1.0255],\n",
      "        [-1.0222,  0.1735,  0.2829,  1.0555, -0.2825],\n",
      "        [-0.1565,  0.4275, -0.8302,  0.9056, -1.4129]])\n"
     ]
    }
   ],
   "source": [
    "x = torch.randn(3,5)\n",
    "print(x)"
   ]
  },
  {
   "cell_type": "code",
   "execution_count": 8,
   "metadata": {
    "colab": {
     "base_uri": "https://localhost:8080/",
     "height": 34
    },
    "executionInfo": {
     "elapsed": 4774,
     "status": "ok",
     "timestamp": 1599822021211,
     "user": {
      "displayName": "Lionel Fillatre",
      "photoUrl": "",
      "userId": "14463393848879581998"
     },
     "user_tz": -120
    },
    "id": "lfgpO7kUgC9z",
    "outputId": "4668066a-edbb-4c4a-f040-fc8867f7e006"
   },
   "outputs": [
    {
     "name": "stdout",
     "output_type": "stream",
     "text": [
      "torch.Size([3, 5])\n"
     ]
    }
   ],
   "source": [
    "print(x.size())"
   ]
  },
  {
   "cell_type": "markdown",
   "metadata": {
    "id": "NNLzvVKigC92"
   },
   "source": [
    "torch.Size is in fact a [tuple](https://docs.python.org/3/tutorial/datastructures.html#tuples-and-sequences), so it supports the same operations."
   ]
  },
  {
   "cell_type": "code",
   "execution_count": 9,
   "metadata": {
    "colab": {
     "base_uri": "https://localhost:8080/",
     "height": 34
    },
    "executionInfo": {
     "elapsed": 4767,
     "status": "ok",
     "timestamp": 1599822021211,
     "user": {
      "displayName": "Lionel Fillatre",
      "photoUrl": "",
      "userId": "14463393848879581998"
     },
     "user_tz": -120
    },
    "id": "W-o3sFH3gC92",
    "outputId": "20f1caa9-72c0-4d33-c42e-e0b8d8f339a1"
   },
   "outputs": [
    {
     "data": {
      "text/plain": [
       "5"
      ]
     },
     "execution_count": 9,
     "metadata": {},
     "output_type": "execute_result"
    }
   ],
   "source": [
    "x.size()[1]"
   ]
  },
  {
   "cell_type": "code",
   "execution_count": 10,
   "metadata": {
    "colab": {
     "base_uri": "https://localhost:8080/",
     "height": 34
    },
    "executionInfo": {
     "elapsed": 4760,
     "status": "ok",
     "timestamp": 1599822021212,
     "user": {
      "displayName": "Lionel Fillatre",
      "photoUrl": "",
      "userId": "14463393848879581998"
     },
     "user_tz": -120
    },
    "id": "LkQAasgtgC95",
    "outputId": "f39e1645-be56-4fce-c97d-ea7de3a9520a"
   },
   "outputs": [
    {
     "data": {
      "text/plain": [
       "True"
      ]
     },
     "execution_count": 10,
     "metadata": {},
     "output_type": "execute_result"
    }
   ],
   "source": [
    "x.size() == (3,5)"
   ]
  },
  {
   "cell_type": "markdown",
   "metadata": {
    "id": "GDufwT0Kstxv"
   },
   "source": [
    "Importance of the brackets when defining a tensor"
   ]
  },
  {
   "cell_type": "code",
   "execution_count": 11,
   "metadata": {
    "colab": {
     "base_uri": "https://localhost:8080/",
     "height": 119
    },
    "executionInfo": {
     "elapsed": 4754,
     "status": "ok",
     "timestamp": 1599822021213,
     "user": {
      "displayName": "Lionel Fillatre",
      "photoUrl": "",
      "userId": "14463393848879581998"
     },
     "user_tz": -120
    },
    "id": "wa9IPaaqsaPg",
    "outputId": "6b16ad96-0ed6-41f5-8f21-e388a0f08f64"
   },
   "outputs": [
    {
     "name": "stdout",
     "output_type": "stream",
     "text": [
      "<class 'torch.Tensor'>\n",
      "torch.float32\n",
      "torch.Size([1])\n",
      "<class 'torch.Tensor'>\n",
      "torch.float32\n",
      "torch.Size([])\n"
     ]
    }
   ],
   "source": [
    "a = torch.tensor([2.0])\n",
    "print(type(a))\n",
    "print(a.dtype)\n",
    "print(a.size())\n",
    "\n",
    "b = torch.tensor(2.0)\n",
    "print(type(b))\n",
    "print(b.dtype)\n",
    "print(b.size())"
   ]
  },
  {
   "cell_type": "markdown",
   "metadata": {
    "id": "XeAg1TcMhyf4"
   },
   "source": [
    "Select some columns"
   ]
  },
  {
   "cell_type": "code",
   "execution_count": 12,
   "metadata": {
    "colab": {
     "base_uri": "https://localhost:8080/",
     "height": 102
    },
    "executionInfo": {
     "elapsed": 4747,
     "status": "ok",
     "timestamp": 1599822021213,
     "user": {
      "displayName": "Lionel Fillatre",
      "photoUrl": "",
      "userId": "14463393848879581998"
     },
     "user_tz": -120
    },
    "id": "DZaC-fXlgY6G",
    "outputId": "c3cdf01d-1374-4f64-9630-9c991496b755"
   },
   "outputs": [
    {
     "name": "stdout",
     "output_type": "stream",
     "text": [
      "tensor([False, False, False, False, False])\n",
      "tensor([False,  True, False, False,  True])\n",
      "tensor([[ 0.6133, -1.0255],\n",
      "        [ 0.1735, -0.2825],\n",
      "        [ 0.4275, -1.4129]])\n"
     ]
    }
   ],
   "source": [
    "cols = torch.zeros(5, dtype=torch.bool)\n",
    "print(cols)\n",
    "cols[1] = True\n",
    "cols[4] = True\n",
    "print(cols)\n",
    "c = x[:, cols]  # selects all rows, 4th column and  5th column from a\n",
    "print(c)"
   ]
  },
  {
   "cell_type": "markdown",
   "metadata": {
    "id": "t9v3syrRf-13"
   },
   "source": [
    "All operations on the tensor that operate in-place on it will have an _ postfix. "
   ]
  },
  {
   "cell_type": "code",
   "execution_count": 13,
   "metadata": {
    "colab": {
     "base_uri": "https://localhost:8080/",
     "height": 68
    },
    "executionInfo": {
     "elapsed": 4741,
     "status": "ok",
     "timestamp": 1599822021214,
     "user": {
      "displayName": "Lionel Fillatre",
      "photoUrl": "",
      "userId": "14463393848879581998"
     },
     "user_tz": -120
    },
    "id": "zr3PP5oVf1SV",
    "outputId": "002e5053-dbeb-4143-fbe6-01d526b3a969"
   },
   "outputs": [
    {
     "name": "stdout",
     "output_type": "stream",
     "text": [
      "tensor([[3.5000, 3.5000, 3.5000, 3.5000, 3.5000],\n",
      "        [3.5000, 3.5000, 3.5000, 3.5000, 3.5000],\n",
      "        [3.5000, 3.5000, 3.5000, 3.5000, 3.5000]])\n"
     ]
    }
   ],
   "source": [
    "# x will be filled with the value 3.5\n",
    "x.fill_(3.5)\n",
    "print(x)"
   ]
  },
  {
   "cell_type": "markdown",
   "metadata": {
    "id": "SXPtlUXsgC96"
   },
   "source": [
    "## Bridge to numpy"
   ]
  },
  {
   "cell_type": "code",
   "execution_count": 14,
   "metadata": {
    "colab": {
     "base_uri": "https://localhost:8080/",
     "height": 68
    },
    "executionInfo": {
     "elapsed": 4734,
     "status": "ok",
     "timestamp": 1599822021214,
     "user": {
      "displayName": "Lionel Fillatre",
      "photoUrl": "",
      "userId": "14463393848879581998"
     },
     "user_tz": -120
    },
    "id": "61srdUzCgC97",
    "outputId": "02048f4d-fd3f-4c19-da6f-af9c7e5a0d41"
   },
   "outputs": [
    {
     "name": "stdout",
     "output_type": "stream",
     "text": [
      "[[3.5 3.5 3.5 3.5 3.5]\n",
      " [3.5 3.5 3.5 3.5 3.5]\n",
      " [3.5 3.5 3.5 3.5 3.5]]\n"
     ]
    }
   ],
   "source": [
    "y = x.numpy()\n",
    "print(y)"
   ]
  },
  {
   "cell_type": "code",
   "execution_count": 15,
   "metadata": {
    "colab": {
     "base_uri": "https://localhost:8080/",
     "height": 34
    },
    "executionInfo": {
     "elapsed": 4727,
     "status": "ok",
     "timestamp": 1599822021215,
     "user": {
      "displayName": "Lionel Fillatre",
      "photoUrl": "",
      "userId": "14463393848879581998"
     },
     "user_tz": -120
    },
    "id": "tFv5BzYsgC99",
    "outputId": "057042b6-5af2-43c4-ce02-ac4470371e46"
   },
   "outputs": [
    {
     "name": "stdout",
     "output_type": "stream",
     "text": [
      "tensor([1., 1., 1., 1., 1.], dtype=torch.float64)\n"
     ]
    }
   ],
   "source": [
    "a = np.ones(5)\n",
    "b = torch.from_numpy(a)\n",
    "print(b)\n",
    " "
   ]
  },
  {
   "cell_type": "code",
   "execution_count": 16,
   "metadata": {
    "colab": {
     "base_uri": "https://localhost:8080/",
     "height": 85
    },
    "executionInfo": {
     "elapsed": 4720,
     "status": "ok",
     "timestamp": 1599822021215,
     "user": {
      "displayName": "Lionel Fillatre",
      "photoUrl": "",
      "userId": "14463393848879581998"
     },
     "user_tz": -120
    },
    "id": "lfpk2tfpgC9-",
    "outputId": "a48bd847-3942-4568-8197-d02f2b073ae1"
   },
   "outputs": [
    {
     "name": "stdout",
     "output_type": "stream",
     "text": [
      "tensor([[ 0.3993,  0.2340, -0.3514, -0.7055,  0.1950],\n",
      "        [ 1.5851, -0.0038, -0.3290, -0.1031,  2.0309],\n",
      "        [-0.7841,  0.5768,  1.4713, -1.0097,  0.9458]])\n",
      "tensor([1, 1, 1, 1, 1], dtype=torch.int32)\n"
     ]
    }
   ],
   "source": [
    "xr = torch.randn(3, 5)\n",
    "a = np.ones(5).astype(int)\n",
    "b = torch.from_numpy(a)\n",
    "print(xr)\n",
    "print(b)"
   ]
  },
  {
   "cell_type": "markdown",
   "metadata": {
    "id": "C6sKTTlZ0RmP"
   },
   "source": [
    "### Question: print the type of the content (data) of variables a, b and xr"
   ]
  },
  {
   "cell_type": "code",
   "execution_count": 17,
   "metadata": {
    "id": "k07dBWLRxARt"
   },
   "outputs": [],
   "source": [
    "# COMPLETE THE CELL\n",
    "# ..."
   ]
  },
  {
   "cell_type": "markdown",
   "metadata": {
    "id": "7fwWdAYjUuiN"
   },
   "source": [
    "## Operations\n",
    "\n",
    "There are multiple syntaxes for operations. In the following\n",
    "example, we will take a look at the addition operation.\n",
    "\n",
    "Addition: syntax 1"
   ]
  },
  {
   "cell_type": "code",
   "execution_count": 18,
   "metadata": {
    "colab": {
     "base_uri": "https://localhost:8080/",
     "height": 102
    },
    "executionInfo": {
     "elapsed": 4706,
     "status": "ok",
     "timestamp": 1599822021216,
     "user": {
      "displayName": "Lionel Fillatre",
      "photoUrl": "",
      "userId": "14463393848879581998"
     },
     "user_tz": -120
    },
    "id": "4iASmmTAUxG0",
    "outputId": "c65acfdd-2209-49b4-b48a-43d3f2e621c9"
   },
   "outputs": [
    {
     "name": "stdout",
     "output_type": "stream",
     "text": [
      "tensor([[1.6253, 1.3760, 0.6602],\n",
      "        [0.9032, 1.2568, 1.5492],\n",
      "        [0.9761, 1.1801, 1.4420],\n",
      "        [0.7581, 0.7804, 0.6957],\n",
      "        [1.1347, 0.9148, 1.4163]])\n"
     ]
    }
   ],
   "source": [
    "x = torch.rand(5, 3) \n",
    "y = torch.rand(5, 3)\n",
    "print(x + y)"
   ]
  },
  {
   "cell_type": "markdown",
   "metadata": {
    "id": "H5NxjdPhVQP8"
   },
   "source": [
    "Addition: syntax 2"
   ]
  },
  {
   "cell_type": "code",
   "execution_count": 19,
   "metadata": {
    "colab": {
     "base_uri": "https://localhost:8080/",
     "height": 102
    },
    "executionInfo": {
     "elapsed": 4700,
     "status": "ok",
     "timestamp": 1599822021217,
     "user": {
      "displayName": "Lionel Fillatre",
      "photoUrl": "",
      "userId": "14463393848879581998"
     },
     "user_tz": -120
    },
    "id": "GwCo8DOcVRHq",
    "outputId": "92063b91-4500-44dd-b051-cc7130bcbf7e"
   },
   "outputs": [
    {
     "name": "stdout",
     "output_type": "stream",
     "text": [
      "tensor([[1.6253, 1.3760, 0.6602],\n",
      "        [0.9032, 1.2568, 1.5492],\n",
      "        [0.9761, 1.1801, 1.4420],\n",
      "        [0.7581, 0.7804, 0.6957],\n",
      "        [1.1347, 0.9148, 1.4163]])\n"
     ]
    }
   ],
   "source": [
    "print(torch.add(x, y))"
   ]
  },
  {
   "cell_type": "markdown",
   "metadata": {
    "id": "wNuL3H61VZvS"
   },
   "source": [
    "Addition: providing an output tensor as argument"
   ]
  },
  {
   "cell_type": "code",
   "execution_count": 20,
   "metadata": {
    "colab": {
     "base_uri": "https://localhost:8080/",
     "height": 102
    },
    "executionInfo": {
     "elapsed": 4693,
     "status": "ok",
     "timestamp": 1599822021217,
     "user": {
      "displayName": "Lionel Fillatre",
      "photoUrl": "",
      "userId": "14463393848879581998"
     },
     "user_tz": -120
    },
    "id": "hX1ffSunVail",
    "outputId": "459d1824-9b86-4c88-9ad8-43f21a585f4b"
   },
   "outputs": [
    {
     "name": "stdout",
     "output_type": "stream",
     "text": [
      "tensor([[1.6253, 1.3760, 0.6602],\n",
      "        [0.9032, 1.2568, 1.5492],\n",
      "        [0.9761, 1.1801, 1.4420],\n",
      "        [0.7581, 0.7804, 0.6957],\n",
      "        [1.1347, 0.9148, 1.4163]])\n"
     ]
    }
   ],
   "source": [
    "result = torch.empty(5, 3)\n",
    "torch.add(x, y, out=result)\n",
    "print(result)"
   ]
  },
  {
   "cell_type": "markdown",
   "metadata": {
    "id": "-VK0_f0rVejB"
   },
   "source": [
    "Addition: in-place ->  Saves memory - interesting for limited memory of GPU"
   ]
  },
  {
   "cell_type": "code",
   "execution_count": 21,
   "metadata": {
    "colab": {
     "base_uri": "https://localhost:8080/",
     "height": 102
    },
    "executionInfo": {
     "elapsed": 4687,
     "status": "ok",
     "timestamp": 1599822021218,
     "user": {
      "displayName": "Lionel Fillatre",
      "photoUrl": "",
      "userId": "14463393848879581998"
     },
     "user_tz": -120
    },
    "id": "rj0GKMgSVlGV",
    "outputId": "d994919f-d6f6-4e8e-84ca-41c5ac018626"
   },
   "outputs": [
    {
     "name": "stdout",
     "output_type": "stream",
     "text": [
      "tensor([[1.6253, 1.3760, 0.6602],\n",
      "        [0.9032, 1.2568, 1.5492],\n",
      "        [0.9761, 1.1801, 1.4420],\n",
      "        [0.7581, 0.7804, 0.6957],\n",
      "        [1.1347, 0.9148, 1.4163]])\n"
     ]
    }
   ],
   "source": [
    "# adds x to y\n",
    "y.add_(x)\n",
    "print(y)"
   ]
  },
  {
   "cell_type": "markdown",
   "metadata": {
    "id": "EgNBadgeVscS"
   },
   "source": [
    "**Note:** Any operation that mutates a tensor in-place is post-fixed with an ``_``.\n",
    "    For example: ``x.copy_(y)``, ``x.t_()``, will change ``x``.\n",
    "\n"
   ]
  },
  {
   "cell_type": "markdown",
   "metadata": {
    "id": "kOPtMoOkgC-G"
   },
   "source": [
    "Any operation that mutates a tensor in-place is post-fixed with an ```_```\n",
    "\n",
    "For example: ```x.copy_(y)```, ```x.t_()```, will change ```x```."
   ]
  },
  {
   "cell_type": "code",
   "execution_count": 22,
   "metadata": {
    "colab": {
     "base_uri": "https://localhost:8080/",
     "height": 68
    },
    "executionInfo": {
     "elapsed": 4681,
     "status": "ok",
     "timestamp": 1599822021219,
     "user": {
      "displayName": "Lionel Fillatre",
      "photoUrl": "",
      "userId": "14463393848879581998"
     },
     "user_tz": -120
    },
    "id": "hrOV0mQIgC-G",
    "outputId": "d9285607-89c1-473c-cdf2-c9f373ca5c29"
   },
   "outputs": [
    {
     "name": "stdout",
     "output_type": "stream",
     "text": [
      "tensor([[0.9453, 0.6102, 0.2926, 0.6975, 0.5143],\n",
      "        [0.9240, 0.5162, 0.8044, 0.1741, 0.8437],\n",
      "        [0.2290, 0.6782, 0.4463, 0.2162, 0.9057]])\n"
     ]
    }
   ],
   "source": [
    "print(x.t())"
   ]
  },
  {
   "cell_type": "code",
   "execution_count": 23,
   "metadata": {
    "colab": {
     "base_uri": "https://localhost:8080/",
     "height": 102
    },
    "executionInfo": {
     "elapsed": 4673,
     "status": "ok",
     "timestamp": 1599822021219,
     "user": {
      "displayName": "Lionel Fillatre",
      "photoUrl": "",
      "userId": "14463393848879581998"
     },
     "user_tz": -120
    },
    "id": "LfNnD4vSgC-H",
    "outputId": "17f0141d-795d-40a9-fc46-627dffd6757e"
   },
   "outputs": [
    {
     "name": "stdout",
     "output_type": "stream",
     "text": [
      "tensor([[0.9453, 0.9240, 0.2290],\n",
      "        [0.6102, 0.5162, 0.6782],\n",
      "        [0.2926, 0.8044, 0.4463],\n",
      "        [0.6975, 0.1741, 0.2162],\n",
      "        [0.5143, 0.8437, 0.9057]])\n"
     ]
    }
   ],
   "source": [
    "print(x)"
   ]
  },
  {
   "cell_type": "code",
   "execution_count": 24,
   "metadata": {
    "colab": {
     "base_uri": "https://localhost:8080/",
     "height": 68
    },
    "executionInfo": {
     "elapsed": 4667,
     "status": "ok",
     "timestamp": 1599822021220,
     "user": {
      "displayName": "Lionel Fillatre",
      "photoUrl": "",
      "userId": "14463393848879581998"
     },
     "user_tz": -120
    },
    "id": "5YdHeI8lgC-I",
    "outputId": "06103d1b-a9f7-4a84-900e-adb10d6b045a"
   },
   "outputs": [
    {
     "name": "stdout",
     "output_type": "stream",
     "text": [
      "tensor([[0.9453, 0.6102, 0.2926, 0.6975, 0.5143],\n",
      "        [0.9240, 0.5162, 0.8044, 0.1741, 0.8437],\n",
      "        [0.2290, 0.6782, 0.4463, 0.2162, 0.9057]])\n"
     ]
    }
   ],
   "source": [
    "x.t_()\n",
    "print(x)"
   ]
  },
  {
   "cell_type": "markdown",
   "metadata": {
    "id": "UfxHIL-mWyZl"
   },
   "source": [
    "You can use standard NumPy-like indexing with all bells and whistles!"
   ]
  },
  {
   "cell_type": "code",
   "execution_count": 25,
   "metadata": {
    "colab": {
     "base_uri": "https://localhost:8080/",
     "height": 34
    },
    "executionInfo": {
     "elapsed": 4660,
     "status": "ok",
     "timestamp": 1599822021220,
     "user": {
      "displayName": "Lionel Fillatre",
      "photoUrl": "",
      "userId": "14463393848879581998"
     },
     "user_tz": -120
    },
    "id": "Cz4M97B2Wtyu",
    "outputId": "bfc9da74-145f-4c51-da59-14b81c2ffba1"
   },
   "outputs": [
    {
     "name": "stdout",
     "output_type": "stream",
     "text": [
      "tensor([0.6102, 0.5162, 0.6782])\n"
     ]
    }
   ],
   "source": [
    "print(x[:, 1])"
   ]
  },
  {
   "cell_type": "markdown",
   "metadata": {
    "id": "M6tsVH8zW8yB"
   },
   "source": [
    "Resizing (very useful): If you want to resize/reshape tensor, you can use ``torch.view``: - see reshape in numpy"
   ]
  },
  {
   "cell_type": "code",
   "execution_count": 26,
   "metadata": {
    "colab": {
     "base_uri": "https://localhost:8080/",
     "height": 34
    },
    "executionInfo": {
     "elapsed": 4653,
     "status": "ok",
     "timestamp": 1599822021221,
     "user": {
      "displayName": "Lionel Fillatre",
      "photoUrl": "",
      "userId": "14463393848879581998"
     },
     "user_tz": -120
    },
    "id": "k0qjaFPDW_3I",
    "outputId": "69e8106c-4575-4e67-d1df-ce0060dddea5"
   },
   "outputs": [
    {
     "name": "stdout",
     "output_type": "stream",
     "text": [
      "torch.Size([4, 4]) torch.Size([16]) torch.Size([2, 8])\n"
     ]
    }
   ],
   "source": [
    "x = torch.randn(4, 4)\n",
    "y = x.view(16)\n",
    "z = x.view(-1, 8)  # the size -1 is inferred from other dimensions\n",
    "print(x.size(), y.size(), z.size())"
   ]
  },
  {
   "cell_type": "markdown",
   "metadata": {
    "id": "fP8sTTCgXRak"
   },
   "source": [
    "If you have a one element tensor, use ``.item()`` to get the value as a\n",
    "Python number"
   ]
  },
  {
   "cell_type": "code",
   "execution_count": 27,
   "metadata": {
    "colab": {
     "base_uri": "https://localhost:8080/",
     "height": 51
    },
    "executionInfo": {
     "elapsed": 4647,
     "status": "ok",
     "timestamp": 1599822021222,
     "user": {
      "displayName": "Lionel Fillatre",
      "photoUrl": "",
      "userId": "14463393848879581998"
     },
     "user_tz": -120
    },
    "id": "zaG9x6SHXSPw",
    "outputId": "fe259c11-4fae-4d5a-8e8b-4ee0dc2bd47d"
   },
   "outputs": [
    {
     "name": "stdout",
     "output_type": "stream",
     "text": [
      "tensor([-0.5818])\n",
      "-0.5818113684654236\n"
     ]
    }
   ],
   "source": [
    "x = torch.randn(1)\n",
    "print(x)\n",
    "print(x.item())"
   ]
  },
  {
   "cell_type": "markdown",
   "metadata": {
    "id": "mqCvPrp-XmZQ"
   },
   "source": [
    "**Read later:**\n",
    "\n",
    "\n",
    "  100+ Tensor operations, including transposing, indexing, slicing,\n",
    "  mathematical operations, linear algebra, random numbers, etc.,\n",
    "  are described\n",
    "  [here](https://pytorch.org/docs/torch)."
   ]
  },
  {
   "cell_type": "markdown",
   "metadata": {
    "id": "8Jk-JGYpeCNz"
   },
   "source": [
    "## 3D Tensors"
   ]
  },
  {
   "cell_type": "markdown",
   "metadata": {
    "id": "RTGbU2E-eLWF"
   },
   "source": [
    "### Question: What is the size of the following tensor?"
   ]
  },
  {
   "cell_type": "code",
   "execution_count": 28,
   "metadata": {
    "colab": {
     "base_uri": "https://localhost:8080/",
     "height": 153
    },
    "executionInfo": {
     "elapsed": 4637,
     "status": "ok",
     "timestamp": 1599822021222,
     "user": {
      "displayName": "Lionel Fillatre",
      "photoUrl": "",
      "userId": "14463393848879581998"
     },
     "user_tz": -120
    },
    "id": "d-Dg4nyOeD4f",
    "outputId": "41868412-1da8-4305-e433-46eed414e502"
   },
   "outputs": [
    {
     "name": "stdout",
     "output_type": "stream",
     "text": [
      "tensor([[[1, 2, 3],\n",
      "         [4, 5, 6]],\n",
      "\n",
      "        [[1, 2, 3],\n",
      "         [4, 5, 6]],\n",
      "\n",
      "        [[1, 2, 3],\n",
      "         [4, 5, 6]]])\n"
     ]
    }
   ],
   "source": [
    "y = torch.tensor([\n",
    "     [\n",
    "       [1, 2, 3],\n",
    "       [4, 5, 6]\n",
    "     ],\n",
    "     [\n",
    "       [1, 2, 3],\n",
    "       [4, 5, 6]\n",
    "     ],\n",
    "     [\n",
    "       [1, 2, 3],\n",
    "       [4, 5, 6]\n",
    "     ]\n",
    "   ])\n",
    "print(y)"
   ]
  },
  {
   "cell_type": "code",
   "execution_count": 29,
   "metadata": {
    "id": "2gBU82BTe0_y"
   },
   "outputs": [
    {
     "name": "stdout",
     "output_type": "stream",
     "text": [
      "torch.Size([3, 2, 3])\n"
     ]
    }
   ],
   "source": [
    "# COMPLETE THE CELL\n",
    "# (3,2,3)\n",
    "print(y.size())"
   ]
  },
  {
   "cell_type": "markdown",
   "metadata": {
    "id": "dOUGbVEUe9DC"
   },
   "source": [
    "### Question: Explain the result of the next cell\n",
    "\n",
    "dim=0 : sum the first dimension so the first dimension \"disappear\"  \n",
    "dim=1 : sum the second dimension so the second dimension \"disappear\"\n"
   ]
  },
  {
   "cell_type": "code",
   "execution_count": 30,
   "metadata": {
    "colab": {
     "base_uri": "https://localhost:8080/",
     "height": 51
    },
    "executionInfo": {
     "elapsed": 4623,
     "status": "ok",
     "timestamp": 1599822021223,
     "user": {
      "displayName": "Lionel Fillatre",
      "photoUrl": "",
      "userId": "14463393848879581998"
     },
     "user_tz": -120
    },
    "id": "14O04VMTe9eg",
    "outputId": "bb0068c5-bd4c-4a3b-c1d2-8b2a6cecfbe6"
   },
   "outputs": [
    {
     "data": {
      "text/plain": [
       "tensor([[ 3,  6,  9],\n",
       "        [12, 15, 18]])"
      ]
     },
     "execution_count": 30,
     "metadata": {},
     "output_type": "execute_result"
    }
   ],
   "source": [
    "torch.sum(y, dim=0)"
   ]
  },
  {
   "cell_type": "markdown",
   "metadata": {
    "id": "Ev68h5j1ZUNH"
   },
   "source": [
    "## Broadcasting semantics\n",
    "\n",
    "In short, if a PyTorch operation supports broadcast, then its Tensor arguments can be automatically expanded to be of equal sizes (without making copies of the data).\n",
    "\n",
    "Two tensors are “broadcastable” if the following rules hold:\n",
    "\n",
    "*   Each tensor has at least one dimension.\n",
    "*   When iterating over the dimension sizes, **starting at the trailing dimension**, the dimension sizes must either be equal, one of them is 1, or one of them does not exist.\n",
    "\n",
    "If two tensors x, y are “broadcastable”, the resulting tensor size is calculated as follows:\n",
    "* If the number of dimensions of x and y are not equal, prepend 1 to the dimensions of the tensor with fewer dimensions to make them equal length.\n",
    "* Then, for each dimension size, the resulting dimension size is the max of the sizes of x and y along that dimension.\n",
    "\n",
    "More details [here](https://pytorch.org/docs/stable/notes/broadcasting.html)\n",
    "\n"
   ]
  },
  {
   "cell_type": "code",
   "execution_count": 31,
   "metadata": {
    "colab": {
     "base_uri": "https://localhost:8080/",
     "height": 34
    },
    "executionInfo": {
     "elapsed": 4617,
     "status": "ok",
     "timestamp": 1599822021224,
     "user": {
      "displayName": "Lionel Fillatre",
      "photoUrl": "",
      "userId": "14463393848879581998"
     },
     "user_tz": -120
    },
    "id": "P3f9hXLxZXQa",
    "outputId": "3f16add6-6de3-4626-c3ac-b9b06547f9f4"
   },
   "outputs": [
    {
     "name": "stdout",
     "output_type": "stream",
     "text": [
      "torch.Size([5, 3, 4, 1])\n"
     ]
    }
   ],
   "source": [
    "# can line up trailing dimensions to make reading easier\n",
    "x=torch.empty(5,1,4,1)\n",
    "y=torch.empty(  3,1,1)\n",
    "print((x+y).size())\n",
    "\n"
   ]
  },
  {
   "cell_type": "code",
   "execution_count": 32,
   "metadata": {
    "colab": {
     "base_uri": "https://localhost:8080/",
     "height": 34
    },
    "executionInfo": {
     "elapsed": 4609,
     "status": "ok",
     "timestamp": 1599822021224,
     "user": {
      "displayName": "Lionel Fillatre",
      "photoUrl": "",
      "userId": "14463393848879581998"
     },
     "user_tz": -120
    },
    "id": "LsYo7aBqaJ5F",
    "outputId": "fee23db7-ee8c-4e43-dff4-242f2efc39bd"
   },
   "outputs": [
    {
     "name": "stdout",
     "output_type": "stream",
     "text": [
      "torch.Size([3, 1, 7])\n"
     ]
    }
   ],
   "source": [
    "# but not necessary:\n",
    "x=torch.empty(1)\n",
    "y=torch.empty(3,1,7)\n",
    "print((x+y).size())\n",
    "\n"
   ]
  },
  {
   "cell_type": "code",
   "execution_count": 33,
   "metadata": {},
   "outputs": [
    {
     "name": "stdout",
     "output_type": "stream",
     "text": [
      "tensor([[1.4013e-45, 2.3694e-38]])\n",
      "tensor([[2.3694e-38],\n",
      "        [2.3694e-38]])\n",
      "torch.Size([2, 2])\n",
      "tensor([[2.3694e-38, 4.7388e-38],\n",
      "        [2.3694e-38, 4.7389e-38]])\n"
     ]
    }
   ],
   "source": [
    "# but not necessary:\n",
    "x=torch.empty(1,2)\n",
    "y=torch.empty(2,1)\n",
    "print(x)\n",
    "print(y)\n",
    "print((x+y).size())\n",
    "print(x+y)"
   ]
  },
  {
   "cell_type": "markdown",
   "metadata": {
    "id": "0n_Y_hY6fxeL"
   },
   "source": [
    "### Question: The following command does not work. Why?\n",
    "\n",
    "Because here for the second dimension you have both 2 and 3 => impossible\n"
   ]
  },
  {
   "cell_type": "code",
   "execution_count": 34,
   "metadata": {
    "colab": {
     "base_uri": "https://localhost:8080/",
     "height": 198
    },
    "executionInfo": {
     "elapsed": 5189,
     "status": "error",
     "timestamp": 1599822021812,
     "user": {
      "displayName": "Lionel Fillatre",
      "photoUrl": "",
      "userId": "14463393848879581998"
     },
     "user_tz": -120
    },
    "id": "Vq3SqanjaO6U",
    "outputId": "f55381d4-95c0-4f5a-e31d-818544b5a512"
   },
   "outputs": [
    {
     "ename": "RuntimeError",
     "evalue": "The size of tensor a (2) must match the size of tensor b (3) at non-singleton dimension 1",
     "output_type": "error",
     "traceback": [
      "\u001b[1;31m---------------------------------------------------------------------------\u001b[0m",
      "\u001b[1;31mRuntimeError\u001b[0m                              Traceback (most recent call last)",
      "\u001b[1;32m<ipython-input-34-b8d3fcc0b74d>\u001b[0m in \u001b[0;36m<module>\u001b[1;34m\u001b[0m\n\u001b[0;32m      1\u001b[0m \u001b[0mx\u001b[0m\u001b[1;33m=\u001b[0m\u001b[0mtorch\u001b[0m\u001b[1;33m.\u001b[0m\u001b[0mempty\u001b[0m\u001b[1;33m(\u001b[0m\u001b[1;36m5\u001b[0m\u001b[1;33m,\u001b[0m\u001b[1;36m2\u001b[0m\u001b[1;33m,\u001b[0m\u001b[1;36m4\u001b[0m\u001b[1;33m,\u001b[0m\u001b[1;36m1\u001b[0m\u001b[1;33m)\u001b[0m\u001b[1;33m\u001b[0m\u001b[1;33m\u001b[0m\u001b[0m\n\u001b[0;32m      2\u001b[0m \u001b[0my\u001b[0m\u001b[1;33m=\u001b[0m\u001b[0mtorch\u001b[0m\u001b[1;33m.\u001b[0m\u001b[0mempty\u001b[0m\u001b[1;33m(\u001b[0m  \u001b[1;36m3\u001b[0m\u001b[1;33m,\u001b[0m\u001b[1;36m1\u001b[0m\u001b[1;33m,\u001b[0m\u001b[1;36m1\u001b[0m\u001b[1;33m)\u001b[0m\u001b[1;33m\u001b[0m\u001b[1;33m\u001b[0m\u001b[0m\n\u001b[1;32m----> 3\u001b[1;33m \u001b[0mprint\u001b[0m\u001b[1;33m(\u001b[0m\u001b[1;33m(\u001b[0m\u001b[0mx\u001b[0m\u001b[1;33m+\u001b[0m\u001b[0my\u001b[0m\u001b[1;33m)\u001b[0m\u001b[1;33m.\u001b[0m\u001b[0msize\u001b[0m\u001b[1;33m(\u001b[0m\u001b[1;33m)\u001b[0m\u001b[1;33m)\u001b[0m\u001b[1;33m\u001b[0m\u001b[1;33m\u001b[0m\u001b[0m\n\u001b[0m",
      "\u001b[1;31mRuntimeError\u001b[0m: The size of tensor a (2) must match the size of tensor b (3) at non-singleton dimension 1"
     ]
    }
   ],
   "source": [
    "x=torch.empty(5,2,4,1)\n",
    "y=torch.empty(  3,1,1)\n",
    "print((x+y).size())\n"
   ]
  },
  {
   "cell_type": "code",
   "execution_count": 35,
   "metadata": {
    "colab": {
     "base_uri": "https://localhost:8080/",
     "height": 153
    },
    "executionInfo": {
     "elapsed": 1188,
     "status": "ok",
     "timestamp": 1599822146177,
     "user": {
      "displayName": "Lionel Fillatre",
      "photoUrl": "",
      "userId": "14463393848879581998"
     },
     "user_tz": -120
    },
    "id": "ha4-WRJ0g4l9",
    "outputId": "653e2ee9-e4d8-46ea-c24b-6fd2ca134b91"
   },
   "outputs": [
    {
     "name": "stdout",
     "output_type": "stream",
     "text": [
      "tensor([[[3., 3., 3., 3.],\n",
      "         [3., 3., 3., 3.]],\n",
      "\n",
      "        [[3., 3., 3., 3.],\n",
      "         [3., 3., 3., 3.]],\n",
      "\n",
      "        [[3., 3., 3., 3.],\n",
      "         [3., 3., 3., 3.]]])\n"
     ]
    }
   ],
   "source": [
    "x=2*torch.ones(  2,4)\n",
    "y=torch.ones(3,2,4)\n",
    "print(x+y)"
   ]
  },
  {
   "cell_type": "markdown",
   "metadata": {
    "id": "Afol8pk8VPUn"
   },
   "source": [
    "### Question: What is the diffence between \"x = xr\" and \"x = xr.clone()\"? \n",
    "\n",
    "By default y=xr : same memory location"
   ]
  },
  {
   "cell_type": "code",
   "execution_count": 36,
   "metadata": {
    "colab": {
     "base_uri": "https://localhost:8080/",
     "height": 119
    },
    "executionInfo": {
     "elapsed": 1179,
     "status": "ok",
     "timestamp": 1599822146178,
     "user": {
      "displayName": "Lionel Fillatre",
      "photoUrl": "",
      "userId": "14463393848879581998"
     },
     "user_tz": -120
    },
    "id": "ROIvJcOngC-E",
    "outputId": "374d408d-2c28-4de6-f478-0bf2f3fca77b"
   },
   "outputs": [
    {
     "name": "stdout",
     "output_type": "stream",
     "text": [
      "tensor([[0., 0., 0., 0., 0.],\n",
      "        [0., 0., 0., 0., 0.],\n",
      "        [0., 0., 0., 0., 0.]])\n",
      "tensor([[ 0.3993,  0.2340, -0.3514, -0.7055,  0.1950],\n",
      "        [ 1.5851, -0.0038, -0.3290, -0.1031,  2.0309],\n",
      "        [-0.7841,  0.5768,  1.4713, -1.0097,  0.9458]])\n",
      "tensor([[0., 0., 0., 0., 0.],\n",
      "        [0., 0., 0., 0., 0.],\n",
      "        [0., 0., 0., 0., 0.]])\n",
      "tensor([[0., 0., 0., 0., 0.],\n",
      "        [0., 0., 0., 0., 0.],\n",
      "        [0., 0., 0., 0., 0.]])\n"
     ]
    }
   ],
   "source": [
    "x = xr.clone()\n",
    "x.add_(-xr)\n",
    "print(x)\n",
    "print(xr)\n",
    "y=xr\n",
    "y.add_(-xr)\n",
    "print(y)\n",
    "print(xr)"
   ]
  },
  {
   "cell_type": "markdown",
   "metadata": {
    "id": "UWxZLzMrgC-J"
   },
   "source": [
    "Also be careful, changing the torch tensor modify the numpy array and vice-versa..."
   ]
  },
  {
   "cell_type": "code",
   "execution_count": 37,
   "metadata": {
    "colab": {
     "base_uri": "https://localhost:8080/",
     "height": 85
    },
    "executionInfo": {
     "elapsed": 1174,
     "status": "ok",
     "timestamp": 1599822146179,
     "user": {
      "displayName": "Lionel Fillatre",
      "photoUrl": "",
      "userId": "14463393848879581998"
     },
     "user_tz": -120
    },
    "id": "lkcW43iugC-J",
    "outputId": "10b3722a-3895-4f4a-bbd4-e5267899d7c2"
   },
   "outputs": [
    {
     "name": "stdout",
     "output_type": "stream",
     "text": [
      "tensor([[1., 1., 1., 1.],\n",
      "        [1., 1., 1., 1.]])\n",
      "[[1. 1. 1. 1.]\n",
      " [1. 1. 1. 1.]]\n"
     ]
    }
   ],
   "source": [
    "y=torch.ones(2,4)\n",
    "print(y)\n",
    "z = y.numpy()\n",
    "print(z)"
   ]
  },
  {
   "cell_type": "code",
   "execution_count": 38,
   "metadata": {
    "colab": {
     "base_uri": "https://localhost:8080/",
     "height": 170
    },
    "executionInfo": {
     "elapsed": 1169,
     "status": "ok",
     "timestamp": 1599822146179,
     "user": {
      "displayName": "Lionel Fillatre",
      "photoUrl": "",
      "userId": "14463393848879581998"
     },
     "user_tz": -120
    },
    "id": "qvRrtvz1gC-K",
    "outputId": "ef89989a-4893-4896-af2d-55c3ab01d851"
   },
   "outputs": [
    {
     "name": "stdout",
     "output_type": "stream",
     "text": [
      "z= [[2. 2. 2. 2.]\n",
      " [2. 2. 2. 2.]]\n",
      "y= tensor([[2., 2., 2., 2.],\n",
      "        [2., 2., 2., 2.]]) \n",
      "\n",
      "z= [[-2. -2. -2. -2.]\n",
      " [-2. -2. -2. -2.]]\n",
      "y= tensor([[-2., -2., -2., -2.],\n",
      "        [-2., -2., -2., -2.]])\n"
     ]
    }
   ],
   "source": [
    "np.add(z, 1, out=z)\n",
    "print(\"z=\", z)\n",
    "print(\"y=\", y,\"\\n\")\n",
    "torch.add(y, -4, out=y)\n",
    "print(\"z=\",z)\n",
    "print(\"y=\",y)"
   ]
  },
  {
   "cell_type": "markdown",
   "metadata": {
    "id": "AmGizC3pMbm8"
   },
   "source": [
    "## Computational graphs"
   ]
  },
  {
   "cell_type": "code",
   "execution_count": 39,
   "metadata": {
    "id": "O5Kw7MQpMxWB"
   },
   "outputs": [],
   "source": [
    "import matplotlib.pyplot as plt\n",
    "%matplotlib inline\n",
    "import torch"
   ]
  },
  {
   "cell_type": "code",
   "execution_count": 40,
   "metadata": {
    "colab": {
     "base_uri": "https://localhost:8080/",
     "height": 275
    },
    "executionInfo": {
     "elapsed": 5813,
     "status": "ok",
     "timestamp": 1602007107870,
     "user": {
      "displayName": "Lionel Fillatre",
      "photoUrl": "",
      "userId": "14463393848879581998"
     },
     "user_tz": -120
    },
    "id": "2Gza10WeM10G",
    "outputId": "8dcb1ce1-aa2b-45b8-b3cf-c9c7b714c139"
   },
   "outputs": [
    {
     "name": "stdout",
     "output_type": "stream",
     "text": [
      "Requirement already satisfied: torchviz in c:\\users\\erick\\appdata\\local\\programs\\python\\python38\\lib\\site-packages (0.0.1)\n",
      "Requirement already satisfied: torch in c:\\users\\erick\\appdata\\local\\programs\\python\\python38\\lib\\site-packages (from torchviz) (1.6.0)\n",
      "Requirement already satisfied: graphviz in c:\\users\\erick\\appdata\\local\\programs\\python\\python38\\lib\\site-packages (from torchviz) (0.14.2)\n",
      "Requirement already satisfied: numpy in c:\\users\\erick\\appdata\\local\\programs\\python\\python38\\lib\\site-packages (from torch->torchviz) (1.18.5)\n",
      "Requirement already satisfied: future in c:\\users\\erick\\appdata\\local\\programs\\python\\python38\\lib\\site-packages (from torch->torchviz) (0.18.2)\n"
     ]
    },
    {
     "name": "stderr",
     "output_type": "stream",
     "text": [
      "WARNING: You are using pip version 20.1.1; however, version 20.2.3 is available.\n",
      "You should consider upgrading via the 'c:\\users\\erick\\appdata\\local\\programs\\python\\python38\\python.exe -m pip install --upgrade pip' command.\n"
     ]
    }
   ],
   "source": [
    "!pip install torchviz"
   ]
  },
  {
   "cell_type": "code",
   "execution_count": 41,
   "metadata": {
    "executionInfo": {
     "elapsed": 1294,
     "status": "ok",
     "timestamp": 1602007108467,
     "user": {
      "displayName": "Lionel Fillatre",
      "photoUrl": "",
      "userId": "14463393848879581998"
     },
     "user_tz": -120
    },
    "id": "1nEbmC7TM1mw"
   },
   "outputs": [],
   "source": [
    "import torchviz"
   ]
  },
  {
   "cell_type": "code",
   "execution_count": 42,
   "metadata": {
    "colab": {
     "base_uri": "https://localhost:8080/",
     "height": 315
    },
    "executionInfo": {
     "elapsed": 1084,
     "status": "ok",
     "timestamp": 1602007109707,
     "user": {
      "displayName": "Lionel Fillatre",
      "photoUrl": "",
      "userId": "14463393848879581998"
     },
     "user_tz": -120
    },
    "id": "5Z2dMtEOMuWb",
    "outputId": "69dc9f02-5dd2-4424-b33d-4849ef3b4cca"
   },
   "outputs": [
    {
     "name": "stdout",
     "output_type": "stream",
     "text": [
      "tensor([[1., 1.],\n",
      "        [1., 1.]], requires_grad=True)\n",
      "tensor([[0.0605]], requires_grad=True)\n",
      "tensor([[2.0605, 2.0605],\n",
      "        [2.0605, 2.0605]], grad_fn=<AddBackward0>)\n"
     ]
    },
    {
     "data": {
      "image/svg+xml": [
       "<?xml version=\"1.0\" encoding=\"UTF-8\" standalone=\"no\"?>\r\n",
       "<!DOCTYPE svg PUBLIC \"-//W3C//DTD SVG 1.1//EN\"\r\n",
       " \"http://www.w3.org/Graphics/SVG/1.1/DTD/svg11.dtd\">\r\n",
       "<!-- Generated by graphviz version 2.44.1 (20200629.0800)\r\n",
       " -->\r\n",
       "<!-- Pages: 1 -->\r\n",
       "<svg width=\"134pt\" height=\"157pt\"\r\n",
       " viewBox=\"0.00 0.00 134.00 157.00\" xmlns=\"http://www.w3.org/2000/svg\" xmlns:xlink=\"http://www.w3.org/1999/xlink\">\r\n",
       "<g id=\"graph0\" class=\"graph\" transform=\"scale(1 1) rotate(0) translate(4 153)\">\r\n",
       "<polygon fill=\"white\" stroke=\"transparent\" points=\"-4,4 -4,-153 130,-153 130,4 -4,4\"/>\r\n",
       "<!-- 1664818557424 -->\r\n",
       "<g id=\"node1\" class=\"node\">\r\n",
       "<title>1664818557424</title>\r\n",
       "<polygon fill=\"#caff70\" stroke=\"black\" points=\"108,-21 18,-21 18,0 108,0 108,-21\"/>\r\n",
       "<text text-anchor=\"middle\" x=\"63\" y=\"-7.4\" font-family=\"Times New Roman,serif\" font-size=\"12.00\">AddBackward0</text>\r\n",
       "</g>\r\n",
       "<!-- 1664818559440 -->\r\n",
       "<g id=\"node2\" class=\"node\">\r\n",
       "<title>1664818559440</title>\r\n",
       "<polygon fill=\"lightgrey\" stroke=\"black\" points=\"107,-78 19,-78 19,-57 107,-57 107,-78\"/>\r\n",
       "<text text-anchor=\"middle\" x=\"63\" y=\"-64.4\" font-family=\"Times New Roman,serif\" font-size=\"12.00\">MulBackward0</text>\r\n",
       "</g>\r\n",
       "<!-- 1664818559440&#45;&gt;1664818557424 -->\r\n",
       "<g id=\"edge1\" class=\"edge\">\r\n",
       "<title>1664818559440&#45;&gt;1664818557424</title>\r\n",
       "<path fill=\"none\" stroke=\"black\" d=\"M63,-56.92C63,-49.91 63,-40.14 63,-31.47\"/>\r\n",
       "<polygon fill=\"black\" stroke=\"black\" points=\"66.5,-31.34 63,-21.34 59.5,-31.34 66.5,-31.34\"/>\r\n",
       "</g>\r\n",
       "<!-- 1664818559104 -->\r\n",
       "<g id=\"node3\" class=\"node\">\r\n",
       "<title>1664818559104</title>\r\n",
       "<polygon fill=\"lightblue\" stroke=\"black\" points=\"54,-149 0,-149 0,-114 54,-114 54,-149\"/>\r\n",
       "<text text-anchor=\"middle\" x=\"27\" y=\"-121.4\" font-family=\"Times New Roman,serif\" font-size=\"12.00\"> (1, 1)</text>\r\n",
       "</g>\r\n",
       "<!-- 1664818559104&#45;&gt;1664818559440 -->\r\n",
       "<g id=\"edge2\" class=\"edge\">\r\n",
       "<title>1664818559104&#45;&gt;1664818559440</title>\r\n",
       "<path fill=\"none\" stroke=\"black\" d=\"M36.65,-113.89C41.49,-105.55 47.37,-95.42 52.34,-86.85\"/>\r\n",
       "<polygon fill=\"black\" stroke=\"black\" points=\"55.48,-88.42 57.47,-78.02 49.43,-84.91 55.48,-88.42\"/>\r\n",
       "</g>\r\n",
       "<!-- 1664818559056 -->\r\n",
       "<g id=\"node4\" class=\"node\">\r\n",
       "<title>1664818559056</title>\r\n",
       "<polygon fill=\"lightblue\" stroke=\"black\" points=\"126,-149 72,-149 72,-114 126,-114 126,-149\"/>\r\n",
       "<text text-anchor=\"middle\" x=\"99\" y=\"-121.4\" font-family=\"Times New Roman,serif\" font-size=\"12.00\"> (2, 2)</text>\r\n",
       "</g>\r\n",
       "<!-- 1664818559056&#45;&gt;1664818559440 -->\r\n",
       "<g id=\"edge3\" class=\"edge\">\r\n",
       "<title>1664818559056&#45;&gt;1664818559440</title>\r\n",
       "<path fill=\"none\" stroke=\"black\" d=\"M89.35,-113.89C84.51,-105.55 78.63,-95.42 73.66,-86.85\"/>\r\n",
       "<polygon fill=\"black\" stroke=\"black\" points=\"76.57,-84.91 68.53,-78.02 70.52,-88.42 76.57,-84.91\"/>\r\n",
       "</g>\r\n",
       "</g>\r\n",
       "</svg>\r\n"
      ],
      "text/plain": [
       "<graphviz.dot.Digraph at 0x1839eeb38b0>"
      ]
     },
     "execution_count": 42,
     "metadata": {},
     "output_type": "execute_result"
    }
   ],
   "source": [
    "x = torch.ones(2, 2, requires_grad=True)\n",
    "w = torch.rand(1, 1, requires_grad=True)\n",
    "print(x)\n",
    "print(w)\n",
    "y = w * x + 2\n",
    "print(y)\n",
    "torchviz.make_dot(y)"
   ]
  },
  {
   "cell_type": "markdown",
   "metadata": {
    "id": "uSvS2bdKidcc"
   },
   "source": [
    "\n",
    "## Playing with pytorch: linear regression"
   ]
  },
  {
   "cell_type": "markdown",
   "metadata": {
    "id": "UzjNRT-OSCzL"
   },
   "source": [
    "Code for plotting the surface"
   ]
  },
  {
   "cell_type": "code",
   "execution_count": 43,
   "metadata": {
    "id": "KhuyxIm1Rd0W"
   },
   "outputs": [],
   "source": [
    "import matplotlib.pyplot as plt\n",
    "import numpy as np\n",
    "from mpl_toolkits.mplot3d import Axes3D\n",
    "\n",
    "def plot_figs(fig_num, elev, azim, x, y, weights, bias):\n",
    "    fig = plt.figure(fig_num, figsize=(4, 3))\n",
    "    plt.clf()\n",
    "    ax = Axes3D(fig, elev=elev, azim=azim)\n",
    "    ax.scatter(x[:, 0], x[:, 1], y)\n",
    "    ax.plot_surface(np.array([[0, 0], [1, 1]]),\n",
    "                    np.array([[0, 1], [0, 1]]),\n",
    "                    (np.dot(np.array([[0, 0, 1, 1],\n",
    "                                          [0, 1, 0, 1]]).T, weights) + bias).reshape((2, 2)),\n",
    "                    alpha=.5)\n",
    "    ax.set_xlabel('x_1')\n",
    "    ax.set_ylabel('x_2')\n",
    "    ax.set_zlabel('y')\n",
    "    \n",
    "def plot_views(x, y, w, b):\n",
    "    # Generate the different figures from different views\n",
    "    elev = 43.5\n",
    "    azim = -110\n",
    "    plot_figs(1, elev, azim, x, y, w, b[0])\n",
    "\n",
    "    plt.show()"
   ]
  },
  {
   "cell_type": "markdown",
   "metadata": {
    "id": "Bkt2h0X6SFmR"
   },
   "source": [
    "Code for generating the 2D points"
   ]
  },
  {
   "cell_type": "code",
   "execution_count": 44,
   "metadata": {
    "colab": {
     "base_uri": "https://localhost:8080/",
     "height": 85
    },
    "executionInfo": {
     "elapsed": 5138,
     "status": "ok",
     "timestamp": 1599822150181,
     "user": {
      "displayName": "Lionel Fillatre",
      "photoUrl": "",
      "userId": "14463393848879581998"
     },
     "user_tz": -120
    },
    "id": "14tvkKCyMwYD",
    "outputId": "aedc2484-2d78-42fe-c72c-404ce4abd03a"
   },
   "outputs": [
    {
     "name": "stdout",
     "output_type": "stream",
     "text": [
      "torch.Size([30, 2])\n",
      "torch.Size([2, 1])\n",
      "torch.Size([1])\n",
      "torch.Size([30, 1])\n"
     ]
    }
   ],
   "source": [
    "#Data generation (2D points)\n",
    "w_source = torch.tensor([2., -3.], dtype=torch.float).view(-1,1)\n",
    "b_source  = torch.tensor([1.], dtype=torch.float)\n",
    "\n",
    "x = torch.empty(30, 2).uniform_(0, 1) # input of the regression model\n",
    "\n",
    "print(x.shape)\n",
    "print(w_source.shape)\n",
    "print(b_source.shape)\n",
    "\n",
    "y = torch.matmul(x,w_source)+b_source # output of the regression model\n",
    "print(y.shape)"
   ]
  },
  {
   "cell_type": "markdown",
   "metadata": {
    "id": "KW6YMS6tSMVr"
   },
   "source": [
    "Plot the dataset"
   ]
  },
  {
   "cell_type": "code",
   "execution_count": 45,
   "metadata": {
    "colab": {
     "base_uri": "https://localhost:8080/",
     "height": 247
    },
    "executionInfo": {
     "elapsed": 5824,
     "status": "ok",
     "timestamp": 1599822150873,
     "user": {
      "displayName": "Lionel Fillatre",
      "photoUrl": "",
      "userId": "14463393848879581998"
     },
     "user_tz": -120
    },
    "id": "rMRbqdZaRjCz",
    "outputId": "8eff0117-b743-473d-f333-5ad5dfdaffc3"
   },
   "outputs": [
    {
     "data": {
      "image/png": "[encoded data removed]",
      "text/plain": [
       "<Figure size 288x216 with 1 Axes>"
      ]
     },
     "metadata": {
      "needs_background": "light"
     },
     "output_type": "display_data"
    }
   ],
   "source": [
    "plot_views(x.numpy(), y.numpy(), w_source.numpy(), b_source.numpy())"
   ]
  },
  {
   "cell_type": "code",
   "execution_count": 46,
   "metadata": {
    "colab": {
     "base_uri": "https://localhost:8080/",
     "height": 85
    },
    "executionInfo": {
     "elapsed": 5820,
     "status": "ok",
     "timestamp": 1599822150874,
     "user": {
      "displayName": "Lionel Fillatre",
      "photoUrl": "",
      "userId": "14463393848879581998"
     },
     "user_tz": -120
    },
    "id": "bsGaEFPRiduc",
    "outputId": "f5d146cc-d762-4210-ee79-ab921b5ca279"
   },
   "outputs": [
    {
     "name": "stdout",
     "output_type": "stream",
     "text": [
      "Initial values of the parameters:\n",
      "tensor([[ 0.3138],\n",
      "        [-0.5809]])\n",
      "tensor([[-0.2909]])\n"
     ]
    }
   ],
   "source": [
    "# randomly initialize learnable weights and bias\n",
    "w_t_init = torch.empty(2, 1).uniform_(-1, 1) \n",
    "b_t_init = torch.empty(1, 1).uniform_(-1, 1)\n",
    "\n",
    "print(\"Initial values of the parameters:\")\n",
    "print(w_t_init) \n",
    "print(b_t_init)\n",
    "\n"
   ]
  },
  {
   "cell_type": "markdown",
   "metadata": {
    "id": "y2GD_KIBUTgS"
   },
   "source": [
    "### Question: calculate the gradient of the loss and code it."
   ]
  },
  {
   "cell_type": "code",
   "execution_count": 91,
   "metadata": {
    "id": "xSwsgVkpPE2i"
   },
   "outputs": [],
   "source": [
    "# our model forward pass\n",
    "def forward_t(x):\n",
    "    return x.mm(w_t)+b_t\n",
    "\n",
    "# Loss function\n",
    "def loss_t(x, y):\n",
    "    y_pred = forward_t(x)\n",
    "    return (y_pred - y).pow(2).sum()\n",
    "\n",
    "# compute gradient\n",
    "def gradient_t(x, y):  # d_loss/d_w, d_loss/d_c\n",
    "    # COMPLETE THE CELL FROM HERE (remove \"pass\")\n",
    "    y_pred = forward_t(x)\n",
    "    #test = torch.dot(w_t.t(),x)\n",
    "    grad_b =  2*(y_pred - y).sum()\n",
    "    grad_w = 2*(y_pred-y).t().mm(x)\n",
    "#    print(grad_b.shape)\n",
    "#    print(grad_w.shape)\n",
    "    return grad_w.t(),grad_b\n",
    "    \n",
    "    \n"
   ]
  },
  {
   "attachments": {
    "image.png": {
     "image/png": "[encoded data removed]"
    }
   },
   "cell_type": "markdown",
   "metadata": {},
   "source": [
    "![image.png](attachment:image.png)"
   ]
  },
  {
   "cell_type": "markdown",
   "metadata": {
    "id": "7x8wNpUISp88"
   },
   "source": [
    "Main loop for computing the estimate (gradient descent)"
   ]
  },
  {
   "cell_type": "markdown",
   "metadata": {
    "id": "pAAxsXCqUSuR"
   },
   "source": [
    "### Question: code the gradient descent algorithm within the main loop."
   ]
  },
  {
   "cell_type": "code",
   "execution_count": 94,
   "metadata": {
    "colab": {
     "base_uri": "https://localhost:8080/",
     "height": 232
    },
    "executionInfo": {
     "elapsed": 676,
     "status": "error",
     "timestamp": 1599822210788,
     "user": {
      "displayName": "Lionel Fillatre",
      "photoUrl": "",
      "userId": "14463393848879581998"
     },
     "user_tz": -120
    },
    "id": "zmh-_IHaidxp",
    "outputId": "9965a83d-9ff8-4d8e-96a9-4f937a767c16"
   },
   "outputs": [
    {
     "name": "stdout",
     "output_type": "stream",
     "text": [
      "progress: epoch: 0 loss tensor(42.0406)\n",
      "progress: epoch: 1 loss tensor(23.9393)\n",
      "progress: epoch: 2 loss tensor(21.3416)\n",
      "progress: epoch: 3 loss tensor(19.0896)\n",
      "progress: epoch: 4 loss tensor(17.0787)\n",
      "progress: epoch: 5 loss tensor(15.2827)\n",
      "progress: epoch: 6 loss tensor(13.6783)\n",
      "progress: epoch: 7 loss tensor(12.2451)\n",
      "progress: epoch: 8 loss tensor(10.9645)\n",
      "progress: epoch: 9 loss tensor(9.8202)\n",
      "progress: epoch: 10 loss tensor(8.7975)\n",
      "progress: epoch: 11 loss tensor(7.8833)\n",
      "progress: epoch: 12 loss tensor(7.0661)\n",
      "progress: epoch: 13 loss tensor(6.3354)\n",
      "progress: epoch: 14 loss tensor(5.6820)\n",
      "progress: epoch: 15 loss tensor(5.0975)\n",
      "progress: epoch: 16 loss tensor(4.5746)\n",
      "progress: epoch: 17 loss tensor(4.1068)\n",
      "progress: epoch: 18 loss tensor(3.6881)\n",
      "progress: epoch: 19 loss tensor(3.3133)\n",
      "progress: epoch: 20 loss tensor(2.9777)\n",
      "progress: epoch: 21 loss tensor(2.6771)\n",
      "progress: epoch: 22 loss tensor(2.4079)\n",
      "progress: epoch: 23 loss tensor(2.1667)\n",
      "progress: epoch: 24 loss tensor(1.9505)\n",
      "progress: epoch: 25 loss tensor(1.7567)\n",
      "progress: epoch: 26 loss tensor(1.5829)\n",
      "progress: epoch: 27 loss tensor(1.4270)\n",
      "progress: epoch: 28 loss tensor(1.2871)\n",
      "progress: epoch: 29 loss tensor(1.1615)\n",
      "progress: epoch: 30 loss tensor(1.0488)\n",
      "progress: epoch: 31 loss tensor(0.9475)\n",
      "progress: epoch: 32 loss tensor(0.8565)\n",
      "progress: epoch: 33 loss tensor(0.7746)\n",
      "progress: epoch: 34 loss tensor(0.7011)\n",
      "progress: epoch: 35 loss tensor(0.6349)\n",
      "progress: epoch: 36 loss tensor(0.5753)\n",
      "progress: epoch: 37 loss tensor(0.5216)\n",
      "progress: epoch: 38 loss tensor(0.4733)\n",
      "progress: epoch: 39 loss tensor(0.4297)\n",
      "progress: epoch: 40 loss tensor(0.3904)\n",
      "progress: epoch: 41 loss tensor(0.3550)\n",
      "progress: epoch: 42 loss tensor(0.3229)\n",
      "progress: epoch: 43 loss tensor(0.2940)\n",
      "progress: epoch: 44 loss tensor(0.2679)\n",
      "progress: epoch: 45 loss tensor(0.2443)\n",
      "progress: epoch: 46 loss tensor(0.2229)\n",
      "progress: epoch: 47 loss tensor(0.2036)\n",
      "progress: epoch: 48 loss tensor(0.1860)\n",
      "progress: epoch: 49 loss tensor(0.1701)\n",
      "progress: epoch: 50 loss tensor(0.1557)\n",
      "progress: epoch: 51 loss tensor(0.1426)\n",
      "progress: epoch: 52 loss tensor(0.1307)\n",
      "progress: epoch: 53 loss tensor(0.1199)\n",
      "progress: epoch: 54 loss tensor(0.1101)\n",
      "progress: epoch: 55 loss tensor(0.1012)\n",
      "progress: epoch: 56 loss tensor(0.0930)\n",
      "progress: epoch: 57 loss tensor(0.0856)\n",
      "progress: epoch: 58 loss tensor(0.0788)\n",
      "progress: epoch: 59 loss tensor(0.0726)\n",
      "progress: epoch: 60 loss tensor(0.0670)\n",
      "progress: epoch: 61 loss tensor(0.0618)\n",
      "progress: epoch: 62 loss tensor(0.0571)\n",
      "progress: epoch: 63 loss tensor(0.0527)\n",
      "progress: epoch: 64 loss tensor(0.0488)\n",
      "progress: epoch: 65 loss tensor(0.0451)\n",
      "progress: epoch: 66 loss tensor(0.0418)\n",
      "progress: epoch: 67 loss tensor(0.0387)\n",
      "progress: epoch: 68 loss tensor(0.0359)\n",
      "progress: epoch: 69 loss tensor(0.0333)\n",
      "progress: epoch: 70 loss tensor(0.0309)\n",
      "progress: epoch: 71 loss tensor(0.0287)\n",
      "progress: epoch: 72 loss tensor(0.0267)\n",
      "progress: epoch: 73 loss tensor(0.0248)\n",
      "progress: epoch: 74 loss tensor(0.0231)\n",
      "progress: epoch: 75 loss tensor(0.0215)\n",
      "progress: epoch: 76 loss tensor(0.0200)\n",
      "progress: epoch: 77 loss tensor(0.0186)\n",
      "progress: epoch: 78 loss tensor(0.0174)\n",
      "progress: epoch: 79 loss tensor(0.0162)\n",
      "progress: epoch: 80 loss tensor(0.0151)\n",
      "progress: epoch: 81 loss tensor(0.0141)\n",
      "progress: epoch: 82 loss tensor(0.0132)\n",
      "progress: epoch: 83 loss tensor(0.0123)\n",
      "progress: epoch: 84 loss tensor(0.0115)\n",
      "progress: epoch: 85 loss tensor(0.0108)\n",
      "progress: epoch: 86 loss tensor(0.0101)\n",
      "progress: epoch: 87 loss tensor(0.0094)\n",
      "progress: epoch: 88 loss tensor(0.0088)\n",
      "progress: epoch: 89 loss tensor(0.0082)\n",
      "progress: epoch: 90 loss tensor(0.0077)\n",
      "progress: epoch: 91 loss tensor(0.0072)\n",
      "progress: epoch: 92 loss tensor(0.0068)\n",
      "progress: epoch: 93 loss tensor(0.0063)\n",
      "progress: epoch: 94 loss tensor(0.0060)\n",
      "progress: epoch: 95 loss tensor(0.0056)\n",
      "progress: epoch: 96 loss tensor(0.0052)\n",
      "progress: epoch: 97 loss tensor(0.0049)\n",
      "progress: epoch: 98 loss tensor(0.0046)\n",
      "progress: epoch: 99 loss tensor(0.0043)\n"
     ]
    }
   ],
   "source": [
    "learning_rate = 0.01\n",
    "\n",
    "w_t = w_t_init.clone()\n",
    "b_t = b_t_init.clone()\n",
    "\n",
    "for epoch in range(100):\n",
    "    l = loss_t(x,y)\n",
    "    grad_w, grad_b = gradient_t(x,y)\n",
    "    #print('grad/n')\n",
    "    #print(grad_w.shape,grad_b.shape)  \n",
    "    # COMPLETE THE CELL FROM HERE\n",
    "    #print('poids/n')\n",
    "    #print(w_t.shape,b_t.shape)\n",
    "    w_t = w_t - learning_rate * grad_w\n",
    "    b_t = b_t - learning_rate * grad_b\n",
    "    #print(w_t.shape,b_t.shape)\n",
    "\n",
    "    print(\"progress:\", \"epoch:\", epoch, \"loss\",l)"
   ]
  },
  {
   "cell_type": "code",
   "execution_count": 95,
   "metadata": {
    "colab": {
     "base_uri": "https://localhost:8080/",
     "height": 85
    },
    "executionInfo": {
     "elapsed": 681,
     "status": "ok",
     "timestamp": 1599822259617,
     "user": {
      "displayName": "Lionel Fillatre",
      "photoUrl": "",
      "userId": "14463393848879581998"
     },
     "user_tz": -120
    },
    "id": "87XspCGIid0t",
    "outputId": "c90e8f74-28b2-401f-9544-f79e2d1f68f0"
   },
   "outputs": [
    {
     "name": "stdout",
     "output_type": "stream",
     "text": [
      "Estimation of the parameters:\n",
      "tensor([[ 2.0242],\n",
      "        [-2.9667]])\n",
      "tensor([[0.9688]])\n"
     ]
    }
   ],
   "source": [
    "# After training\n",
    "print(\"Estimation of the parameters:\")\n",
    "print(w_t)\n",
    "print(b_t)"
   ]
  },
  {
   "cell_type": "markdown",
   "metadata": {
    "id": "sceg1L15TqSy"
   },
   "source": [
    "### Question: Test a higger learning rate (e.g., learning_rate = 1). Explain what you observe."
   ]
  },
  {
   "cell_type": "markdown",
   "metadata": {
    "id": "gqWJFYZSTX_m"
   },
   "source": [
    "### Question: How to improve the quality of the estimate?"
   ]
  }
 ],
 "metadata": {
  "colab": {
   "collapsed_sections": [],
   "name": "DSTI_DL_Lab1_October2020.ipynb",
   "provenance": [],
   "toc_visible": true
  },
  "kernelspec": {
   "display_name": "Python 3",
   "language": "python",
   "name": "python3"
  },
  "language_info": {
   "codemirror_mode": {
    "name": "ipython",
    "version": 3
   },
   "file_extension": ".py",
   "mimetype": "text/x-python",
   "name": "python",
   "nbconvert_exporter": "python",
   "pygments_lexer": "ipython3",
   "version": "3.8.5"
  }
 },
 "nbformat": 4,
 "nbformat_minor": 1
}