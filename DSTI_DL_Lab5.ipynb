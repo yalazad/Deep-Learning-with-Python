{
 "cells": [
  {
   "cell_type": "markdown",
   "metadata": {
    "id": "BPbtmfqMqsVj"
   },
   "source": [
    "# Function approximation with a deep neural network"
   ]
  },
  {
   "cell_type": "markdown",
   "metadata": {
    "id": "lA-dG5TvNT9U"
   },
   "source": [
    "## Quartic function and training dataset"
   ]
  },
  {
   "cell_type": "markdown",
   "metadata": {
    "id": "Ze4-03KGq2Gx"
   },
   "source": [
    "In algebra, a quartic function is a function of the form\n",
    "$$\n",
    "f(t)=at^{4}+bt^{3}+ct^{2}+dt+e,\n",
    "$$\n",
    "where $a$ is nonzero, which is defined by a polynomial of degree four, called a quartic polynomial."
   ]
  },
  {
   "cell_type": "code",
   "execution_count": 1,
   "metadata": {
    "executionInfo": {
     "elapsed": 3684,
     "status": "ok",
     "timestamp": 1602009013368,
     "user": {
      "displayName": "Lionel Fillatre",
      "photoUrl": "",
      "userId": "14463393848879581998"
     },
     "user_tz": -120
    },
    "id": "XSxuWuabouDj"
   },
   "outputs": [],
   "source": [
    "%matplotlib inline\n",
    "import numpy as np\n",
    "import matplotlib.pyplot as plt\n",
    "import torch\n"
   ]
  },
  {
   "cell_type": "markdown",
   "metadata": {
    "id": "uYRSPAtGouDo"
   },
   "source": [
    "Define and plot a quartic function"
   ]
  },
  {
   "cell_type": "code",
   "execution_count": 85,
   "metadata": {
    "executionInfo": {
     "elapsed": 3679,
     "status": "ok",
     "timestamp": 1602009013369,
     "user": {
      "displayName": "Lionel Fillatre",
      "photoUrl": "",
      "userId": "14463393848879581998"
     },
     "user_tz": -120
    },
    "id": "JhCmQNviouDu"
   },
   "outputs": [],
   "source": [
    "D_in = 1\n",
    "D_out = 1\n",
    "\n",
    "# Create random Tensors to hold inputs and outputs\n",
    "x = torch.arange(-9,3.5,0.1).view(-1,1) #(-5,3.5,0.1)\n",
    "y = x**4 + 2*x**3 - 12*x**2 -2*x + 6\n",
    "y = torch.where(x < -5, torch.zeros_like(x), y)\n",
    "N = x.shape[0]"
   ]
  },
  {
   "cell_type": "code",
   "execution_count": 86,
   "metadata": {
    "colab": {
     "base_uri": "https://localhost:8080/",
     "height": 51
    },
    "executionInfo": {
     "elapsed": 3671,
     "status": "ok",
     "timestamp": 1602009013370,
     "user": {
      "displayName": "Lionel Fillatre",
      "photoUrl": "",
      "userId": "14463393848879581998"
     },
     "user_tz": -120
    },
    "id": "8Upa4fCuouD5",
    "outputId": "c566f1e0-4cc4-4deb-cfed-9242be00707a"
   },
   "outputs": [
    {
     "name": "stdout",
     "output_type": "stream",
     "text": [
      "torch.Size([125, 1])\n",
      "torch.Size([125, 1])\n"
     ]
    }
   ],
   "source": [
    "print(x.size())\n",
    "print(y.size())"
   ]
  },
  {
   "cell_type": "markdown",
   "metadata": {
    "id": "IY7bxmOpsRYq"
   },
   "source": [
    "Converting Torch Tensor to NumPy Array for plotting the function"
   ]
  },
  {
   "cell_type": "code",
   "execution_count": 14,
   "metadata": {
    "colab": {
     "base_uri": "https://localhost:8080/",
     "height": 279
    },
    "executionInfo": {
     "elapsed": 3665,
     "status": "ok",
     "timestamp": 1602009013371,
     "user": {
      "displayName": "Lionel Fillatre",
      "photoUrl": "",
      "userId": "14463393848879581998"
     },
     "user_tz": -120
    },
    "id": "L80Arv5FuLj-",
    "outputId": "95cf7c70-92dc-41cd-a8b6-8175f7ee99e6"
   },
   "outputs": [
    {
     "data": {
      "image/png": "[encoded data removed]",
      "text/plain": [
       "<Figure size 432x288 with 1 Axes>"
      ]
     },
     "metadata": {
      "needs_background": "light"
     },
     "output_type": "display_data"
    }
   ],
   "source": [
    "fig, ax = plt.subplots()\n",
    "plt.plot(x.numpy(), y.numpy(),'r-',label='Quartic function')\n",
    "plt.xlabel('$x$')\n",
    "plt.ylabel('$f(x)$')\n",
    "plt.show()\n",
    "ax.legend()\n",
    "plt.show()"
   ]
  },
  {
   "cell_type": "markdown",
   "metadata": {
    "id": "vI35l73mNZ0w"
   },
   "source": [
    "## Approximation with a deep neural network"
   ]
  },
  {
   "cell_type": "markdown",
   "metadata": {
    "id": "8tJWe_-W1khM"
   },
   "source": [
    "### Question: code a deep neural network to approximate the function. The network will have 3 full-connected layers (followed by a ReLU activation function) and a final full-connected layer without any activation function. You will use the Adam optimizer. Choose the most appropriate loss function. You must compute the loss at each epoch."
   ]
  },
  {
   "cell_type": "code",
   "execution_count": 28,
   "metadata": {},
   "outputs": [],
   "source": [
    "import math\n",
    "import torch\n",
    "\n",
    "class RangeDataset(torch.utils.data.Dataset):\n",
    "  def __init__(self, x,y):\n",
    "    #self.start = start\n",
    "    #self.end = end\n",
    "    self.x = x\n",
    "    self.y = y\n",
    "\n",
    "  def __len__(self):\n",
    "    return x.shape[0]\n",
    "\n",
    "  def __getitem__(self, index):\n",
    "    value = x[index]\n",
    "    #assert value < self.end\n",
    "    return (x[index],y[index])"
   ]
  },
  {
   "cell_type": "code",
   "execution_count": 31,
   "metadata": {},
   "outputs": [
    {
     "name": "stdout",
     "output_type": "stream",
     "text": [
      "0 [tensor([[-6.1000],\n",
      "        [-5.1000],\n",
      "        [-4.5000],\n",
      "        [-5.0000],\n",
      "        [-8.4000],\n",
      "        [-3.8000],\n",
      "        [-3.3000],\n",
      "        [-7.5000],\n",
      "        [ 0.9000],\n",
      "        [ 1.1000],\n",
      "        [-5.3000],\n",
      "        [ 0.5000],\n",
      "        [-4.6000],\n",
      "        [ 1.4000],\n",
      "        [-0.9000],\n",
      "        [ 1.5000],\n",
      "        [ 3.0000],\n",
      "        [ 3.4000],\n",
      "        [ 2.9000],\n",
      "        [-8.8000],\n",
      "        [ 3.2000],\n",
      "        [-1.2000],\n",
      "        [-4.3000],\n",
      "        [-0.1000],\n",
      "        [-5.2000],\n",
      "        [ 2.3000],\n",
      "        [-8.5000],\n",
      "        [-8.7000],\n",
      "        [-1.7000],\n",
      "        [-0.2000],\n",
      "        [ 1.0000],\n",
      "        [-4.9000],\n",
      "        [-1.6000],\n",
      "        [-0.3000],\n",
      "        [-8.9000],\n",
      "        [ 1.2000],\n",
      "        [-2.0000],\n",
      "        [-2.5000],\n",
      "        [-4.7000],\n",
      "        [-0.7000],\n",
      "        [-7.1000],\n",
      "        [-0.5000],\n",
      "        [-6.6000],\n",
      "        [-8.0000],\n",
      "        [ 2.5000],\n",
      "        [-2.3000],\n",
      "        [-0.4000],\n",
      "        [-6.7000],\n",
      "        [-4.8000],\n",
      "        [-5.4000],\n",
      "        [-6.9000],\n",
      "        [ 0.3000],\n",
      "        [-3.0000],\n",
      "        [-7.6000],\n",
      "        [-4.0000],\n",
      "        [ 2.0000],\n",
      "        [-3.5000],\n",
      "        [-8.3000],\n",
      "        [-9.0000],\n",
      "        [-2.2000],\n",
      "        [-3.2000],\n",
      "        [-4.4000],\n",
      "        [ 0.1000],\n",
      "        [ 1.6000],\n",
      "        [ 2.4000],\n",
      "        [-7.4000],\n",
      "        [-1.3000],\n",
      "        [-1.4000],\n",
      "        [ 3.1000],\n",
      "        [-6.2000],\n",
      "        [-4.1000],\n",
      "        [ 2.6000],\n",
      "        [-0.6000],\n",
      "        [ 0.7000],\n",
      "        [-6.0000],\n",
      "        [ 1.9000],\n",
      "        [ 3.3000],\n",
      "        [ 1.7000],\n",
      "        [ 0.0000],\n",
      "        [-1.9000],\n",
      "        [-2.6000],\n",
      "        [ 2.2000],\n",
      "        [ 0.4000],\n",
      "        [-0.8000],\n",
      "        [-3.6000],\n",
      "        [-4.2000],\n",
      "        [-1.8000],\n",
      "        [-1.5000],\n",
      "        [-8.1000],\n",
      "        [ 1.8000],\n",
      "        [-8.6000],\n",
      "        [-2.9000],\n",
      "        [-2.7000],\n",
      "        [-5.6000],\n",
      "        [-1.0000],\n",
      "        [ 0.2000],\n",
      "        [ 2.7000],\n",
      "        [ 0.6000],\n",
      "        [-3.7000],\n",
      "        [-6.3000],\n",
      "        [ 0.8000],\n",
      "        [-3.9000],\n",
      "        [-6.5000],\n",
      "        [ 2.8000],\n",
      "        [-5.5000],\n",
      "        [-1.1000],\n",
      "        [ 2.1000],\n",
      "        [-5.7000],\n",
      "        [-7.2000],\n",
      "        [-2.8000],\n",
      "        [-8.2000],\n",
      "        [-7.9000],\n",
      "        [-3.1000],\n",
      "        [-5.8000],\n",
      "        [-6.4000],\n",
      "        [-7.8000],\n",
      "        [-6.8000],\n",
      "        [-7.3000],\n",
      "        [-7.0000],\n",
      "        [-5.9000],\n",
      "        [-7.7000],\n",
      "        [-3.4000],\n",
      "        [-2.4000],\n",
      "        [-2.1000],\n",
      "        [ 1.3000]]), tensor([[  0.0000],\n",
      "        [  0.0000],\n",
      "        [ -0.1875],\n",
      "        [ 91.0000],\n",
      "        [  0.0000],\n",
      "        [-60.9104],\n",
      "        [-71.3619],\n",
      "        [  0.0000],\n",
      "        [ -3.4059],\n",
      "        [ -6.5939],\n",
      "        [  0.0000],\n",
      "        [  2.3125],\n",
      "        [ 14.3536],\n",
      "        [-10.9904],\n",
      "        [ -2.7219],\n",
      "        [-12.1875],\n",
      "        [ 27.0000],\n",
      "        [ 72.7216],\n",
      "        [ 18.7861],\n",
      "        [  0.0000],\n",
      "        [ 47.1136],\n",
      "        [-10.2624],\n",
      "        [-24.4139],\n",
      "        [  6.0781],\n",
      "        [  0.0000],\n",
      "        [ -9.7619],\n",
      "        [  0.0000],\n",
      "        [  0.0000],\n",
      "        [-26.7539],\n",
      "        [  5.9056],\n",
      "        [ -5.0000],\n",
      "        [ 68.8622],\n",
      "        [-23.1584],\n",
      "        [  5.4741],\n",
      "        [  0.0000],\n",
      "        [ -8.1504],\n",
      "        [-38.0000],\n",
      "        [-56.1875],\n",
      "        [ 30.6420],\n",
      "        [  1.0741],\n",
      "        [  0.0000],\n",
      "        [  3.8125],\n",
      "        [  0.0000],\n",
      "        [  0.0000],\n",
      "        [ -3.6875],\n",
      "        [-49.2299],\n",
      "        [  4.7776],\n",
      "        [  0.0000],\n",
      "        [ 48.7776],\n",
      "        [  0.0000],\n",
      "        [  0.0000],\n",
      "        [  4.3821],\n",
      "        [-69.0000],\n",
      "        [  0.0000],\n",
      "        [-50.0000],\n",
      "        [-14.0000],\n",
      "        [-69.6875],\n",
      "        [  0.0000],\n",
      "        [  0.0000],\n",
      "        [-45.5504],\n",
      "        [-71.1584],\n",
      "        [-13.0784],\n",
      "        [  5.6821],\n",
      "        [-13.1744],\n",
      "        [ -7.0944],\n",
      "        [  0.0000],\n",
      "        [-13.2179],\n",
      "        [-16.3664],\n",
      "        [ 36.4141],\n",
      "        [  0.0000],\n",
      "        [-42.7859],\n",
      "        [  0.5296],\n",
      "        [  2.5776],\n",
      "        [ -0.3539],\n",
      "        [  0.0000],\n",
      "        [-14.3699],\n",
      "        [ 59.1861],\n",
      "        [-13.9019],\n",
      "        [  6.0000],\n",
      "        [-34.2059],\n",
      "        [-59.3744],\n",
      "        [-11.7584],\n",
      "        [  3.4336],\n",
      "        [ -0.6944],\n",
      "        [-67.6704],\n",
      "        [-34.2864],\n",
      "        [-30.4464],\n",
      "        [-19.6875],\n",
      "        [  0.0000],\n",
      "        [-14.3184],\n",
      "        [  0.0000],\n",
      "        [-67.1699],\n",
      "        [-62.3019],\n",
      "        [  0.0000],\n",
      "        [ -5.0000],\n",
      "        [  5.1376],\n",
      "        [  5.6301],\n",
      "        [  1.0416],\n",
      "        [-64.7699],\n",
      "        [  0.0000],\n",
      "        [ -1.8464],\n",
      "        [-56.0139],\n",
      "        [  0.0000],\n",
      "        [ 11.6896],\n",
      "        [  0.0000],\n",
      "        [ -7.5179],\n",
      "        [-13.1499],\n",
      "        [  0.0000],\n",
      "        [  0.0000],\n",
      "        [-64.9184],\n",
      "        [  0.0000],\n",
      "        [  0.0000],\n",
      "        [-70.3499],\n",
      "        [  0.0000],\n",
      "        [  0.0000],\n",
      "        [  0.0000],\n",
      "        [  0.0000],\n",
      "        [  0.0000],\n",
      "        [  0.0000],\n",
      "        [  0.0000],\n",
      "        [  0.0000],\n",
      "        [-70.8944],\n",
      "        [-52.7904],\n",
      "        [-41.7939],\n",
      "        [ -9.6299]])]\n"
     ]
    }
   ],
   "source": [
    "dataset = RangeDataset(x,y)\n",
    "data_loader = torch.utils.data.DataLoader(\n",
    "    dataset, \n",
    "    batch_size=N, \n",
    "    shuffle=True,  # set to True to have the data reshuffled at every epoch\n",
    "#    num_workers=1, # how many subprocesses to use for data loading\n",
    "    drop_last=True # set to True to drop the last incomplete batch, if the dataset size is not divisible by the batch size.\n",
    "  )\n",
    "\n",
    "for i, batch in enumerate(data_loader):\n",
    "  print(i, batch)"
   ]
  },
  {
   "cell_type": "code",
   "execution_count": 80,
   "metadata": {
    "executionInfo": {
     "elapsed": 3663,
     "status": "ok",
     "timestamp": 1602009013372,
     "user": {
      "displayName": "Lionel Fillatre",
      "photoUrl": "",
      "userId": "14463393848879581998"
     },
     "user_tz": -120
    },
    "id": "IWija8I3ouDy"
   },
   "outputs": [],
   "source": [
    "# Complete this cell: model and training\n",
    "\n",
    "import torch.nn as nn\n",
    "import torch.nn.functional as F\n",
    "\n",
    "\n",
    "class Net(nn.Module):\n",
    "    def __init__(self):\n",
    "        super(Net, self).__init__()\n",
    "        self.fc1 = nn.Linear(1, 40)\n",
    "        self.fc2 = nn.Linear(40, 20)\n",
    "        self.fc3 = nn.Linear(20, 20)\n",
    "        self.fc4 = nn.Linear(20,1)\n",
    "\n",
    "    def forward(self, x):\n",
    "        x = F.relu(self.fc1(x))\n",
    "        x = F.relu(self.fc2(x))\n",
    "        x = F.relu(self.fc3(x))\n",
    "        x = self.fc4(x)\n",
    "        return x\n",
    "\n",
    "\n",
    "net = Net()\n",
    "    \n"
   ]
  },
  {
   "cell_type": "code",
   "execution_count": 89,
   "metadata": {},
   "outputs": [],
   "source": [
    "import torch.optim as optim\n",
    "\n",
    "criterion = nn.MSELoss()\n",
    "optimizer = optim.Adam(net.parameters(), lr=0.01)"
   ]
  },
  {
   "cell_type": "code",
   "execution_count": 90,
   "metadata": {},
   "outputs": [
    {
     "name": "stdout",
     "output_type": "stream",
     "text": [
      "[1,     1] loss: 95.575\n",
      "[101,     1] loss: 96.879\n",
      "[201,     1] loss: 95.720\n",
      "[301,     1] loss: 95.644\n",
      "[401,     1] loss: 95.626\n",
      "[501,     1] loss: 95.617\n",
      "[601,     1] loss: 95.610\n",
      "[701,     1] loss: 95.606\n",
      "[801,     1] loss: 95.603\n",
      "[901,     1] loss: 95.601\n",
      "[1001,     1] loss: 95.600\n",
      "[1101,     1] loss: 95.599\n",
      "[1201,     1] loss: 95.598\n",
      "[1301,     1] loss: 95.598\n",
      "[1401,     1] loss: 95.597\n",
      "[1501,     1] loss: 95.597\n",
      "[1601,     1] loss: 95.597\n",
      "[1701,     1] loss: 95.596\n",
      "[1801,     1] loss: 95.596\n",
      "[1901,     1] loss: 95.640\n",
      "[2001,     1] loss: 95.703\n",
      "[2101,     1] loss: 95.594\n",
      "[2201,     1] loss: 95.593\n",
      "[2301,     1] loss: 95.586\n",
      "[2401,     1] loss: 95.584\n",
      "[2501,     1] loss: 95.685\n",
      "[2601,     1] loss: 95.582\n",
      "[2701,     1] loss: 95.595\n",
      "[2801,     1] loss: 95.598\n",
      "[2901,     1] loss: 95.590\n",
      "[3001,     1] loss: 95.586\n",
      "[3101,     1] loss: 100.778\n",
      "[3201,     1] loss: 95.582\n",
      "[3301,     1] loss: 93.954\n",
      "[3401,     1] loss: 82.403\n",
      "[3501,     1] loss: 61.541\n",
      "[3601,     1] loss: 47.465\n",
      "[3701,     1] loss: 39.497\n",
      "[3801,     1] loss: 83.204\n",
      "[3901,     1] loss: 30.232\n",
      "[4001,     1] loss: 28.335\n",
      "[4101,     1] loss: 24.505\n",
      "[4201,     1] loss: 30.611\n",
      "[4301,     1] loss: 21.150\n",
      "[4401,     1] loss: 19.120\n",
      "[4501,     1] loss: 18.175\n",
      "[4601,     1] loss: 16.391\n",
      "[4701,     1] loss: 16.188\n",
      "[4801,     1] loss: 14.714\n",
      "[4901,     1] loss: 13.452\n",
      "[5001,     1] loss: 12.961\n",
      "[5101,     1] loss: 11.600\n",
      "[5201,     1] loss: 11.209\n",
      "[5301,     1] loss: 9.622\n",
      "[5401,     1] loss: 13.348\n",
      "[5501,     1] loss: 7.495\n",
      "[5601,     1] loss: 6.145\n",
      "[5701,     1] loss: 5.621\n",
      "[5801,     1] loss: 14.809\n",
      "[5901,     1] loss: 3.501\n",
      "[6001,     1] loss: 2.930\n",
      "[6101,     1] loss: 2.099\n",
      "[6201,     1] loss: 1.599\n",
      "[6301,     1] loss: 1.927\n",
      "[6401,     1] loss: 2.080\n",
      "[6501,     1] loss: 1.345\n",
      "[6601,     1] loss: 0.384\n",
      "[6701,     1] loss: 0.428\n",
      "[6801,     1] loss: 0.155\n",
      "[6901,     1] loss: 0.107\n",
      "[7001,     1] loss: 3.721\n",
      "[7101,     1] loss: 0.426\n",
      "[7201,     1] loss: 0.177\n",
      "[7301,     1] loss: 0.102\n",
      "[7401,     1] loss: 0.051\n",
      "[7501,     1] loss: 0.039\n",
      "[7601,     1] loss: 0.033\n",
      "[7701,     1] loss: 0.029\n",
      "[7801,     1] loss: 0.026\n",
      "[7901,     1] loss: 0.024\n",
      "[8001,     1] loss: 0.024\n",
      "[8101,     1] loss: 0.028\n",
      "[8201,     1] loss: 0.023\n",
      "[8301,     1] loss: 48.366\n",
      "[8401,     1] loss: 0.312\n",
      "[8501,     1] loss: 0.068\n",
      "[8601,     1] loss: 0.031\n",
      "[8701,     1] loss: 0.026\n",
      "[8801,     1] loss: 0.024\n",
      "[8901,     1] loss: 0.023\n",
      "[9001,     1] loss: 0.022\n",
      "[9101,     1] loss: 0.021\n",
      "[9201,     1] loss: 0.020\n",
      "[9301,     1] loss: 0.019\n",
      "[9401,     1] loss: 0.019\n",
      "[9501,     1] loss: 0.024\n",
      "[9601,     1] loss: 127.964\n",
      "[9701,     1] loss: 0.105\n",
      "[9801,     1] loss: 0.027\n",
      "[9901,     1] loss: 0.021\n",
      "[10001,     1] loss: 0.019\n",
      "[10101,     1] loss: 0.017\n",
      "[10201,     1] loss: 0.016\n",
      "[10301,     1] loss: 0.016\n",
      "[10401,     1] loss: 0.015\n",
      "[10501,     1] loss: 0.015\n",
      "[10601,     1] loss: 97.681\n",
      "[10701,     1] loss: 0.487\n",
      "[10801,     1] loss: 0.134\n",
      "[10901,     1] loss: 0.038\n",
      "[11001,     1] loss: 0.023\n",
      "[11101,     1] loss: 0.019\n",
      "[11201,     1] loss: 0.018\n",
      "[11301,     1] loss: 0.017\n",
      "[11401,     1] loss: 0.016\n",
      "[11501,     1] loss: 0.015\n",
      "[11601,     1] loss: 0.015\n",
      "[11701,     1] loss: 0.084\n",
      "[11801,     1] loss: 0.019\n",
      "[11901,     1] loss: 0.015\n",
      "[12001,     1] loss: 0.080\n",
      "[12101,     1] loss: 0.020\n",
      "[12201,     1] loss: 0.101\n",
      "[12301,     1] loss: 0.059\n",
      "[12401,     1] loss: 0.081\n",
      "[12501,     1] loss: 0.016\n",
      "[12601,     1] loss: 0.014\n",
      "[12701,     1] loss: 0.014\n",
      "[12801,     1] loss: 0.014\n",
      "[12901,     1] loss: 0.014\n",
      "[13001,     1] loss: 0.014\n",
      "[13101,     1] loss: 0.078\n",
      "[13201,     1] loss: 0.016\n",
      "[13301,     1] loss: 0.015\n",
      "[13401,     1] loss: 0.014\n",
      "[13501,     1] loss: 0.013\n",
      "[13601,     1] loss: 0.013\n",
      "[13701,     1] loss: 0.018\n",
      "[13801,     1] loss: 0.013\n",
      "[13901,     1] loss: 0.019\n",
      "[14001,     1] loss: 0.050\n",
      "[14101,     1] loss: 0.352\n",
      "[14201,     1] loss: 0.056\n",
      "[14301,     1] loss: 0.051\n",
      "[14401,     1] loss: 0.022\n",
      "[14501,     1] loss: 0.048\n",
      "[14601,     1] loss: 0.013\n",
      "[14701,     1] loss: 0.024\n",
      "[14801,     1] loss: 0.068\n",
      "[14901,     1] loss: 0.226\n",
      "Finished Training\n"
     ]
    }
   ],
   "source": [
    "Niter = 15000\n",
    "saveLoss=np.zeros(Niter)\n",
    "for epoch in range(Niter):  # loop over the dataset multiple times\n",
    "\n",
    "    running_loss = 0.0\n",
    "    for i, data in enumerate(data_loader):\n",
    "        # get the inputs; data is a list of [inputs, labels]\n",
    "        inputs, labels = data\n",
    "\n",
    "        # COMPLETE THE CELL FROM HERE\n",
    "        optimizer.zero_grad() # nullify all the gradients of the parameters (weights)\n",
    "        output = net.forward(inputs) \n",
    "        loss = criterion(output, labels) # tensor that is a function of parameters => we have a computation graph\n",
    "        loss.backward() # loss is the root node of the tree, input are the leafs : auto differentiation of the computational graph\n",
    "        optimizer.step() # optimizer step apply to net.parameters() : it uses the gradiant of all parameters calculated by the\n",
    "    if epoch % 100 == 0 : \n",
    "        print('[%d, %5d] loss: %.3f' % (epoch + 1, i + 1, loss.item()))\n",
    "    saveLoss[epoch] = loss.item()\n",
    "print('Finished Training')"
   ]
  },
  {
   "cell_type": "markdown",
   "metadata": {
    "id": "VW-RbXaP2OrE"
   },
   "source": [
    "Plot the training error as a function of the epoch"
   ]
  },
  {
   "cell_type": "code",
   "execution_count": 91,
   "metadata": {
    "colab": {
     "base_uri": "https://localhost:8080/",
     "height": 484
    },
    "executionInfo": {
     "elapsed": 4125,
     "status": "error",
     "timestamp": 1602009013836,
     "user": {
      "displayName": "Lionel Fillatre",
      "photoUrl": "",
      "userId": "14463393848879581998"
     },
     "user_tz": -120
    },
    "id": "aam3YN7VouD-",
    "outputId": "7a4852d8-80ab-4321-9bf0-79b7c7997978"
   },
   "outputs": [
    {
     "data": {
      "image/png": "[encoded data removed]",
      "text/plain": [
       "<Figure size 432x288 with 1 Axes>"
      ]
     },
     "metadata": {
      "needs_background": "light"
     },
     "output_type": "display_data"
    }
   ],
   "source": [
    "fig, ax = plt.subplots()\n",
    "plt.plot(range(Niter),saveLoss,'b-',label='Training error')\n",
    "plt.xlabel('Epoch')\n",
    "plt.ylabel('MSE')\n",
    "ax.legend()\n",
    "plt.show()"
   ]
  },
  {
   "cell_type": "markdown",
   "metadata": {
    "id": "FnjcbWrJ0CV3"
   },
   "source": [
    "### Question: plot on the same graph the quartic function and its approximation"
   ]
  },
  {
   "cell_type": "code",
   "execution_count": 92,
   "metadata": {
    "executionInfo": {
     "elapsed": 4118,
     "status": "aborted",
     "timestamp": 1602009013832,
     "user": {
      "displayName": "Lionel Fillatre",
      "photoUrl": "",
      "userId": "14463393848879581998"
     },
     "user_tz": -120
    },
    "id": "AnvnNn-touEB",
    "scrolled": true
   },
   "outputs": [
    {
     "data": {
      "image/png": "[encoded data removed]",
      "text/plain": [
       "<Figure size 432x288 with 1 Axes>"
      ]
     },
     "metadata": {
      "needs_background": "light"
     },
     "output_type": "display_data"
    }
   ],
   "source": [
    "# Complete this cell\n",
    "fig, ax = plt.subplots()\n",
    "plt.plot(x.numpy(), y.numpy(),'r-',label='Quartic function')\n",
    "plt.plot(x.numpy(),net(x).detach().numpy(),'b-',label='NN function')\n",
    "plt.xlabel('$x$')\n",
    "plt.ylabel('$f(x)$')\n",
    "plt.show()\n",
    "ax.legend()\n",
    "plt.show()"
   ]
  },
  {
   "cell_type": "markdown",
   "metadata": {
    "id": "_MpXhTY1rwGE"
   },
   "source": [
    "How many parameters?"
   ]
  },
  {
   "cell_type": "code",
   "execution_count": 68,
   "metadata": {
    "executionInfo": {
     "elapsed": 4117,
     "status": "aborted",
     "timestamp": 1602009013833,
     "user": {
      "displayName": "Lionel Fillatre",
      "photoUrl": "",
      "userId": "14463393848879581998"
     },
     "user_tz": -120
    },
    "id": "OhpZsJxeouD1"
   },
   "outputs": [],
   "source": [
    "# Function to count the number of parameters\n",
    "def count_parameters(model):\n",
    "    return sum(p.numel() for p in model.parameters() if p.requires_grad)\n"
   ]
  },
  {
   "cell_type": "code",
   "execution_count": 69,
   "metadata": {
    "executionInfo": {
     "elapsed": 4114,
     "status": "aborted",
     "timestamp": 1602009013833,
     "user": {
      "displayName": "Lionel Fillatre",
      "photoUrl": "",
      "userId": "14463393848879581998"
     },
     "user_tz": -120
    },
    "id": "xsEJhkeUr107"
   },
   "outputs": [
    {
     "name": "stdout",
     "output_type": "stream",
     "text": [
      "<bound method Module.parameters of Net(\n",
      "  (fc1): Linear(in_features=1, out_features=40, bias=True)\n",
      "  (fc2): Linear(in_features=40, out_features=20, bias=True)\n",
      "  (fc3): Linear(in_features=20, out_features=20, bias=True)\n",
      "  (fc4): Linear(in_features=20, out_features=1, bias=True)\n",
      ")>\n",
      "\n",
      "Total number of parameters 1341\n",
      "\n"
     ]
    }
   ],
   "source": [
    "print(net.parameters)\n",
    "print(\"\\nTotal number of parameters {}\\n\".format(count_parameters(net)))"
   ]
  },
  {
   "cell_type": "markdown",
   "metadata": {
    "id": "uRKKUiGMMAGL"
   },
   "source": [
    "Print all the parameters (just for seeing them)"
   ]
  },
  {
   "cell_type": "code",
   "execution_count": 71,
   "metadata": {
    "executionInfo": {
     "elapsed": 4113,
     "status": "aborted",
     "timestamp": 1602009013834,
     "user": {
      "displayName": "Lionel Fillatre",
      "photoUrl": "",
      "userId": "14463393848879581998"
     },
     "user_tz": -120
    },
    "id": "hstPktpFLuYl"
   },
   "outputs": [
    {
     "name": "stdout",
     "output_type": "stream",
     "text": [
      "Parameter containing:\n",
      "tensor([[ 1.1716],\n",
      "        [ 1.0106],\n",
      "        [ 0.9268],\n",
      "        [ 1.3551],\n",
      "        [-0.1736],\n",
      "        [ 0.3746],\n",
      "        [-0.9988],\n",
      "        [ 0.7999],\n",
      "        [ 0.8793],\n",
      "        [-0.0365],\n",
      "        [-0.0808],\n",
      "        [ 1.2880],\n",
      "        [ 1.4929],\n",
      "        [ 0.3914],\n",
      "        [-1.0987],\n",
      "        [ 0.4092],\n",
      "        [ 0.5387],\n",
      "        [-0.6301],\n",
      "        [-0.2966],\n",
      "        [-0.6407],\n",
      "        [-0.5775],\n",
      "        [-1.2428],\n",
      "        [ 0.3708],\n",
      "        [ 1.3201],\n",
      "        [ 1.3883],\n",
      "        [ 0.7427],\n",
      "        [-1.1085],\n",
      "        [-0.1270],\n",
      "        [ 0.5612],\n",
      "        [ 1.3973],\n",
      "        [ 0.3661],\n",
      "        [ 0.4253],\n",
      "        [-0.0567],\n",
      "        [ 0.3850],\n",
      "        [ 1.5294],\n",
      "        [ 0.5384],\n",
      "        [-0.7324],\n",
      "        [ 0.6483],\n",
      "        [-0.4762],\n",
      "        [-0.9915]], requires_grad=True)\n",
      "Parameter containing:\n",
      "tensor([-1.3609e+00, -5.8499e-01, -1.5019e+00, -9.4388e-01,  8.9643e-01,\n",
      "         1.7393e+00,  1.2262e+00, -1.5218e+00, -1.1304e+00,  1.3136e+00,\n",
      "         6.9783e-01, -3.1242e-01, -6.4856e-02,  1.8338e+00, -1.1323e+00,\n",
      "         1.9007e+00, -1.2274e+00, -6.8363e-01,  1.1437e+00, -9.9365e-01,\n",
      "         1.1460e+00, -9.8304e-01,  1.7296e+00,  4.4528e-01, -1.3915e-01,\n",
      "         1.1302e+00, -9.7225e-01,  6.3446e-01,  1.2905e+00,  3.2060e-01,\n",
      "         1.6991e+00,  1.9981e+00, -9.4929e-01,  1.7892e+00,  1.4863e-03,\n",
      "        -1.2939e+00, -3.8443e-01, -1.3957e+00,  6.6319e-02,  6.6278e-03],\n",
      "       requires_grad=True)\n",
      "Parameter containing:\n",
      "tensor([[ 4.6563e-01,  4.0579e-01,  6.0279e-01,  4.1576e-01,  1.7185e-01,\n",
      "          4.7675e-01,  3.7462e-01,  4.9026e-01,  6.5163e-01,  4.5054e-01,\n",
      "          3.2873e-01,  4.8669e-01,  2.6161e-01,  6.0681e-01, -3.7255e-01,\n",
      "          3.3601e-01,  6.6120e-01, -5.6508e-01,  2.7247e-01, -7.3560e-01,\n",
      "          5.4156e-01, -4.2917e-01,  5.6382e-01,  2.1113e-01,  2.9578e-01,\n",
      "          1.6725e-01, -4.0564e-01,  3.2235e-01,  3.7488e-01,  4.0627e-01,\n",
      "          4.0676e-01,  5.6993e-01, -9.2291e-02,  4.7338e-01,  4.3880e-01,\n",
      "          8.4644e-01, -1.9547e-01,  6.5194e-01,  3.7402e-02,  7.6071e-02],\n",
      "        [-2.0699e-01,  7.4339e-02, -2.6402e-01,  1.3416e-01, -1.6225e-02,\n",
      "          7.8094e-01,  5.5063e-02, -2.0236e-01, -2.6878e-01,  2.2237e-01,\n",
      "          1.2517e-01,  2.2418e-01,  3.0098e-01,  8.7282e-01,  4.9308e-01,\n",
      "          7.8791e-01, -2.4920e-01,  3.9874e-01,  1.8425e-01,  1.1807e-01,\n",
      "         -1.2313e-02,  4.6616e-01,  8.7060e-01,  2.2054e-01,  2.6615e-01,\n",
      "          3.7993e-01,  4.7580e-01,  2.5567e-01,  2.6460e-01,  4.0520e-01,\n",
      "          8.5009e-01,  6.5493e-01,  1.5681e-01,  6.0045e-01,  2.0363e-01,\n",
      "         -3.2650e-01,  4.0469e-01, -4.3869e-01,  3.6282e-01,  2.7396e-01],\n",
      "        [ 1.0835e-02, -1.1226e-01,  1.4463e-01,  1.4931e-01,  5.3070e-02,\n",
      "         -1.5139e-01, -8.1252e-02, -1.0095e-01,  1.4860e-01,  1.2077e-01,\n",
      "         -1.1187e-02,  7.6432e-02, -9.8937e-02,  5.4639e-03,  9.1045e-02,\n",
      "         -1.5147e-01, -3.5341e-02, -8.3937e-02, -4.4231e-02,  4.8213e-02,\n",
      "          2.5749e-02, -3.7124e-02, -1.1823e-01, -1.0800e-01, -1.3808e-01,\n",
      "         -5.6844e-02, -1.0290e-02,  8.4527e-02, -1.5110e-01,  5.0860e-02,\n",
      "         -1.8007e-02,  7.8534e-03, -8.6396e-02,  6.3658e-02, -6.2586e-03,\n",
      "         -1.1803e-01, -1.0042e-02, -7.0397e-02,  1.1588e-02, -6.7218e-02],\n",
      "        [-9.1554e-02,  3.0863e-02, -8.0616e-02,  5.1513e-02,  1.8334e-03,\n",
      "          1.4815e-02, -2.7862e-02, -9.1367e-02, -1.5115e-01, -1.3648e-01,\n",
      "          3.8283e-02, -9.7635e-02,  2.6549e-02, -6.9095e-03, -3.1773e-02,\n",
      "         -5.0432e-02, -1.1604e-01,  8.9102e-02,  5.0081e-02,  4.2632e-05,\n",
      "          2.1028e-02, -2.2420e-02,  1.3313e-02,  4.4576e-02,  1.5074e-01,\n",
      "         -1.0639e-01, -8.0075e-02, -8.5035e-02, -8.5282e-02, -7.4482e-02,\n",
      "         -1.2596e-01,  3.6665e-02, -1.8974e-02, -1.2136e-01, -6.7325e-02,\n",
      "         -1.9220e-02, -6.8464e-02,  6.1823e-02,  9.8119e-03, -2.4142e-02],\n",
      "        [-4.6956e-01, -1.1896e-01, -4.6787e-01, -3.4679e-01,  3.7111e-01,\n",
      "          5.5417e-01,  2.3648e-01, -6.2679e-01, -6.6533e-01,  3.9213e-01,\n",
      "          2.2720e-01, -9.4761e-02, -1.2581e-01,  6.3466e-01, -8.7057e-03,\n",
      "          5.1664e-01, -7.1806e-01, -5.4367e-02,  2.7239e-01, -1.0825e-01,\n",
      "          2.7577e-01,  2.0898e-01,  4.5768e-01,  2.0899e-01, -8.0087e-02,\n",
      "          2.3232e-01,  2.3490e-01,  2.4698e-01, -1.7674e-02, -9.4371e-02,\n",
      "          8.0925e-01,  5.1663e-01, -4.6769e-02,  6.3143e-01,  8.8170e-02,\n",
      "         -6.6706e-01,  2.3142e-01, -5.1150e-01,  1.8167e-01,  2.7894e-01],\n",
      "        [-6.8283e-01, -2.0489e-01, -6.5670e-01, -4.4709e-01, -2.3870e-01,\n",
      "          8.3039e-01,  3.5626e-02, -6.7276e-01, -6.8278e-01, -1.1167e-01,\n",
      "         -1.9575e-01, -8.1070e-02, -1.9904e-01,  8.2045e-01,  3.1829e-01,\n",
      "          8.0211e-01, -6.4537e-01,  5.2622e-01,  1.2975e-02,  3.0143e-01,\n",
      "         -3.0423e-01,  4.8384e-01,  6.2666e-01,  5.6570e-02, -9.3477e-02,\n",
      "          1.1443e-01,  3.9765e-01,  2.1381e-02,  2.2856e-01,  7.1844e-02,\n",
      "          7.4669e-01,  6.3137e-01,  1.1197e-01,  8.5161e-01, -2.0916e-01,\n",
      "         -6.2885e-01,  5.2248e-01, -7.5161e-01,  8.6198e-03,  2.0196e-01],\n",
      "        [-1.0432e+00, -7.5504e-01, -7.1131e-01, -8.8054e-01,  6.2786e-01,\n",
      "          5.7650e-01,  3.9111e-01, -7.9859e-01, -1.0251e+00,  7.1043e-01,\n",
      "          5.2718e-01, -7.4904e-01, -5.8128e-01,  9.0403e-01, -4.1596e-01,\n",
      "          9.2741e-01, -3.8361e-01, -4.7928e-01,  7.2799e-01, -7.0281e-01,\n",
      "          3.6456e-01, -5.9148e-01,  8.6887e-01, -3.9245e-01, -6.7271e-01,\n",
      "          4.6660e-01, -3.8292e-01,  7.8650e-01,  5.8524e-01, -5.1356e-01,\n",
      "          7.8915e-01,  7.7870e-01,  3.8818e-02,  7.7686e-01, -5.7190e-01,\n",
      "          2.6432e-01, -4.7509e-01, -4.0377e-01, -9.3004e-02, -3.3820e-01],\n",
      "        [-9.6477e-02,  4.9634e-03, -1.1446e-01, -1.1053e-01, -1.1508e-01,\n",
      "         -6.4378e-02, -1.4202e-01,  4.1308e-02, -1.8111e-02,  4.7430e-02,\n",
      "          1.3121e-01,  6.9104e-03, -8.6142e-02, -1.4976e-01, -1.1294e-01,\n",
      "          4.1318e-02,  1.3439e-01,  4.9610e-02,  7.7908e-02,  6.5928e-02,\n",
      "         -5.4746e-02, -1.3885e-01,  9.3030e-02, -1.5753e-01, -7.4897e-02,\n",
      "          5.1805e-02, -1.0398e-01, -1.5679e-01, -1.2414e-01,  1.2892e-01,\n",
      "         -7.8984e-02, -1.5751e-01, -2.1250e-02,  1.2123e-01, -5.6341e-02,\n",
      "          1.8292e-02,  1.4479e-01, -2.4345e-03, -8.6053e-02, -1.5376e-02],\n",
      "        [ 9.0109e-01,  1.3137e-01, -3.9579e-03,  5.5983e-01,  2.6442e-01,\n",
      "          1.1534e-01,  3.1426e-01, -5.9737e-02, -8.7302e-03,  2.3530e-01,\n",
      "          2.0987e-01, -7.7739e-02, -4.3248e-01,  2.1259e-01, -1.0116e+00,\n",
      "          1.6027e-01, -1.5346e-01, -9.4074e-01,  3.6279e-01, -2.5929e-02,\n",
      "          4.4967e-01, -8.4831e-01, -6.9535e-02, -2.0712e-01, -2.8669e-01,\n",
      "         -5.7807e-01, -9.7548e-01,  3.7390e-01, -5.8336e-02, -1.9539e-03,\n",
      "          1.1431e-01,  1.0378e-01, -6.6882e-02, -5.1159e-02, -2.0204e-01,\n",
      "          1.3067e-01, -1.5815e-02,  8.0996e-02,  4.8148e-01,  4.8356e-01],\n",
      "        [-1.5628e-01, -1.5367e-01,  3.7788e-02, -3.6653e-03,  6.4658e-01,\n",
      "         -8.8099e-01,  3.8055e-01,  1.6000e-02, -1.0986e-01,  4.2248e-01,\n",
      "          3.8378e-01, -1.5775e-01, -1.4210e-01, -1.4805e+00, -1.6357e-01,\n",
      "         -1.3951e+00, -1.5798e-01, -1.8944e-01,  5.7077e-01, -3.8268e-01,\n",
      "          6.9862e-01, -2.8175e-01, -1.4423e+00, -4.1311e-02, -1.4625e-01,\n",
      "          1.2418e-01, -1.8066e-01,  4.1366e-01,  2.2329e-03,  1.8034e-02,\n",
      "         -1.0362e+00, -6.6923e-01,  9.2903e-02, -9.7825e-01,  8.5913e-02,\n",
      "          1.3832e-01, -1.0452e-01,  1.3808e-01,  1.4274e-01,  1.2917e-01],\n",
      "        [ 7.6207e-01,  6.8701e-01,  5.1258e-01,  5.5866e-01, -3.1991e-01,\n",
      "         -7.5188e-01,  5.5260e-02,  8.3742e-01,  6.7117e-01, -4.6823e-01,\n",
      "         -3.8226e-01,  3.4476e-01,  2.0749e-01, -6.6094e-01,  2.6644e-01,\n",
      "         -6.1776e-01,  7.5429e-01,  4.5685e-01, -3.7069e-01,  1.7883e-01,\n",
      "          2.7295e-01,  3.6803e-01, -8.5014e-01,  1.6366e-01,  3.8166e-01,\n",
      "          8.3502e-02,  4.1975e-01, -2.8176e-01, -2.1207e-01,  2.6018e-01,\n",
      "         -8.8218e-01, -5.3108e-01,  1.1996e-01, -6.6999e-01,  3.3321e-01,\n",
      "          7.2305e-01,  1.5975e-01,  8.2338e-01,  1.8194e-01,  2.0340e-01],\n",
      "        [-1.1960e-01, -1.0164e-01,  7.5480e-02,  4.5130e-02, -8.1284e-02,\n",
      "          4.7011e-02, -3.3013e-02, -1.6304e-01, -2.3601e-02, -3.7906e-02,\n",
      "          7.4457e-02, -5.3379e-02, -1.3642e-01,  7.8122e-03, -1.2714e-01,\n",
      "         -2.3302e-02,  6.2809e-03,  1.5787e-01, -1.7664e-02, -1.1282e-02,\n",
      "         -9.2109e-02,  9.9106e-02, -1.0634e-01, -5.8597e-02,  1.1850e-01,\n",
      "          6.3761e-02, -1.1532e-01, -6.3047e-02, -3.6791e-02,  1.2478e-01,\n",
      "         -1.2914e-01, -4.7550e-02,  1.0936e-01,  4.6343e-03,  7.1339e-02,\n",
      "         -9.1201e-02,  1.0869e-01, -6.6565e-02,  1.5177e-02, -1.3596e-01],\n",
      "        [ 5.7590e-01,  3.7490e-01,  6.7086e-01,  6.2034e-01,  1.7924e-01,\n",
      "          3.1117e-01,  2.9808e-01,  5.4968e-01,  4.7618e-01,  2.8901e-01,\n",
      "          2.5764e-01,  4.1952e-01,  3.1408e-01,  4.5623e-01, -3.4797e-01,\n",
      "          4.0522e-01,  7.4172e-01, -3.0376e-01,  2.1668e-01, -5.4534e-01,\n",
      "          4.3359e-01, -1.6368e-01,  5.2379e-01,  1.6430e-01,  3.4829e-01,\n",
      "          2.1630e-01, -1.3668e-01,  5.8155e-02,  1.1486e-01,  1.1411e-01,\n",
      "          4.0764e-01,  3.1596e-01,  3.4533e-02,  2.6680e-01,  3.1929e-01,\n",
      "          6.2065e-01, -2.7908e-01,  7.1507e-01,  5.0827e-02, -1.5439e-01],\n",
      "        [-6.5867e-01, -2.6659e-01, -6.9373e-01, -3.7773e-01,  1.8697e-01,\n",
      "          7.3376e-01,  1.5883e-01, -7.6960e-01, -4.8835e-01,  6.3026e-02,\n",
      "          1.2928e-01,  1.0117e-02,  5.3213e-02,  3.9669e-01,  1.9012e-02,\n",
      "          6.9073e-01, -8.1972e-01,  1.2777e-01,  2.0191e-01, -2.9764e-01,\n",
      "         -4.2978e-02, -5.5747e-02,  6.4783e-01, -1.2142e-01,  2.4855e-02,\n",
      "          1.5818e-01,  2.7518e-03,  1.4610e-01, -3.7703e-02,  1.4810e-01,\n",
      "          6.4408e-01,  3.9911e-01, -1.3051e-01,  9.3174e-01, -1.7992e-01,\n",
      "         -8.8803e-01,  2.5300e-01, -6.6362e-01,  1.3191e-01,  2.2873e-01],\n",
      "        [-1.5444e-01,  2.5648e-02,  1.8682e-02, -9.7470e-02, -9.6076e-02,\n",
      "         -1.3731e-01, -2.2165e-02, -5.0206e-02,  4.6599e-02, -1.5162e-01,\n",
      "         -1.3034e-01, -1.5179e-01, -1.0243e-01, -6.4658e-02, -1.5619e-01,\n",
      "         -4.2587e-02,  1.4432e-01,  5.7364e-02, -7.6256e-02,  8.0788e-02,\n",
      "          3.1823e-02,  1.3974e-01,  1.4629e-01,  1.0999e-01, -4.4342e-02,\n",
      "         -1.4634e-01, -1.3093e-01,  5.1917e-02, -1.1642e-01, -4.5068e-02,\n",
      "         -1.2605e-01, -7.9800e-03,  9.5788e-02,  1.1469e-01,  6.8214e-02,\n",
      "         -1.4364e-01, -5.9419e-02,  7.1424e-02,  1.8901e-02, -1.2654e-01],\n",
      "        [-1.0729e-01,  4.8127e-02, -1.1781e-01,  9.4920e-02, -1.5350e-01,\n",
      "          6.4883e-02,  4.7086e-02, -2.7893e-02, -9.2758e-02, -1.5481e-01,\n",
      "         -5.8940e-02, -5.3916e-02, -1.1906e-01,  1.4148e-01, -4.4921e-02,\n",
      "         -3.8712e-02, -1.2811e-01, -1.0163e-01,  6.1605e-02, -1.4901e-01,\n",
      "          9.6959e-02,  1.2323e-01, -5.1873e-02,  1.2833e-01, -1.0082e-01,\n",
      "         -1.6590e-02,  2.9642e-02, -1.0845e-01,  6.1672e-02, -1.5577e-01,\n",
      "         -1.3200e-01, -6.8433e-02, -3.7689e-02,  6.9263e-02,  6.6282e-02,\n",
      "         -9.6940e-03,  1.3912e-01, -5.9726e-02,  8.0332e-03, -1.4563e-01],\n",
      "        [-1.2569e-01, -1.5617e-01, -1.6716e-01,  6.9911e-02, -1.6832e-01,\n",
      "         -1.0954e-01, -3.5988e-02, -1.5371e-01,  6.3737e-02, -1.6671e-01,\n",
      "         -8.4643e-02, -9.1065e-02,  4.5435e-02, -1.5646e-01, -1.2265e-02,\n",
      "          1.3860e-01,  3.3655e-02,  1.0596e-01, -9.5093e-02,  1.2436e-01,\n",
      "         -1.2281e-01,  5.6307e-02,  6.4828e-02,  9.6689e-02, -1.6773e-01,\n",
      "          1.1061e-01,  5.6052e-02,  2.2387e-02,  8.7725e-03,  7.7572e-02,\n",
      "         -1.0432e-02,  8.2203e-02, -1.0007e-01, -8.9978e-02,  3.0212e-02,\n",
      "         -7.8719e-02,  7.8652e-02, -1.4381e-01, -3.9545e-02, -1.2359e-01],\n",
      "        [ 7.1976e-03, -2.6148e-02, -1.2233e-01, -9.0560e-03, -9.4901e-02,\n",
      "         -9.9763e-01, -9.8402e-02,  8.9240e-02,  1.4837e-01, -1.4392e-01,\n",
      "         -2.1399e-01, -1.3797e-01, -1.3601e-01, -1.5513e+00,  3.1479e-01,\n",
      "         -1.1394e+00, -1.6446e-02,  2.6202e-01, -2.0060e-01,  3.3777e-01,\n",
      "          5.3392e-02,  2.5855e-01, -1.4158e+00,  1.5099e-01,  1.2379e-01,\n",
      "          1.3177e-01,  1.5596e-01, -1.4444e-01, -1.4815e-01,  1.3235e-01,\n",
      "         -9.9381e-01, -1.6132e+00, -1.3168e-01, -1.0251e+00, -1.2157e-01,\n",
      "          1.1586e-01,  2.4630e-02, -1.0562e-01, -1.2583e-02,  2.2411e-01],\n",
      "        [ 1.9182e-02,  1.0963e-01, -1.1039e-01, -8.8210e-02,  9.4461e-02,\n",
      "         -9.7149e-01,  1.6050e-01, -1.5496e-01, -1.1856e-01, -2.1236e-01,\n",
      "         -1.1237e-01, -1.5302e-01, -1.2168e-01, -1.3597e+00,  1.6322e-02,\n",
      "         -1.1591e+00, -9.3642e-02,  2.4889e-01,  7.9594e-02,  1.9327e-01,\n",
      "          1.6464e-02,  9.7630e-02, -1.3287e+00, -1.4383e-01,  1.5263e-02,\n",
      "         -6.4192e-02,  1.8241e-01, -2.0348e-01,  1.6816e-01,  1.3765e-01,\n",
      "         -1.0075e+00, -1.3778e+00,  5.3307e-02, -7.4487e-01,  1.5409e-01,\n",
      "          8.5096e-02,  2.4439e-01,  1.5197e-01,  3.5875e-03,  2.8612e-01],\n",
      "        [ 5.7884e-03, -7.5470e-02,  1.2333e-01,  8.6719e-02, -1.3466e-01,\n",
      "         -7.2292e-02,  3.2638e-02, -9.9016e-02, -1.1181e-01, -1.0857e-01,\n",
      "         -1.5315e-02, -2.0544e-02, -1.1050e-01,  2.5137e-02,  1.5399e-01,\n",
      "         -4.8562e-02, -6.2970e-03,  1.0713e-01, -6.0452e-02,  8.9576e-02,\n",
      "         -1.2084e-01, -8.5403e-02,  1.2081e-01, -1.1049e-01,  2.7405e-02,\n",
      "          6.1006e-02, -8.6577e-02, -9.7509e-02,  9.3817e-02, -7.2864e-02,\n",
      "         -1.5779e-01,  1.2720e-01, -6.4702e-02,  1.0497e-01, -7.5064e-02,\n",
      "         -7.9336e-02, -1.5479e-01,  1.3797e-01, -1.3743e-01,  1.4899e-01]],\n",
      "       requires_grad=True)\n",
      "Parameter containing:\n",
      "tensor([ 0.4772,  0.1522, -0.0629, -0.0271,  0.3266, -0.0825,  0.4814,  0.0047,\n",
      "         0.2565,  0.4645, -0.4609, -0.0253,  0.2044,  0.3209, -0.0540, -0.1451,\n",
      "        -0.0657, -0.1084, -0.1232, -0.1508], requires_grad=True)\n",
      "Parameter containing:\n",
      "tensor([[ 3.2339e-01, -1.4257e-01,  6.7010e-02, -9.9312e-02,  4.5388e-01,\n",
      "         -8.8793e-01,  7.1146e-01, -1.5328e-01, -8.2179e-01,  1.2013e+00,\n",
      "          3.4185e-01,  2.1707e-01,  3.5039e-01, -2.7744e-01, -6.7611e-03,\n",
      "         -1.9516e-01,  3.8604e-02,  4.6133e-01,  7.4792e-01,  7.1793e-02],\n",
      "        [-8.3416e-01,  3.7724e-01,  1.7572e-01,  1.7895e-01,  7.5944e-01,\n",
      "          5.5681e-01, -9.9306e-01, -1.3045e-01, -2.9018e-01, -7.1228e-01,\n",
      "         -1.1249e+00,  1.3549e-01, -3.0523e-01,  8.3923e-01,  1.9413e-01,\n",
      "         -8.4952e-03,  2.0304e-01, -9.9643e-01, -1.0427e+00,  1.3737e-01],\n",
      "        [ 5.1537e-01,  7.1409e-02,  1.4852e-03,  1.1463e-01, -2.3337e-02,\n",
      "         -4.5754e-01,  5.9785e-01, -6.6398e-02, -6.9266e-01,  1.1973e+00,\n",
      "          4.0543e-01, -9.7190e-02,  6.1906e-01, -2.7223e-01,  2.1389e-01,\n",
      "          1.1863e-01, -1.0218e-01,  4.6233e-01,  6.5638e-01, -1.0958e-01],\n",
      "        [-2.7798e-01,  5.5655e-01, -1.6325e-01,  1.5608e-01,  4.9001e-01,\n",
      "          5.9079e-01, -9.4602e-01, -8.7518e-02,  9.9974e-01, -1.0752e+00,\n",
      "         -4.3804e-01, -2.0893e-01, -4.0835e-01,  1.2449e-01, -1.1955e-01,\n",
      "          5.7778e-02, -7.1625e-02, -6.6266e-01, -5.7055e-01,  1.7241e-01],\n",
      "        [-1.6758e-01, -2.0748e-02, -1.7808e-01,  1.4108e-01,  1.7316e-02,\n",
      "          3.3602e-02, -1.0334e-01, -2.1067e-01,  1.0485e-01,  2.0175e-02,\n",
      "         -1.8671e-01, -3.5842e-02, -2.7848e-03, -1.6502e-01, -2.0019e-01,\n",
      "         -1.3244e-01, -1.2057e-01, -2.1245e-01,  1.4346e-01, -5.3885e-02],\n",
      "        [-5.9555e-01,  5.2902e-01, -3.4184e-03, -8.7875e-02,  5.8941e-01,\n",
      "          5.0206e-01, -9.0457e-01,  1.9037e-02,  7.7247e-01, -8.5903e-01,\n",
      "         -9.3130e-01, -1.8563e-01, -6.8252e-01,  8.3718e-01, -9.7785e-02,\n",
      "         -5.1066e-02, -1.0843e-01, -1.0603e+00, -1.0039e+00,  1.8114e-02],\n",
      "        [-2.4860e-01,  6.6727e-01,  4.1921e-02, -2.3506e-02,  5.2335e-01,\n",
      "          6.8902e-01, -4.7285e-01, -1.8070e-01,  6.0928e-01, -1.3116e+00,\n",
      "         -3.2121e-01,  2.2020e-01, -6.2674e-01,  2.3026e-01, -9.9492e-02,\n",
      "          7.7541e-02,  2.1477e-02, -6.6721e-01, -4.5376e-01, -1.6392e-01],\n",
      "        [-2.0672e-01, -2.3340e-01,  1.6152e-01, -2.0002e-01, -7.5726e-01,\n",
      "         -7.7510e-02, -1.1498e-01,  1.2897e-01, -3.4016e-02,  2.0137e-01,\n",
      "          1.0771e+00,  1.1605e-01,  5.9815e-02, -9.3650e-01,  7.2338e-02,\n",
      "          1.3897e-01,  1.4530e-01,  1.1217e+00,  8.3919e-01, -4.5955e-02],\n",
      "        [-4.3450e-01,  6.1754e-01,  1.0694e-01, -4.3859e-02,  4.7821e-01,\n",
      "          6.5879e-01, -7.9246e-01, -1.3208e-01,  5.9219e-01, -1.1951e+00,\n",
      "         -4.5402e-01,  1.4619e-01, -3.1220e-01,  4.3329e-01,  1.4590e-01,\n",
      "         -2.1106e-01, -1.1638e-01, -6.6688e-01, -3.3707e-01, -1.5609e-01],\n",
      "        [-3.7593e-01,  5.1620e-01, -1.2457e-01, -1.7688e-01,  3.7504e-01,\n",
      "          6.5484e-01, -5.2985e-01,  1.5451e-01,  8.5658e-01, -1.2305e+00,\n",
      "         -3.3565e-01, -1.6476e-01, -2.6796e-01,  3.8190e-01, -3.8097e-02,\n",
      "         -1.2925e-01, -4.0105e-02, -5.7766e-01, -6.2718e-01, -1.8776e-01],\n",
      "        [ 3.9842e-01, -1.0046e-01,  1.8441e-01, -3.0737e-02, -6.5749e-01,\n",
      "         -1.0046e+00, -1.0703e-01,  1.3178e-01, -4.4934e-02,  8.2575e-02,\n",
      "          8.7060e-01,  1.8145e-01,  4.9112e-01, -1.0205e+00, -3.4476e-02,\n",
      "         -6.7106e-02, -8.8516e-02, -2.2268e-01, -1.2938e-01,  6.9186e-02],\n",
      "        [ 6.0714e-01,  2.7575e-02, -9.8922e-02,  2.2490e-02,  3.8115e-01,\n",
      "         -9.4205e-01,  7.6685e-01, -2.0739e-01, -8.2146e-01,  1.0388e+00,\n",
      "          2.7421e-01,  1.8342e-02,  2.8577e-01, -4.4564e-01,  1.4672e-01,\n",
      "          8.1358e-02,  1.2415e-01,  6.2600e-01,  6.6356e-01, -1.6223e-01],\n",
      "        [-1.2257e-01,  3.3177e-01,  1.4594e-01, -9.5268e-02,  4.6662e-01,\n",
      "          3.9831e-01, -8.3501e-01,  1.1705e-01,  7.4785e-01, -8.6253e-01,\n",
      "         -2.7841e-01,  7.4605e-02, -4.2154e-01,  5.2968e-01, -4.4568e-02,\n",
      "         -2.1155e-01, -1.2497e-01, -4.9874e-01, -5.6012e-01,  1.5446e-01],\n",
      "        [ 5.1279e-01,  2.3463e-01, -1.9871e-01, -2.1098e-01, -2.4618e-03,\n",
      "         -6.3762e-01,  5.7080e-01,  1.1929e-01, -7.4174e-01,  1.0161e+00,\n",
      "          5.3877e-01,  1.7498e-01,  2.7697e-01, -4.3629e-01, -1.1647e-01,\n",
      "         -1.5111e-01, -1.7883e-01,  1.9793e-01,  4.2109e-01,  2.2277e-01],\n",
      "        [-1.5155e-01, -2.0082e-01, -1.3078e-01, -1.6684e-01,  1.4963e-02,\n",
      "         -4.2554e-02,  1.3126e-01,  1.1035e-01, -1.6821e-01, -8.7501e-03,\n",
      "          1.1920e-01, -1.4849e-01, -1.9817e-01, -5.8050e-02, -1.0886e-01,\n",
      "          5.5387e-02, -4.2587e-03,  9.8225e-02,  2.7052e-02, -9.7687e-02],\n",
      "        [ 5.5536e-01, -1.9946e-01,  8.2641e-03, -1.2210e-02, -9.8503e-01,\n",
      "         -9.6633e-01, -9.6349e-02, -1.0710e-01, -9.3049e-03, -1.2665e-01,\n",
      "          7.2681e-01, -8.1950e-03,  4.4233e-01, -7.7306e-01,  1.5069e-01,\n",
      "         -1.7908e-01, -1.1430e-02, -1.0121e-01, -1.3966e-01,  1.7317e-01],\n",
      "        [-1.8677e-01,  4.6219e-01,  2.0768e-01,  5.6800e-02,  1.6007e-01,\n",
      "          5.7749e-01, -7.1368e-01, -1.0570e-01,  8.8450e-01, -1.0971e+00,\n",
      "         -2.9683e-01, -1.2017e-01, -4.3139e-01,  3.9196e-01,  1.2956e-01,\n",
      "         -1.5220e-01,  1.1304e-03, -6.4339e-01, -4.3476e-01, -3.9786e-02],\n",
      "        [-1.9066e-01,  4.4942e-01, -4.2143e-02, -1.1290e-01,  1.8724e-01,\n",
      "          7.2801e-01, -7.0695e-01, -2.1793e-01,  9.4495e-01, -1.0862e+00,\n",
      "         -1.7246e-01, -1.1883e-01, -4.8480e-01,  4.2248e-01, -5.8347e-02,\n",
      "          1.7648e-01, -1.6281e-01, -7.4048e-01, -5.8362e-01, -2.1980e-02],\n",
      "        [-3.4282e-01,  5.1218e-01, -1.8400e-01, -2.1937e-02,  3.9863e-01,\n",
      "          6.5825e-01, -7.6051e-01, -3.4731e-02,  8.0051e-01, -1.1607e+00,\n",
      "         -4.9206e-01, -4.4736e-02, -2.6496e-01,  3.0384e-01, -2.0385e-01,\n",
      "         -2.0206e-01,  1.2277e-02, -5.5734e-01, -6.9285e-01, -9.5308e-02],\n",
      "        [ 1.6897e-01, -1.2618e-01,  1.0428e-01,  8.3591e-02,  1.5472e-01,\n",
      "          1.1020e-01, -1.0355e-01, -1.7044e-01, -2.0680e-02, -2.4794e-02,\n",
      "         -2.1279e-02, -4.4005e-02, -1.6852e-01, -1.6528e-01,  2.1246e-01,\n",
      "          1.5704e-01,  9.1345e-03, -1.8430e-01,  1.4551e-02,  2.2519e-02]],\n",
      "       requires_grad=True)\n",
      "Parameter containing:\n",
      "tensor([ 0.0343,  0.3446,  0.4283,  0.2188, -0.1273,  0.2884,  0.0624, -1.1847,\n",
      "         0.1589, -0.1745, -0.2377,  0.1897,  0.1195,  0.9451, -0.2164, -0.1396,\n",
      "         0.0986,  0.2322,  0.0334, -0.1845], requires_grad=True)\n",
      "Parameter containing:\n",
      "tensor([[ 1.0389, -0.9490,  0.8117, -0.7796, -0.1873, -0.9617, -0.6186, -1.0861,\n",
      "         -0.6045, -0.8021,  0.6904,  0.7706, -0.6041,  0.8518, -0.0911,  0.7063,\n",
      "         -0.7918, -0.6671, -0.6941, -0.2085]], requires_grad=True)\n",
      "Parameter containing:\n",
      "tensor([-0.0829], requires_grad=True)\n"
     ]
    }
   ],
   "source": [
    "for parameter in net.parameters():\n",
    "    print(parameter)"
   ]
  },
  {
   "cell_type": "markdown",
   "metadata": {
    "id": "tbEXUwJZNgX9"
   },
   "source": [
    "## Approximation with a shallow neural network"
   ]
  },
  {
   "cell_type": "markdown",
   "metadata": {
    "id": "iwoSChjz2fuE"
   },
   "source": [
    "### Question: code a one-hidden layer neural network with approximatively the same number of parameters than the multilayer neural network. What is the \"best\" architecture?"
   ]
  },
  {
   "cell_type": "code",
   "execution_count": 93,
   "metadata": {
    "executionInfo": {
     "elapsed": 4111,
     "status": "aborted",
     "timestamp": 1602009013834,
     "user": {
      "displayName": "Lionel Fillatre",
      "photoUrl": "",
      "userId": "14463393848879581998"
     },
     "user_tz": -120
    },
    "id": "Qw_JwF-42set"
   },
   "outputs": [],
   "source": [
    "# Complete this cell: model and training\n",
    "\n",
    "import torch.nn as nn\n",
    "import torch.nn.functional as F\n",
    "\n",
    "\n",
    "class Net(nn.Module):\n",
    "    def __init__(self):\n",
    "        super(Net, self).__init__()\n",
    "        self.fc1 = nn.Linear(1, 100)\n",
    "        self.fc4 = nn.Linear(100,1)\n",
    "\n",
    "    def forward(self, x):\n",
    "        x = F.relu(self.fc1(x))\n",
    "        x = self.fc4(x)\n",
    "        return x\n",
    "\n",
    "\n",
    "net = Net()\n",
    "\n"
   ]
  },
  {
   "cell_type": "code",
   "execution_count": 94,
   "metadata": {},
   "outputs": [],
   "source": [
    "import torch.optim as optim\n",
    "\n",
    "criterion = nn.MSELoss()\n",
    "optimizer = optim.Adam(net.parameters(), lr=0.01)"
   ]
  },
  {
   "cell_type": "code",
   "execution_count": 96,
   "metadata": {},
   "outputs": [
    {
     "name": "stdout",
     "output_type": "stream",
     "text": [
      "[1,     1] loss: 96.213\n",
      "[101,     1] loss: 96.128\n",
      "[201,     1] loss: 96.083\n",
      "[301,     1] loss: 96.078\n",
      "[401,     1] loss: 96.039\n",
      "[501,     1] loss: 96.025\n",
      "[601,     1] loss: 95.979\n",
      "[701,     1] loss: 95.974\n",
      "[801,     1] loss: 95.970\n",
      "[901,     1] loss: 95.943\n",
      "[1001,     1] loss: 95.934\n",
      "[1101,     1] loss: 95.921\n",
      "[1201,     1] loss: 95.890\n",
      "[1301,     1] loss: 95.892\n",
      "[1401,     1] loss: 95.898\n",
      "[1501,     1] loss: 95.873\n",
      "[1601,     1] loss: 95.861\n",
      "[1701,     1] loss: 95.859\n",
      "[1801,     1] loss: 95.927\n",
      "[1901,     1] loss: 95.871\n",
      "[2001,     1] loss: 95.853\n",
      "[2101,     1] loss: 95.848\n",
      "[2201,     1] loss: 95.825\n",
      "[2301,     1] loss: 95.875\n",
      "[2401,     1] loss: 95.818\n",
      "[2501,     1] loss: 95.820\n",
      "[2601,     1] loss: 95.812\n",
      "[2701,     1] loss: 95.808\n",
      "[2801,     1] loss: 95.796\n",
      "[2901,     1] loss: 95.811\n",
      "[3001,     1] loss: 96.160\n",
      "[3101,     1] loss: 95.819\n",
      "[3201,     1] loss: 95.843\n",
      "[3301,     1] loss: 95.782\n",
      "[3401,     1] loss: 95.781\n",
      "[3501,     1] loss: 95.778\n",
      "[3601,     1] loss: 95.775\n",
      "[3701,     1] loss: 95.775\n",
      "[3801,     1] loss: 95.770\n",
      "[3901,     1] loss: 95.791\n",
      "[4001,     1] loss: 95.765\n",
      "[4101,     1] loss: 95.767\n",
      "[4201,     1] loss: 95.762\n",
      "[4301,     1] loss: 95.831\n",
      "[4401,     1] loss: 95.760\n",
      "[4501,     1] loss: 95.756\n",
      "[4601,     1] loss: 95.755\n",
      "[4701,     1] loss: 95.752\n",
      "[4801,     1] loss: 95.751\n",
      "[4901,     1] loss: 95.750\n",
      "[5001,     1] loss: 95.747\n",
      "[5101,     1] loss: 95.747\n",
      "[5201,     1] loss: 95.894\n",
      "[5301,     1] loss: 95.743\n",
      "[5401,     1] loss: 95.743\n",
      "[5501,     1] loss: 95.744\n",
      "[5601,     1] loss: 95.954\n",
      "[5701,     1] loss: 95.739\n",
      "[5801,     1] loss: 95.738\n",
      "[5901,     1] loss: 95.738\n",
      "[6001,     1] loss: 95.735\n",
      "[6101,     1] loss: 95.735\n",
      "[6201,     1] loss: 95.733\n",
      "[6301,     1] loss: 95.732\n",
      "[6401,     1] loss: 95.733\n",
      "[6501,     1] loss: 95.759\n",
      "[6601,     1] loss: 95.730\n",
      "[6701,     1] loss: 95.743\n",
      "[6801,     1] loss: 95.729\n",
      "[6901,     1] loss: 95.731\n",
      "[7001,     1] loss: 95.727\n",
      "[7101,     1] loss: 95.729\n",
      "[7201,     1] loss: 95.799\n",
      "[7301,     1] loss: 95.723\n",
      "[7401,     1] loss: 95.723\n",
      "[7501,     1] loss: 95.809\n",
      "[7601,     1] loss: 95.720\n",
      "[7701,     1] loss: 95.719\n",
      "[7801,     1] loss: 95.720\n",
      "[7901,     1] loss: 95.717\n",
      "[8001,     1] loss: 95.717\n",
      "[8101,     1] loss: 95.716\n",
      "[8201,     1] loss: 95.715\n",
      "[8301,     1] loss: 95.715\n",
      "[8401,     1] loss: 95.714\n",
      "[8501,     1] loss: 95.753\n",
      "[8601,     1] loss: 95.718\n",
      "[8701,     1] loss: 95.712\n",
      "[8801,     1] loss: 95.711\n",
      "[8901,     1] loss: 95.711\n",
      "[9001,     1] loss: 95.710\n",
      "[9101,     1] loss: 95.709\n",
      "[9201,     1] loss: 95.709\n",
      "[9301,     1] loss: 95.709\n",
      "[9401,     1] loss: 95.708\n",
      "[9501,     1] loss: 95.708\n",
      "[9601,     1] loss: 95.710\n",
      "[9701,     1] loss: 95.747\n",
      "[9801,     1] loss: 95.828\n",
      "[9901,     1] loss: 95.706\n",
      "[10001,     1] loss: 95.704\n",
      "[10101,     1] loss: 95.704\n",
      "[10201,     1] loss: 95.733\n",
      "[10301,     1] loss: 95.703\n",
      "[10401,     1] loss: 95.705\n",
      "[10501,     1] loss: 95.707\n",
      "[10601,     1] loss: 95.701\n",
      "[10701,     1] loss: 95.702\n",
      "[10801,     1] loss: 96.040\n",
      "[10901,     1] loss: 95.700\n",
      "[11001,     1] loss: 95.707\n",
      "[11101,     1] loss: 95.700\n",
      "[11201,     1] loss: 95.699\n",
      "[11301,     1] loss: 95.707\n",
      "[11401,     1] loss: 95.698\n",
      "[11501,     1] loss: 95.699\n",
      "[11601,     1] loss: 95.698\n",
      "[11701,     1] loss: 95.698\n",
      "[11801,     1] loss: 95.700\n",
      "[11901,     1] loss: 95.708\n",
      "[12001,     1] loss: 95.696\n",
      "[12101,     1] loss: 95.713\n",
      "[12201,     1] loss: 95.701\n",
      "[12301,     1] loss: 95.701\n",
      "[12401,     1] loss: 95.700\n",
      "[12501,     1] loss: 95.696\n",
      "[12601,     1] loss: 95.716\n",
      "[12701,     1] loss: 95.698\n",
      "[12801,     1] loss: 95.773\n",
      "[12901,     1] loss: 95.697\n",
      "[13001,     1] loss: 95.698\n",
      "[13101,     1] loss: 95.701\n",
      "[13201,     1] loss: 95.990\n",
      "[13301,     1] loss: 95.692\n",
      "[13401,     1] loss: 95.696\n",
      "[13501,     1] loss: 95.708\n",
      "[13601,     1] loss: 95.694\n",
      "[13701,     1] loss: 95.712\n",
      "[13801,     1] loss: 95.718\n",
      "[13901,     1] loss: 95.759\n",
      "[14001,     1] loss: 95.689\n",
      "[14101,     1] loss: 95.689\n",
      "[14201,     1] loss: 95.724\n",
      "[14301,     1] loss: 95.726\n",
      "[14401,     1] loss: 95.768\n",
      "[14501,     1] loss: 95.717\n",
      "[14601,     1] loss: 95.686\n",
      "[14701,     1] loss: 95.687\n",
      "[14801,     1] loss: 95.757\n",
      "[14901,     1] loss: 96.015\n",
      "Finished Training\n"
     ]
    }
   ],
   "source": [
    "Niter = 15000\n",
    "saveLoss=np.zeros(Niter)\n",
    "for epoch in range(Niter):  # loop over the dataset multiple times\n",
    "\n",
    "    running_loss = 0.0\n",
    "    for i, data in enumerate(data_loader, 0):\n",
    "        # get the inputs; data is a list of [inputs, labels]\n",
    "        inputs, labels = data\n",
    "\n",
    "        # COMPLETE THE CELL FROM HERE\n",
    "        optimizer.zero_grad() # nullify all the gradients of the parameters (weights)\n",
    "        output = net.forward(inputs) \n",
    "        loss = criterion(output, labels) # tensor that is a function of parameters => we have a computation graph\n",
    "        loss.backward() # loss is the root node of the tree, input are the leafs : auto differentiation of the computational graph\n",
    "        optimizer.step() # optimizer step apply to net.parameters() : it uses the gradiant of all parameters calculated by the\n",
    "    if epoch % 100 == 0 : \n",
    "        print('[%d, %5d] loss: %.3f' % (epoch + 1, i + 1, loss.item()))\n",
    "    saveLoss[epoch] = loss.item()\n",
    "print('Finished Training')"
   ]
  },
  {
   "cell_type": "code",
   "execution_count": 97,
   "metadata": {},
   "outputs": [
    {
     "data": {
      "image/png": "[encoded data removed]",
      "text/plain": [
       "<Figure size 432x288 with 1 Axes>"
      ]
     },
     "metadata": {
      "needs_background": "light"
     },
     "output_type": "display_data"
    }
   ],
   "source": [
    "fig, ax = plt.subplots()\n",
    "plt.plot(range(Niter),saveLoss,'b-',label='Training error')\n",
    "plt.xlabel('Epoch')\n",
    "plt.ylabel('MSE')\n",
    "ax.legend()\n",
    "plt.show()"
   ]
  },
  {
   "cell_type": "code",
   "execution_count": null,
   "metadata": {},
   "outputs": [],
   "source": []
  },
  {
   "cell_type": "code",
   "execution_count": null,
   "metadata": {},
   "outputs": [],
   "source": []
  },
  {
   "cell_type": "code",
   "execution_count": 98,
   "metadata": {
    "executionInfo": {
     "elapsed": 4109,
     "status": "aborted",
     "timestamp": 1602009013835,
     "user": {
      "displayName": "Lionel Fillatre",
      "photoUrl": "",
      "userId": "14463393848879581998"
     },
     "user_tz": -120
    },
    "id": "fY4nUy-13H1e"
   },
   "outputs": [
    {
     "data": {
      "image/png": "[encoded data removed]",
      "text/plain": [
       "<Figure size 432x288 with 1 Axes>"
      ]
     },
     "metadata": {
      "needs_background": "light"
     },
     "output_type": "display_data"
    }
   ],
   "source": [
    "y_pred = net(x)\n",
    "fig, ax = plt.subplots()\n",
    "plt.plot(x.numpy(), y.numpy(),'r-',label='Quartic function')\n",
    "plt.plot(x.numpy(), y_pred.detach().numpy(),'bo-',label='Deep approximation')\n",
    "plt.xlabel('$x$')\n",
    "plt.ylabel('$f(x)$')\n",
    "ax.legend()\n",
    "plt.show()"
   ]
  },
  {
   "cell_type": "code",
   "execution_count": 99,
   "metadata": {
    "executionInfo": {
     "elapsed": 4107,
     "status": "aborted",
     "timestamp": 1602009013835,
     "user": {
      "displayName": "Lionel Fillatre",
      "photoUrl": "",
      "userId": "14463393848879581998"
     },
     "user_tz": -120
    },
    "id": "oaIZaCpV3Az9"
   },
   "outputs": [
    {
     "name": "stdout",
     "output_type": "stream",
     "text": [
      "\n",
      "Total number of parameters 301\n",
      "\n"
     ]
    }
   ],
   "source": [
    "print(\"\\nTotal number of parameters {}\\n\".format(count_parameters(net)))"
   ]
  },
  {
   "cell_type": "code",
   "execution_count": null,
   "metadata": {},
   "outputs": [],
   "source": []
  }
 ],
 "metadata": {
  "colab": {
   "collapsed_sections": [],
   "name": "DSTI_DL_Lab5_October2020.ipynb",
   "provenance": [],
   "toc_visible": true
  },
  "kernelspec": {
   "display_name": "Python 3",
   "language": "python",
   "name": "python3"
  },
  "language_info": {
   "codemirror_mode": {
    "name": "ipython",
    "version": 3
   },
   "file_extension": ".py",
   "mimetype": "text/x-python",
   "name": "python",
   "nbconvert_exporter": "python",
   "pygments_lexer": "ipython3",
   "version": "3.8.5"
  }
 },
 "nbformat": 4,
 "nbformat_minor": 1
}